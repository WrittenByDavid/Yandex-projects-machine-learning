{
 "cells": [
  {
   "cell_type": "markdown",
   "id": "287928dc",
   "metadata": {},
   "source": [
    "# Описание проекта"
   ]
  },
  {
   "cell_type": "markdown",
   "id": "c4aa2076",
   "metadata": {},
   "source": [
    "### Цели и задачи проекта"
   ]
  },
  {
   "cell_type": "markdown",
   "id": "bf614b1e",
   "metadata": {},
   "source": [
    "Из «Бета-Банка» стали уходить клиенты. Каждый месяц. Немного, но заметно. Банковские маркетологи посчитали: сохранять текущих клиентов дешевле, чем привлекать новых. Нужно спрогнозировать, уйдёт клиент из банка в ближайшее время или нет. Для этого необходимо построить модель с предельно большим значением `F1-меры` превышающим значение 0.59."
   ]
  },
  {
   "cell_type": "markdown",
   "id": "cfdb9c81",
   "metadata": {},
   "source": [
    "### Описание данных"
   ]
  },
  {
   "cell_type": "markdown",
   "id": "4247ed93",
   "metadata": {},
   "source": [
    "Банк предоставил исторические данные о поведении клиентов и расторжении договоров с банком. Данные находятся в файле `Churn.csv` со следующими признаками:\n",
    "+ `RowNumber` — индекс строки в данных\n",
    "+ `CustomerId` — уникальный идентификатор клиента\n",
    "+ `Surname` — фамилия\n",
    "+ `CreditScore` — кредитный рейтинг\n",
    "+ `Geography` — страна проживания\n",
    "+ `Gender` — пол\n",
    "+ `Age` — возраст\n",
    "+ `Tenure` — сколько лет человек является клиентом банка\n",
    "+ `Balance` — баланс на счёте\n",
    "+ `NumOfProducts` — количество продуктов банка, используемых клиентом\n",
    "+ `HasCrCard` — наличие кредитной карты\n",
    "+ `IsActiveMember` — активность клиента\n",
    "+ `EstimatedSalary` — предполагаемая зарплата\n",
    "+ `Exited` — факт ухода клиента"
   ]
  },
  {
   "cell_type": "markdown",
   "id": "5a0c8669",
   "metadata": {},
   "source": [
    "### План работы"
   ]
  },
  {
   "cell_type": "markdown",
   "id": "54311395",
   "metadata": {},
   "source": [
    "+ Подготовим данные\n",
    "+ Исследуем баланс классов\n",
    "+ Обучим разные модели с разными параметрами и найдём лучший вариант\n",
    "+ Проведём финальное тестирование"
   ]
  },
  {
   "cell_type": "markdown",
   "id": "8037af55",
   "metadata": {},
   "source": [
    "# Обзор данных"
   ]
  },
  {
   "cell_type": "code",
   "execution_count": 1,
   "id": "1082845e",
   "metadata": {},
   "outputs": [
    {
     "data": {
      "text/html": [
       "<div>\n",
       "<style scoped>\n",
       "    .dataframe tbody tr th:only-of-type {\n",
       "        vertical-align: middle;\n",
       "    }\n",
       "\n",
       "    .dataframe tbody tr th {\n",
       "        vertical-align: top;\n",
       "    }\n",
       "\n",
       "    .dataframe thead th {\n",
       "        text-align: right;\n",
       "    }\n",
       "</style>\n",
       "<table border=\"1\" class=\"dataframe\">\n",
       "  <thead>\n",
       "    <tr style=\"text-align: right;\">\n",
       "      <th></th>\n",
       "      <th>RowNumber</th>\n",
       "      <th>CustomerId</th>\n",
       "      <th>Surname</th>\n",
       "      <th>CreditScore</th>\n",
       "      <th>Geography</th>\n",
       "      <th>Gender</th>\n",
       "      <th>Age</th>\n",
       "      <th>Tenure</th>\n",
       "      <th>Balance</th>\n",
       "      <th>NumOfProducts</th>\n",
       "      <th>HasCrCard</th>\n",
       "      <th>IsActiveMember</th>\n",
       "      <th>EstimatedSalary</th>\n",
       "      <th>Exited</th>\n",
       "    </tr>\n",
       "  </thead>\n",
       "  <tbody>\n",
       "    <tr>\n",
       "      <th>0</th>\n",
       "      <td>1</td>\n",
       "      <td>15634602</td>\n",
       "      <td>Hargrave</td>\n",
       "      <td>619</td>\n",
       "      <td>France</td>\n",
       "      <td>Female</td>\n",
       "      <td>42</td>\n",
       "      <td>2.0</td>\n",
       "      <td>0.00</td>\n",
       "      <td>1</td>\n",
       "      <td>1</td>\n",
       "      <td>1</td>\n",
       "      <td>101348.88</td>\n",
       "      <td>1</td>\n",
       "    </tr>\n",
       "    <tr>\n",
       "      <th>1</th>\n",
       "      <td>2</td>\n",
       "      <td>15647311</td>\n",
       "      <td>Hill</td>\n",
       "      <td>608</td>\n",
       "      <td>Spain</td>\n",
       "      <td>Female</td>\n",
       "      <td>41</td>\n",
       "      <td>1.0</td>\n",
       "      <td>83807.86</td>\n",
       "      <td>1</td>\n",
       "      <td>0</td>\n",
       "      <td>1</td>\n",
       "      <td>112542.58</td>\n",
       "      <td>0</td>\n",
       "    </tr>\n",
       "    <tr>\n",
       "      <th>2</th>\n",
       "      <td>3</td>\n",
       "      <td>15619304</td>\n",
       "      <td>Onio</td>\n",
       "      <td>502</td>\n",
       "      <td>France</td>\n",
       "      <td>Female</td>\n",
       "      <td>42</td>\n",
       "      <td>8.0</td>\n",
       "      <td>159660.80</td>\n",
       "      <td>3</td>\n",
       "      <td>1</td>\n",
       "      <td>0</td>\n",
       "      <td>113931.57</td>\n",
       "      <td>1</td>\n",
       "    </tr>\n",
       "    <tr>\n",
       "      <th>3</th>\n",
       "      <td>4</td>\n",
       "      <td>15701354</td>\n",
       "      <td>Boni</td>\n",
       "      <td>699</td>\n",
       "      <td>France</td>\n",
       "      <td>Female</td>\n",
       "      <td>39</td>\n",
       "      <td>1.0</td>\n",
       "      <td>0.00</td>\n",
       "      <td>2</td>\n",
       "      <td>0</td>\n",
       "      <td>0</td>\n",
       "      <td>93826.63</td>\n",
       "      <td>0</td>\n",
       "    </tr>\n",
       "    <tr>\n",
       "      <th>4</th>\n",
       "      <td>5</td>\n",
       "      <td>15737888</td>\n",
       "      <td>Mitchell</td>\n",
       "      <td>850</td>\n",
       "      <td>Spain</td>\n",
       "      <td>Female</td>\n",
       "      <td>43</td>\n",
       "      <td>2.0</td>\n",
       "      <td>125510.82</td>\n",
       "      <td>1</td>\n",
       "      <td>1</td>\n",
       "      <td>1</td>\n",
       "      <td>79084.10</td>\n",
       "      <td>0</td>\n",
       "    </tr>\n",
       "    <tr>\n",
       "      <th>5</th>\n",
       "      <td>6</td>\n",
       "      <td>15574012</td>\n",
       "      <td>Chu</td>\n",
       "      <td>645</td>\n",
       "      <td>Spain</td>\n",
       "      <td>Male</td>\n",
       "      <td>44</td>\n",
       "      <td>8.0</td>\n",
       "      <td>113755.78</td>\n",
       "      <td>2</td>\n",
       "      <td>1</td>\n",
       "      <td>0</td>\n",
       "      <td>149756.71</td>\n",
       "      <td>1</td>\n",
       "    </tr>\n",
       "    <tr>\n",
       "      <th>6</th>\n",
       "      <td>7</td>\n",
       "      <td>15592531</td>\n",
       "      <td>Bartlett</td>\n",
       "      <td>822</td>\n",
       "      <td>France</td>\n",
       "      <td>Male</td>\n",
       "      <td>50</td>\n",
       "      <td>7.0</td>\n",
       "      <td>0.00</td>\n",
       "      <td>2</td>\n",
       "      <td>1</td>\n",
       "      <td>1</td>\n",
       "      <td>10062.80</td>\n",
       "      <td>0</td>\n",
       "    </tr>\n",
       "    <tr>\n",
       "      <th>7</th>\n",
       "      <td>8</td>\n",
       "      <td>15656148</td>\n",
       "      <td>Obinna</td>\n",
       "      <td>376</td>\n",
       "      <td>Germany</td>\n",
       "      <td>Female</td>\n",
       "      <td>29</td>\n",
       "      <td>4.0</td>\n",
       "      <td>115046.74</td>\n",
       "      <td>4</td>\n",
       "      <td>1</td>\n",
       "      <td>0</td>\n",
       "      <td>119346.88</td>\n",
       "      <td>1</td>\n",
       "    </tr>\n",
       "    <tr>\n",
       "      <th>8</th>\n",
       "      <td>9</td>\n",
       "      <td>15792365</td>\n",
       "      <td>He</td>\n",
       "      <td>501</td>\n",
       "      <td>France</td>\n",
       "      <td>Male</td>\n",
       "      <td>44</td>\n",
       "      <td>4.0</td>\n",
       "      <td>142051.07</td>\n",
       "      <td>2</td>\n",
       "      <td>0</td>\n",
       "      <td>1</td>\n",
       "      <td>74940.50</td>\n",
       "      <td>0</td>\n",
       "    </tr>\n",
       "    <tr>\n",
       "      <th>9</th>\n",
       "      <td>10</td>\n",
       "      <td>15592389</td>\n",
       "      <td>H?</td>\n",
       "      <td>684</td>\n",
       "      <td>France</td>\n",
       "      <td>Male</td>\n",
       "      <td>27</td>\n",
       "      <td>2.0</td>\n",
       "      <td>134603.88</td>\n",
       "      <td>1</td>\n",
       "      <td>1</td>\n",
       "      <td>1</td>\n",
       "      <td>71725.73</td>\n",
       "      <td>0</td>\n",
       "    </tr>\n",
       "  </tbody>\n",
       "</table>\n",
       "</div>"
      ],
      "text/plain": [
       "   RowNumber  CustomerId   Surname  CreditScore Geography  Gender  Age  \\\n",
       "0          1    15634602  Hargrave          619    France  Female   42   \n",
       "1          2    15647311      Hill          608     Spain  Female   41   \n",
       "2          3    15619304      Onio          502    France  Female   42   \n",
       "3          4    15701354      Boni          699    France  Female   39   \n",
       "4          5    15737888  Mitchell          850     Spain  Female   43   \n",
       "5          6    15574012       Chu          645     Spain    Male   44   \n",
       "6          7    15592531  Bartlett          822    France    Male   50   \n",
       "7          8    15656148    Obinna          376   Germany  Female   29   \n",
       "8          9    15792365        He          501    France    Male   44   \n",
       "9         10    15592389        H?          684    France    Male   27   \n",
       "\n",
       "   Tenure    Balance  NumOfProducts  HasCrCard  IsActiveMember  \\\n",
       "0     2.0       0.00              1          1               1   \n",
       "1     1.0   83807.86              1          0               1   \n",
       "2     8.0  159660.80              3          1               0   \n",
       "3     1.0       0.00              2          0               0   \n",
       "4     2.0  125510.82              1          1               1   \n",
       "5     8.0  113755.78              2          1               0   \n",
       "6     7.0       0.00              2          1               1   \n",
       "7     4.0  115046.74              4          1               0   \n",
       "8     4.0  142051.07              2          0               1   \n",
       "9     2.0  134603.88              1          1               1   \n",
       "\n",
       "   EstimatedSalary  Exited  \n",
       "0        101348.88       1  \n",
       "1        112542.58       0  \n",
       "2        113931.57       1  \n",
       "3         93826.63       0  \n",
       "4         79084.10       0  \n",
       "5        149756.71       1  \n",
       "6         10062.80       0  \n",
       "7        119346.88       1  \n",
       "8         74940.50       0  \n",
       "9         71725.73       0  "
      ]
     },
     "execution_count": 1,
     "metadata": {},
     "output_type": "execute_result"
    }
   ],
   "source": [
    "import pandas as pd\n",
    "import matplotlib.pyplot as plt\n",
    "from sklearn.model_selection import train_test_split\n",
    "from sklearn.preprocessing import StandardScaler\n",
    "from sklearn.utils import shuffle\n",
    "from sklearn.metrics import f1_score\n",
    "from sklearn.metrics import roc_auc_score\n",
    "from sklearn.tree import DecisionTreeClassifier\n",
    "from sklearn.ensemble import RandomForestClassifier\n",
    "from sklearn.linear_model import LogisticRegression\n",
    "\n",
    "try:\n",
    "    df = pd.read_csv('Churn.csv')\n",
    "except:\n",
    "    df = pd.read_csv('/datasets/Churn.csv')\n",
    "\n",
    "df.head(10)"
   ]
  },
  {
   "cell_type": "code",
   "execution_count": 2,
   "id": "55263eb8",
   "metadata": {},
   "outputs": [
    {
     "data": {
      "text/html": [
       "<div>\n",
       "<style scoped>\n",
       "    .dataframe tbody tr th:only-of-type {\n",
       "        vertical-align: middle;\n",
       "    }\n",
       "\n",
       "    .dataframe tbody tr th {\n",
       "        vertical-align: top;\n",
       "    }\n",
       "\n",
       "    .dataframe thead th {\n",
       "        text-align: right;\n",
       "    }\n",
       "</style>\n",
       "<table border=\"1\" class=\"dataframe\">\n",
       "  <thead>\n",
       "    <tr style=\"text-align: right;\">\n",
       "      <th></th>\n",
       "      <th>RowNumber</th>\n",
       "      <th>CustomerId</th>\n",
       "      <th>Surname</th>\n",
       "      <th>CreditScore</th>\n",
       "      <th>Geography</th>\n",
       "      <th>Gender</th>\n",
       "      <th>Age</th>\n",
       "      <th>Tenure</th>\n",
       "      <th>Balance</th>\n",
       "      <th>NumOfProducts</th>\n",
       "      <th>HasCrCard</th>\n",
       "      <th>IsActiveMember</th>\n",
       "      <th>EstimatedSalary</th>\n",
       "      <th>Exited</th>\n",
       "    </tr>\n",
       "  </thead>\n",
       "  <tbody>\n",
       "    <tr>\n",
       "      <th>9990</th>\n",
       "      <td>9991</td>\n",
       "      <td>15798964</td>\n",
       "      <td>Nkemakonam</td>\n",
       "      <td>714</td>\n",
       "      <td>Germany</td>\n",
       "      <td>Male</td>\n",
       "      <td>33</td>\n",
       "      <td>3.0</td>\n",
       "      <td>35016.60</td>\n",
       "      <td>1</td>\n",
       "      <td>1</td>\n",
       "      <td>0</td>\n",
       "      <td>53667.08</td>\n",
       "      <td>0</td>\n",
       "    </tr>\n",
       "    <tr>\n",
       "      <th>9991</th>\n",
       "      <td>9992</td>\n",
       "      <td>15769959</td>\n",
       "      <td>Ajuluchukwu</td>\n",
       "      <td>597</td>\n",
       "      <td>France</td>\n",
       "      <td>Female</td>\n",
       "      <td>53</td>\n",
       "      <td>4.0</td>\n",
       "      <td>88381.21</td>\n",
       "      <td>1</td>\n",
       "      <td>1</td>\n",
       "      <td>0</td>\n",
       "      <td>69384.71</td>\n",
       "      <td>1</td>\n",
       "    </tr>\n",
       "    <tr>\n",
       "      <th>9992</th>\n",
       "      <td>9993</td>\n",
       "      <td>15657105</td>\n",
       "      <td>Chukwualuka</td>\n",
       "      <td>726</td>\n",
       "      <td>Spain</td>\n",
       "      <td>Male</td>\n",
       "      <td>36</td>\n",
       "      <td>2.0</td>\n",
       "      <td>0.00</td>\n",
       "      <td>1</td>\n",
       "      <td>1</td>\n",
       "      <td>0</td>\n",
       "      <td>195192.40</td>\n",
       "      <td>0</td>\n",
       "    </tr>\n",
       "    <tr>\n",
       "      <th>9993</th>\n",
       "      <td>9994</td>\n",
       "      <td>15569266</td>\n",
       "      <td>Rahman</td>\n",
       "      <td>644</td>\n",
       "      <td>France</td>\n",
       "      <td>Male</td>\n",
       "      <td>28</td>\n",
       "      <td>7.0</td>\n",
       "      <td>155060.41</td>\n",
       "      <td>1</td>\n",
       "      <td>1</td>\n",
       "      <td>0</td>\n",
       "      <td>29179.52</td>\n",
       "      <td>0</td>\n",
       "    </tr>\n",
       "    <tr>\n",
       "      <th>9994</th>\n",
       "      <td>9995</td>\n",
       "      <td>15719294</td>\n",
       "      <td>Wood</td>\n",
       "      <td>800</td>\n",
       "      <td>France</td>\n",
       "      <td>Female</td>\n",
       "      <td>29</td>\n",
       "      <td>2.0</td>\n",
       "      <td>0.00</td>\n",
       "      <td>2</td>\n",
       "      <td>0</td>\n",
       "      <td>0</td>\n",
       "      <td>167773.55</td>\n",
       "      <td>0</td>\n",
       "    </tr>\n",
       "    <tr>\n",
       "      <th>9995</th>\n",
       "      <td>9996</td>\n",
       "      <td>15606229</td>\n",
       "      <td>Obijiaku</td>\n",
       "      <td>771</td>\n",
       "      <td>France</td>\n",
       "      <td>Male</td>\n",
       "      <td>39</td>\n",
       "      <td>5.0</td>\n",
       "      <td>0.00</td>\n",
       "      <td>2</td>\n",
       "      <td>1</td>\n",
       "      <td>0</td>\n",
       "      <td>96270.64</td>\n",
       "      <td>0</td>\n",
       "    </tr>\n",
       "    <tr>\n",
       "      <th>9996</th>\n",
       "      <td>9997</td>\n",
       "      <td>15569892</td>\n",
       "      <td>Johnstone</td>\n",
       "      <td>516</td>\n",
       "      <td>France</td>\n",
       "      <td>Male</td>\n",
       "      <td>35</td>\n",
       "      <td>10.0</td>\n",
       "      <td>57369.61</td>\n",
       "      <td>1</td>\n",
       "      <td>1</td>\n",
       "      <td>1</td>\n",
       "      <td>101699.77</td>\n",
       "      <td>0</td>\n",
       "    </tr>\n",
       "    <tr>\n",
       "      <th>9997</th>\n",
       "      <td>9998</td>\n",
       "      <td>15584532</td>\n",
       "      <td>Liu</td>\n",
       "      <td>709</td>\n",
       "      <td>France</td>\n",
       "      <td>Female</td>\n",
       "      <td>36</td>\n",
       "      <td>7.0</td>\n",
       "      <td>0.00</td>\n",
       "      <td>1</td>\n",
       "      <td>0</td>\n",
       "      <td>1</td>\n",
       "      <td>42085.58</td>\n",
       "      <td>1</td>\n",
       "    </tr>\n",
       "    <tr>\n",
       "      <th>9998</th>\n",
       "      <td>9999</td>\n",
       "      <td>15682355</td>\n",
       "      <td>Sabbatini</td>\n",
       "      <td>772</td>\n",
       "      <td>Germany</td>\n",
       "      <td>Male</td>\n",
       "      <td>42</td>\n",
       "      <td>3.0</td>\n",
       "      <td>75075.31</td>\n",
       "      <td>2</td>\n",
       "      <td>1</td>\n",
       "      <td>0</td>\n",
       "      <td>92888.52</td>\n",
       "      <td>1</td>\n",
       "    </tr>\n",
       "    <tr>\n",
       "      <th>9999</th>\n",
       "      <td>10000</td>\n",
       "      <td>15628319</td>\n",
       "      <td>Walker</td>\n",
       "      <td>792</td>\n",
       "      <td>France</td>\n",
       "      <td>Female</td>\n",
       "      <td>28</td>\n",
       "      <td>NaN</td>\n",
       "      <td>130142.79</td>\n",
       "      <td>1</td>\n",
       "      <td>1</td>\n",
       "      <td>0</td>\n",
       "      <td>38190.78</td>\n",
       "      <td>0</td>\n",
       "    </tr>\n",
       "  </tbody>\n",
       "</table>\n",
       "</div>"
      ],
      "text/plain": [
       "      RowNumber  CustomerId      Surname  CreditScore Geography  Gender  Age  \\\n",
       "9990       9991    15798964   Nkemakonam          714   Germany    Male   33   \n",
       "9991       9992    15769959  Ajuluchukwu          597    France  Female   53   \n",
       "9992       9993    15657105  Chukwualuka          726     Spain    Male   36   \n",
       "9993       9994    15569266       Rahman          644    France    Male   28   \n",
       "9994       9995    15719294         Wood          800    France  Female   29   \n",
       "9995       9996    15606229     Obijiaku          771    France    Male   39   \n",
       "9996       9997    15569892    Johnstone          516    France    Male   35   \n",
       "9997       9998    15584532          Liu          709    France  Female   36   \n",
       "9998       9999    15682355    Sabbatini          772   Germany    Male   42   \n",
       "9999      10000    15628319       Walker          792    France  Female   28   \n",
       "\n",
       "      Tenure    Balance  NumOfProducts  HasCrCard  IsActiveMember  \\\n",
       "9990     3.0   35016.60              1          1               0   \n",
       "9991     4.0   88381.21              1          1               0   \n",
       "9992     2.0       0.00              1          1               0   \n",
       "9993     7.0  155060.41              1          1               0   \n",
       "9994     2.0       0.00              2          0               0   \n",
       "9995     5.0       0.00              2          1               0   \n",
       "9996    10.0   57369.61              1          1               1   \n",
       "9997     7.0       0.00              1          0               1   \n",
       "9998     3.0   75075.31              2          1               0   \n",
       "9999     NaN  130142.79              1          1               0   \n",
       "\n",
       "      EstimatedSalary  Exited  \n",
       "9990         53667.08       0  \n",
       "9991         69384.71       1  \n",
       "9992        195192.40       0  \n",
       "9993         29179.52       0  \n",
       "9994        167773.55       0  \n",
       "9995         96270.64       0  \n",
       "9996        101699.77       0  \n",
       "9997         42085.58       1  \n",
       "9998         92888.52       1  \n",
       "9999         38190.78       0  "
      ]
     },
     "execution_count": 2,
     "metadata": {},
     "output_type": "execute_result"
    }
   ],
   "source": [
    "df.tail(10)"
   ]
  },
  {
   "cell_type": "code",
   "execution_count": 3,
   "id": "f739f2f2",
   "metadata": {},
   "outputs": [
    {
     "data": {
      "text/plain": [
       "(10000, 14)"
      ]
     },
     "execution_count": 3,
     "metadata": {},
     "output_type": "execute_result"
    }
   ],
   "source": [
    "df.shape"
   ]
  },
  {
   "cell_type": "code",
   "execution_count": 4,
   "id": "7b8329d2",
   "metadata": {},
   "outputs": [
    {
     "name": "stdout",
     "output_type": "stream",
     "text": [
      "<class 'pandas.core.frame.DataFrame'>\n",
      "RangeIndex: 10000 entries, 0 to 9999\n",
      "Data columns (total 14 columns):\n",
      " #   Column           Non-Null Count  Dtype  \n",
      "---  ------           --------------  -----  \n",
      " 0   RowNumber        10000 non-null  int64  \n",
      " 1   CustomerId       10000 non-null  int64  \n",
      " 2   Surname          10000 non-null  object \n",
      " 3   CreditScore      10000 non-null  int64  \n",
      " 4   Geography        10000 non-null  object \n",
      " 5   Gender           10000 non-null  object \n",
      " 6   Age              10000 non-null  int64  \n",
      " 7   Tenure           9091 non-null   float64\n",
      " 8   Balance          10000 non-null  float64\n",
      " 9   NumOfProducts    10000 non-null  int64  \n",
      " 10  HasCrCard        10000 non-null  int64  \n",
      " 11  IsActiveMember   10000 non-null  int64  \n",
      " 12  EstimatedSalary  10000 non-null  float64\n",
      " 13  Exited           10000 non-null  int64  \n",
      "dtypes: float64(3), int64(8), object(3)\n",
      "memory usage: 1.1+ MB\n"
     ]
    }
   ],
   "source": [
    "df.info()"
   ]
  },
  {
   "cell_type": "code",
   "execution_count": 5,
   "id": "ac97d898",
   "metadata": {},
   "outputs": [
    {
     "data": {
      "text/plain": [
       "Index(['RowNumber', 'CustomerId', 'Surname', 'CreditScore', 'Geography',\n",
       "       'Gender', 'Age', 'Tenure', 'Balance', 'NumOfProducts', 'HasCrCard',\n",
       "       'IsActiveMember', 'EstimatedSalary', 'Exited'],\n",
       "      dtype='object')"
      ]
     },
     "execution_count": 5,
     "metadata": {},
     "output_type": "execute_result"
    }
   ],
   "source": [
    "df.columns"
   ]
  },
  {
   "cell_type": "markdown",
   "id": "d8254eae",
   "metadata": {},
   "source": [
    "В названиях колонок присутствуют заглавные буквы. Приведём все названия к единому стилю `snake_case`."
   ]
  },
  {
   "cell_type": "code",
   "execution_count": 6,
   "id": "c279df4f",
   "metadata": {},
   "outputs": [],
   "source": [
    "df = df.rename(\n",
    "    columns={\n",
    "        'RowNumber': 'row_number',\n",
    "        'CustomerId': 'customer_id',\n",
    "        'Surname': 'surname',\n",
    "        'CreditScore': 'credit_score',\n",
    "        'Geography': 'geography',\n",
    "        'Gender': 'gender',\n",
    "        'Age': 'age',\n",
    "        'Tenure': 'tenure',\n",
    "        'Balance': 'balance',\n",
    "        'NumOfProducts': 'num_of_products',\n",
    "        'HasCrCard': 'has_cr_card',\n",
    "        'IsActiveMember': 'is_active_member',\n",
    "        'EstimatedSalary': 'estimated_salary',\n",
    "        'Exited': 'exited',\n",
    "    }\n",
    ")"
   ]
  },
  {
   "cell_type": "markdown",
   "id": "cb93ebd7",
   "metadata": {},
   "source": [
    "Ещё раз посмотрим названия колонок таблицы `df` после сделанных изменений и опишем данные в каждом столбце."
   ]
  },
  {
   "cell_type": "code",
   "execution_count": 7,
   "id": "a4534b4d",
   "metadata": {},
   "outputs": [
    {
     "data": {
      "text/plain": [
       "Index(['row_number', 'customer_id', 'surname', 'credit_score', 'geography',\n",
       "       'gender', 'age', 'tenure', 'balance', 'num_of_products', 'has_cr_card',\n",
       "       'is_active_member', 'estimated_salary', 'exited'],\n",
       "      dtype='object')"
      ]
     },
     "execution_count": 7,
     "metadata": {},
     "output_type": "execute_result"
    }
   ],
   "source": [
    "df.columns"
   ]
  },
  {
   "cell_type": "markdown",
   "id": "688c4eb3",
   "metadata": {},
   "source": [
    "Описание данных в столбцах:\n",
    "\n",
    "+ `row_number` — индекс строки в данных\n",
    "+ `customer_id` — уникальный идентификатор клиента\n",
    "+ `surname` — фамилия\n",
    "+ `credit_score` — кредитный рейтинг\n",
    "+ `geography` — страна проживания\n",
    "+ `gender` — пол\n",
    "+ `age` — возраст\n",
    "+ `tenure` — сколько лет человек является клиентом банка\n",
    "+ `balance` — баланс на счёте\n",
    "+ `num_of_products` — количество продуктов банка, используемых клиентом\n",
    "+ `has_cr_card` — наличие кредитной карты\n",
    "+ `is_active_member` — активность клиента\n",
    "+ `estimated_salary` — предполагаемая зарплата\n",
    "+ `exited` — факт ухода клиента\n",
    "\n",
    "В нашем наборе данных столбец `exited` — это целевой признак, который нужно предсказать по остальным признакам. Так как целевой признак категориальный и категорий всего две (1 или 0), то мы имеем дело с задачей <b>бинарной классификации</b>."
   ]
  },
  {
   "cell_type": "markdown",
   "id": "94aaed20",
   "metadata": {},
   "source": [
    "# Подготовка данных"
   ]
  },
  {
   "cell_type": "markdown",
   "id": "87fef415",
   "metadata": {},
   "source": [
    "Будем придерживаться принципа GIGO (garbage in, garbage out) и постараемся максимально качественно подготовить наши данные. Для начала проверим наши данные на наличие явных дубликатов, чтобы избежать обучения модели на одних и тех же клиентах банка."
   ]
  },
  {
   "cell_type": "code",
   "execution_count": 8,
   "id": "ff0f9043",
   "metadata": {},
   "outputs": [
    {
     "data": {
      "text/plain": [
       "0"
      ]
     },
     "execution_count": 8,
     "metadata": {},
     "output_type": "execute_result"
    }
   ],
   "source": [
    "df.duplicated().sum()"
   ]
  },
  {
   "cell_type": "markdown",
   "id": "3b6d4416",
   "metadata": {},
   "source": [
    "Признаки `row_number`, `customer_id` и `surname` никак не помогут нашей модели в предсказании целевого признака, поэтому просто удалим их. Также на этапе обзора данных было выявлено, что в столбце `tenure` есть пропуски, которые составляют 9% от общего объёма данных. Удалим их."
   ]
  },
  {
   "cell_type": "code",
   "execution_count": 9,
   "id": "c79a6906",
   "metadata": {},
   "outputs": [],
   "source": [
    "df = df.drop(['row_number', 'customer_id', 'surname'] , axis=1)\n",
    "df = df.dropna(subset=['tenure'])"
   ]
  },
  {
   "cell_type": "markdown",
   "id": "9a961178",
   "metadata": {},
   "source": [
    "Признаки `geography` и `gender` — категориальные и имеют тип `object`. Приведём их к типу `int`, используя технику прямого кодирования `OHE`. Также предварительно посмотрим их уникальные значения, чтобы избежать включения случайных значений."
   ]
  },
  {
   "cell_type": "code",
   "execution_count": 10,
   "id": "ed37a71f",
   "metadata": {},
   "outputs": [
    {
     "data": {
      "text/plain": [
       "[array(['France', 'Spain', 'Germany'], dtype=object),\n",
       " array(['Female', 'Male'], dtype=object)]"
      ]
     },
     "execution_count": 10,
     "metadata": {},
     "output_type": "execute_result"
    }
   ],
   "source": [
    "[\n",
    "    df.geography.unique(),\n",
    "    df.gender.unique()\n",
    "]"
   ]
  },
  {
   "cell_type": "code",
   "execution_count": 11,
   "id": "2bef6aa7",
   "metadata": {},
   "outputs": [],
   "source": [
    "df = pd.get_dummies(df, drop_first=True)"
   ]
  },
  {
   "cell_type": "markdown",
   "id": "49b757db",
   "metadata": {},
   "source": [
    "Признаки `tenure`, `balance` и `estimated_salary` приведём к типу `int`, так как нет никакой необходимости держать их в типе `float`."
   ]
  },
  {
   "cell_type": "code",
   "execution_count": 12,
   "id": "4dd9bc6b",
   "metadata": {},
   "outputs": [],
   "source": [
    "df = df.astype({\n",
    "    'tenure': 'int',\n",
    "    'balance': 'int',\n",
    "    'estimated_salary': 'int'\n",
    "})"
   ]
  },
  {
   "cell_type": "markdown",
   "id": "d087217a",
   "metadata": {},
   "source": [
    "Напоследок посмотрим уникальные значения оставшихся признаков на предмет выбивающихся значений."
   ]
  },
  {
   "cell_type": "code",
   "execution_count": 13,
   "id": "4ce146dd",
   "metadata": {},
   "outputs": [
    {
     "data": {
      "text/plain": [
       "[array([18, 19, 20, 21, 22, 23, 24, 25, 26, 27, 28, 29, 30, 31, 32, 33, 34,\n",
       "        35, 36, 37, 38, 39, 40, 41, 42, 43, 44, 45, 46, 47, 48, 49, 50, 51,\n",
       "        52, 53, 54, 55, 56, 57, 58, 59, 60, 61, 62, 63, 64, 65, 66, 67, 68,\n",
       "        69, 70, 71, 72, 73, 74, 75, 76, 77, 78, 79, 80, 81, 82, 83, 84, 85,\n",
       "        88, 92], dtype=int64),\n",
       " array([ 0,  1,  2,  3,  4,  5,  6,  7,  8,  9, 10]),\n",
       " array([1, 3, 2, 4], dtype=int64),\n",
       " array([1, 0], dtype=int64),\n",
       " array([1, 0], dtype=int64),\n",
       " array([1, 0], dtype=int64)]"
      ]
     },
     "execution_count": 13,
     "metadata": {},
     "output_type": "execute_result"
    }
   ],
   "source": [
    "[\n",
    "    df.age.sort_values().unique(),\n",
    "    df.tenure.sort_values().unique(),\n",
    "    df.num_of_products.unique(),\n",
    "    df.has_cr_card.unique(),\n",
    "    df.is_active_member.unique(),\n",
    "    df.exited.unique()\n",
    "]"
   ]
  },
  {
   "cell_type": "markdown",
   "id": "b3debf57",
   "metadata": {},
   "source": [
    "У признаков `balance` и `estimated_salary` проверим минимум и максимум."
   ]
  },
  {
   "cell_type": "code",
   "execution_count": 14,
   "id": "acd5843f",
   "metadata": {},
   "outputs": [
    {
     "data": {
      "text/plain": [
       "[0, 250898, 11, 199992]"
      ]
     },
     "execution_count": 14,
     "metadata": {},
     "output_type": "execute_result"
    }
   ],
   "source": [
    "[\n",
    "    df.balance.min(),\n",
    "    df.balance.max(),\n",
    "    df.estimated_salary.min(),\n",
    "    df.estimated_salary.max()\n",
    "]"
   ]
  },
  {
   "cell_type": "markdown",
   "id": "5a22c3fe",
   "metadata": {},
   "source": [
    "Выбивающимся выглядит только значение минимальной предпологаемой зарплаты, размером в 11 рублей. Построим гистограмму, чтобы увидеть весь диапазон значений."
   ]
  },
  {
   "cell_type": "code",
   "execution_count": 15,
   "id": "de8894d7",
   "metadata": {},
   "outputs": [
    {
     "data": {
      "image/png": "[encoded data removed]",
      "text/plain": [
       "<Figure size 432x288 with 1 Axes>"
      ]
     },
     "metadata": {
      "needs_background": "light"
     },
     "output_type": "display_data"
    }
   ],
   "source": [
    "df.estimated_salary.plot(kind='hist', bins=100, grid = True)\n",
    "plt.title('Гистограмма уровня зарплат')\n",
    "plt.xlabel('Зарплата клиента')\n",
    "plt.ylabel('Количество клиентов')\n",
    "plt.show()"
   ]
  },
  {
   "cell_type": "markdown",
   "id": "aec79195",
   "metadata": {},
   "source": [
    "Величина прожиточного минимума колеблется в диапазоне от 10 до 14 тысяч рублей. Поэтому удалим все строки, где значение `estimated_salary` меньше 10 тысяч рублей и проверим сколько строк осталось в нашей таблице `df` после всех изменений."
   ]
  },
  {
   "cell_type": "code",
   "execution_count": 16,
   "id": "f6e7117e",
   "metadata": {},
   "outputs": [
    {
     "data": {
      "text/plain": [
       "8622"
      ]
     },
     "execution_count": 16,
     "metadata": {},
     "output_type": "execute_result"
    }
   ],
   "source": [
    "df = df.query('estimated_salary > 10000')\n",
    "len(df)"
   ]
  },
  {
   "cell_type": "markdown",
   "id": "aad18fd6",
   "metadata": {},
   "source": [
    "Суммарные потери данных составили 13,8% от первоночального объёма. Можем переходить к разбивке данных на выборки."
   ]
  },
  {
   "cell_type": "markdown",
   "id": "1f79003f",
   "metadata": {},
   "source": [
    "# Разбивка данных на выборки"
   ]
  },
  {
   "cell_type": "markdown",
   "id": "caaff68b",
   "metadata": {},
   "source": [
    "Разбивку данных будем проводить в следующем соотношении:\n",
    "+ Обучающая выборка — 60%\n",
    "+ Валидационная выборка — 20%\n",
    "+ Тестовая выборка — 20%"
   ]
  },
  {
   "cell_type": "code",
   "execution_count": 17,
   "id": "4ddd669b",
   "metadata": {},
   "outputs": [],
   "source": [
    "features = df.drop(['exited'] , axis=1)\n",
    "target = df['exited']\n",
    "\n",
    "features_train, features_valid, target_train, target_valid = train_test_split(\n",
    "    features,\n",
    "    target,\n",
    "    test_size=0.4,\n",
    "    random_state=12345,\n",
    "    stratify=target)\n",
    "\n",
    "features_valid, features_test, target_valid, target_test = train_test_split(\n",
    "    features_valid,\n",
    "    target_valid,\n",
    "    test_size=0.5,\n",
    "    random_state=12345,\n",
    "    stratify=target_valid)"
   ]
  },
  {
   "cell_type": "markdown",
   "id": "5e2728f9",
   "metadata": {},
   "source": [
    "Проведём масштабирование данных, так как в признаках присутствует сильный разброс между значениями."
   ]
  },
  {
   "cell_type": "code",
   "execution_count": 18,
   "id": "b998e863",
   "metadata": {},
   "outputs": [],
   "source": [
    "numeric = ['credit_score', 'age', 'tenure', 'balance', 'estimated_salary', 'num_of_products']\n",
    "\n",
    "pd.options.mode.chained_assignment = None\n",
    "scaler = StandardScaler()\n",
    "scaler.fit(features_train[numeric])\n",
    "features_test[numeric] = scaler.transform(features_test[numeric])\n",
    "features_train[numeric] = scaler.transform(features_train[numeric])\n",
    "features_valid[numeric] = scaler.transform(features_valid[numeric])"
   ]
  },
  {
   "cell_type": "markdown",
   "id": "b79ce6e2",
   "metadata": {},
   "source": [
    "# Исследование баланса классов"
   ]
  },
  {
   "cell_type": "markdown",
   "id": "f53d7d01",
   "metadata": {},
   "source": [
    "Посмотрим на соотношение классов целевого признака."
   ]
  },
  {
   "cell_type": "code",
   "execution_count": 19,
   "id": "f26bdd24",
   "metadata": {},
   "outputs": [
    {
     "data": {
      "text/plain": [
       "0    6863\n",
       "1    1759\n",
       "Name: exited, dtype: int64"
      ]
     },
     "execution_count": 19,
     "metadata": {},
     "output_type": "execute_result"
    }
   ],
   "source": [
    "target.value_counts()"
   ]
  },
  {
   "cell_type": "code",
   "execution_count": 20,
   "id": "6ecaa6fc",
   "metadata": {},
   "outputs": [
    {
     "data": {
      "text/plain": [
       "0    0.795987\n",
       "1    0.204013\n",
       "Name: exited, dtype: float64"
      ]
     },
     "execution_count": 20,
     "metadata": {},
     "output_type": "execute_result"
    }
   ],
   "source": [
    "target.value_counts(normalize=True)"
   ]
  },
  {
   "cell_type": "markdown",
   "id": "3387335c",
   "metadata": {},
   "source": [
    "Нулей почти в 4 раза больше, чем единиц. Наблюдается сильный дисбаланс классов. Проведём пробное обучение модели логистической регрессии без учёта дисбаланса и посмотрим на значение метрики `F1-мера`."
   ]
  },
  {
   "cell_type": "code",
   "execution_count": 21,
   "id": "11799d1c",
   "metadata": {},
   "outputs": [
    {
     "data": {
      "text/plain": [
       "0.31223628691983124"
      ]
     },
     "execution_count": 21,
     "metadata": {},
     "output_type": "execute_result"
    }
   ],
   "source": [
    "model = LogisticRegression(random_state=12345, solver='liblinear')\n",
    "model.fit(features_train, target_train)\n",
    "predicted_valid = model.predict(features_valid)\n",
    "result = f1_score(target_valid, predicted_valid)\n",
    "result"
   ]
  },
  {
   "cell_type": "markdown",
   "id": "b38207af",
   "metadata": {},
   "source": [
    "Значение `F1-меры` не нулевое, но хуже модели, где значения угадывались бы просто рандомно. Прогноз класса `1` не удался. Теперь проведём пробное обучение модели логистической регрессии с учётом дисбаланса. Сделаем веса классов сбалансированными с помощью аргумента `class_weight`."
   ]
  },
  {
   "cell_type": "code",
   "execution_count": 22,
   "id": "6815faa7",
   "metadata": {},
   "outputs": [
    {
     "data": {
      "text/plain": [
       "0.49078564500484967"
      ]
     },
     "execution_count": 22,
     "metadata": {},
     "output_type": "execute_result"
    }
   ],
   "source": [
    "model = LogisticRegression(random_state=12345, solver='liblinear', class_weight='balanced')\n",
    "model.fit(features_train, target_train)\n",
    "predicted_valid = model.predict(features_valid)\n",
    "result = f1_score(target_valid, predicted_valid)\n",
    "result"
   ]
  },
  {
   "cell_type": "markdown",
   "id": "7d4f92c0",
   "metadata": {},
   "source": [
    "Значение `F1-меры` стало лучше, но всё ещё меньше 0.5 (модели с простым угадыванием)."
   ]
  },
  {
   "cell_type": "markdown",
   "id": "e35baaff",
   "metadata": {},
   "source": [
    "# Подберём лучшую модель"
   ]
  },
  {
   "cell_type": "markdown",
   "id": "3222fd14",
   "metadata": {},
   "source": [
    "Для борьбы с дисбалансом классов используем ещё два метода:\n",
    "+ Увеличение количества редких значений\n",
    "+ Уменьшение количества частых значений\n",
    "\n",
    "Для этого создадим ещё две отдельные обучающие выборки."
   ]
  },
  {
   "cell_type": "code",
   "execution_count": 23,
   "id": "77a1b73f",
   "metadata": {},
   "outputs": [],
   "source": [
    "def upsample(features, target, repeat):\n",
    "    features_zeros = features[target == 0]\n",
    "    features_ones = features[target == 1]\n",
    "    target_zeros = target[target == 0]\n",
    "    target_ones = target[target == 1]\n",
    "\n",
    "    features_upsampled = pd.concat([features_zeros] + [features_ones] * repeat)\n",
    "    target_upsampled = pd.concat([target_zeros] + [target_ones] * repeat)\n",
    "    \n",
    "    features_upsampled, target_upsampled = shuffle(features_upsampled, target_upsampled, random_state=12345)\n",
    "    \n",
    "    return features_upsampled, target_upsampled\n",
    "\n",
    "\n",
    "def downsample(features, target, fraction):\n",
    "    features_zeros = features[target == 0]\n",
    "    features_ones = features[target == 1]\n",
    "    target_zeros = target[target == 0]\n",
    "    target_ones = target[target == 1]\n",
    "\n",
    "    features_downsampled = pd.concat([features_zeros.sample(frac=fraction, random_state=12345)] + [features_ones])\n",
    "    target_downsampled = pd.concat([target_zeros.sample(frac=fraction, random_state=12345)] + [target_ones])\n",
    "    \n",
    "    features_downsampled, target_downsampled = shuffle(features_downsampled, target_downsampled, random_state=12345)\n",
    "    \n",
    "    return features_downsampled, target_downsampled"
   ]
  },
  {
   "cell_type": "code",
   "execution_count": 24,
   "id": "8c124f2f",
   "metadata": {},
   "outputs": [],
   "source": [
    "features_train_upsample, target_train_upsample = upsample(features_train, target_train, 4)\n",
    "features_train_downsample, target_train_downsample = downsample(features_train, target_train, 0.25)\n",
    "\n",
    "balancing = [\n",
    "    'Использование аргумента class_weight',\n",
    "    'Увеличение количества редких значений через upsample',\n",
    "    'Уменьшение количества частых значений через downsample'\n",
    "]"
   ]
  },
  {
   "cell_type": "markdown",
   "id": "a7b6c8f8",
   "metadata": {},
   "source": [
    "## Модель — `Решающее дерево`"
   ]
  },
  {
   "cell_type": "code",
   "execution_count": 25,
   "id": "05f5436e",
   "metadata": {},
   "outputs": [
    {
     "name": "stdout",
     "output_type": "stream",
     "text": [
      "Модель - Решающее дерево. Лучшие показатели следующие:\n",
      "Глубина дерева: 5\n",
      "F1-мера: 0.57\n",
      "AUC-ROC: 0.83\n",
      "Метод балансировки классов: Увеличение количества редких значений через upsample\n"
     ]
    }
   ],
   "source": [
    "best_model = None\n",
    "best_result = 0\n",
    "best_auc_roc = 0\n",
    "depth_of_tree = 0\n",
    "best_index = 0\n",
    "\n",
    "for depth in range(1, 21):\n",
    "    # Создадим и обучим три модели для каждого способа борьбы с дисбалансом классов\n",
    "    model = DecisionTreeClassifier(random_state=12345, max_depth=depth, class_weight='balanced')\n",
    "    model_upsample = DecisionTreeClassifier(random_state=12345, max_depth=depth)\n",
    "    model_downsample = DecisionTreeClassifier(random_state=12345, max_depth=depth)\n",
    "    \n",
    "    model.fit(features_train, target_train)\n",
    "    model_upsample.fit(features_train_upsample, target_train_upsample)\n",
    "    model_downsample.fit(features_train_downsample, target_train_downsample)\n",
    "    \n",
    "    all_models = [model, model_upsample, model_downsample]\n",
    "    \n",
    "    \n",
    "    # Сделаем предсказания для каждой из трёх моделей\n",
    "    predicted_valid = model.predict(features_valid)\n",
    "    predicted_valid_upsample = model_upsample.predict(features_valid)\n",
    "    predicted_valid_downsample = model_downsample.predict(features_valid)\n",
    "    \n",
    "    \n",
    "    # Посчитаем F1-меру для каждой из трёх моделей\n",
    "    result = f1_score(target_valid, predicted_valid)\n",
    "    result_upsample = f1_score(target_valid, predicted_valid_upsample)\n",
    "    result_downsample = f1_score(target_valid, predicted_valid_downsample)\n",
    "    all_results = [result, result_upsample, result_downsample]\n",
    "    \n",
    "    \n",
    "    # Посчитаем AUC-ROC для каждой из трёх моделей\n",
    "    probabilities_valid = model.predict_proba(features_valid)\n",
    "    probabilities_one_valid = probabilities_valid[:, 1]\n",
    "    auc_roc = roc_auc_score(target_valid, probabilities_one_valid)\n",
    "    \n",
    "    probabilities_valid_upsample = model_upsample.predict_proba(features_valid)\n",
    "    probabilities_one_valid_upsample = probabilities_valid_upsample[:, 1]\n",
    "    auc_roc_upsample = roc_auc_score(target_valid, probabilities_one_valid_upsample)\n",
    "    \n",
    "    probabilities_valid_downsample = model_downsample.predict_proba(features_valid)\n",
    "    probabilities_one_valid_downsample = probabilities_valid_downsample[:, 1]\n",
    "    auc_roc_downsample = roc_auc_score(target_valid, probabilities_one_valid_downsample)\n",
    "    \n",
    "    all_auc_roc = [auc_roc, auc_roc_upsample, auc_roc_downsample]\n",
    "    \n",
    "    # Это будет индекс модели с лучшими показателями\n",
    "    index = all_results.index(max(all_results))\n",
    "    \n",
    "    if max(all_results) > best_result:\n",
    "        best_model = all_models[index]\n",
    "        best_result = all_results[index]\n",
    "        best_auc_roc = all_auc_roc[index]\n",
    "        depth_of_tree = depth\n",
    "        best_index = index\n",
    "\n",
    "print('Модель - Решающее дерево. Лучшие показатели следующие:')\n",
    "print(f'Глубина дерева: {depth_of_tree}')\n",
    "print(f'F1-мера: {round(best_result, 2)}')\n",
    "print(f'AUC-ROC: {round(best_auc_roc, 2)}')\n",
    "print(f'Метод балансировки классов: {balancing[best_index]}')"
   ]
  },
  {
   "cell_type": "markdown",
   "id": "825e58a8",
   "metadata": {},
   "source": [
    "## Модель — `Случайный лес`"
   ]
  },
  {
   "cell_type": "code",
   "execution_count": 26,
   "id": "a87556f8",
   "metadata": {},
   "outputs": [
    {
     "name": "stdout",
     "output_type": "stream",
     "text": [
      "Модель - Случайный лес. Лучшие показатели следующие:\n",
      "Глубина дерева: 9\n",
      "Количество деревьев: 20\n",
      "F1-мера: 0.61\n",
      "AUC-ROC: 0.85\n",
      "Метод балансировки классов: Увеличение количества редких значений через upsample\n"
     ]
    }
   ],
   "source": [
    "best_model = None\n",
    "best_result = 0\n",
    "best_auc_roc = 0\n",
    "depth_of_tree = 0\n",
    "est_of_forest = 0\n",
    "best_index = 0\n",
    "\n",
    "for est in range(10, 51, 10):\n",
    "    for depth in range (1, 11):\n",
    "        # Создадим и обучим три модели для каждого способа борьбы с дисбалансом классов\n",
    "        model = RandomForestClassifier(random_state=12345, n_estimators=est, max_depth=depth, class_weight='balanced')\n",
    "        model_upsample = RandomForestClassifier(random_state=12345, n_estimators=est, max_depth=depth)\n",
    "        model_downsample = RandomForestClassifier(random_state=12345, n_estimators=est, max_depth=depth)\n",
    "        \n",
    "        model.fit(features_train, target_train)\n",
    "        model_upsample.fit(features_train_upsample, target_train_upsample)\n",
    "        model_downsample.fit(features_train_downsample, target_train_downsample)\n",
    "        \n",
    "        \n",
    "        # Сделаем предсказания для каждой из трёх моделей\n",
    "        predicted_valid = model.predict(features_valid)\n",
    "        predicted_valid_upsample = model_upsample.predict(features_valid)\n",
    "        predicted_valid_downsample = model_downsample.predict(features_valid)\n",
    "        \n",
    "        \n",
    "        # Посчитаем F1-меру для каждой из трёх моделей\n",
    "        result = f1_score(target_valid, predicted_valid)\n",
    "        result_upsample = f1_score(target_valid, predicted_valid_upsample)\n",
    "        result_downsample = f1_score(target_valid, predicted_valid_downsample)\n",
    "        all_results = [result, result_upsample, result_downsample]\n",
    "        \n",
    "        \n",
    "        # Посчитаем AUC-ROC для каждой из трёх моделей\n",
    "        probabilities_valid = model.predict_proba(features_valid)\n",
    "        probabilities_one_valid = probabilities_valid[:, 1]\n",
    "        auc_roc = roc_auc_score(target_valid, probabilities_one_valid)\n",
    "        \n",
    "        probabilities_valid_upsample = model_upsample.predict_proba(features_valid)\n",
    "        probabilities_one_valid_upsample = probabilities_valid_upsample[:, 1]\n",
    "        auc_roc_upsample = roc_auc_score(target_valid, probabilities_one_valid_upsample)\n",
    "\n",
    "        probabilities_valid_downsample = model_downsample.predict_proba(features_valid)\n",
    "        probabilities_one_valid_downsample = probabilities_valid_downsample[:, 1]\n",
    "        auc_roc_downsample = roc_auc_score(target_valid, probabilities_one_valid_downsample)\n",
    "\n",
    "        all_auc_roc = [auc_roc, auc_roc_upsample, auc_roc_downsample]\n",
    "        \n",
    "        # Это будет индекс модели с лучшими показателями\n",
    "        index = all_results.index(max(all_results))\n",
    "        \n",
    "        if max(all_results) > best_result:\n",
    "            best_model = all_models[index]\n",
    "            best_result = all_results[index]\n",
    "            best_auc_roc = all_auc_roc[index]\n",
    "            depth_of_tree = depth\n",
    "            est_of_forest = est\n",
    "            best_index = index\n",
    "                   \n",
    "print('Модель - Случайный лес. Лучшие показатели следующие:')\n",
    "print(f'Глубина дерева: {depth_of_tree}')\n",
    "print(f'Количество деревьев: {est_of_forest}')\n",
    "print(f'F1-мера: {round(best_result, 2)}')\n",
    "print(f'AUC-ROC: {round(best_auc_roc, 2)}')\n",
    "print(f'Метод балансировки классов: {balancing[best_index]}')"
   ]
  },
  {
   "cell_type": "markdown",
   "id": "8e1aa8ac",
   "metadata": {},
   "source": [
    "## Модель — `Логистическая регрессия`"
   ]
  },
  {
   "cell_type": "code",
   "execution_count": 27,
   "id": "3212b02a",
   "metadata": {},
   "outputs": [
    {
     "name": "stdout",
     "output_type": "stream",
     "text": [
      "Модель - Логистическая регрессия. Лучшие показатели следующие:\n",
      "Количество итераций: 100\n",
      "F1-мера: 0.49\n",
      "AUC-ROC: 0.77\n",
      "Метод балансировки классов: Уменьшение количества частых значений через downsample\n"
     ]
    }
   ],
   "source": [
    "best_model = None\n",
    "best_result = 0\n",
    "best_auc_roc = 0\n",
    "best_iter = 0\n",
    "best_index = 0\n",
    "\n",
    "for iter in range(100, 1001, 100):\n",
    "    # Создадим и обучим три модели для каждого способа борьбы с дисбалансом классов\n",
    "    model = LogisticRegression(random_state=12345, solver='liblinear', max_iter=iter, class_weight='balanced')\n",
    "    model_upsample = LogisticRegression(random_state=12345, solver='liblinear', max_iter=iter)\n",
    "    model_downsample = LogisticRegression(random_state=12345, solver='liblinear', max_iter=iter)\n",
    "    \n",
    "    model.fit(features_train, target_train)\n",
    "    model_upsample.fit(features_train_upsample, target_train_upsample)\n",
    "    model_downsample.fit(features_train_downsample, target_train_downsample)\n",
    "        \n",
    "        \n",
    "    # Сделаем предсказания для каждой из трёх моделей\n",
    "    predicted_valid = model.predict(features_valid)\n",
    "    predicted_valid_upsample = model_upsample.predict(features_valid)\n",
    "    predicted_valid_downsample = model_downsample.predict(features_valid)\n",
    "        \n",
    "        \n",
    "    # Посчитаем F1-меру для каждой из трёх моделей\n",
    "    result = f1_score(target_valid, predicted_valid)\n",
    "    result_upsample = f1_score(target_valid, predicted_valid_upsample)\n",
    "    result_downsample = f1_score(target_valid, predicted_valid_downsample)\n",
    "    all_results = [result, result_upsample, result_downsample]\n",
    "        \n",
    "        \n",
    "    # Посчитаем AUC-ROC для каждой из трёх моделей\n",
    "    probabilities_valid = model.predict_proba(features_valid)\n",
    "    probabilities_one_valid = probabilities_valid[:, 1]\n",
    "    auc_roc = roc_auc_score(target_valid, probabilities_one_valid)\n",
    "        \n",
    "    probabilities_valid_upsample = model_upsample.predict_proba(features_valid)\n",
    "    probabilities_one_valid_upsample = probabilities_valid_upsample[:, 1]\n",
    "    auc_roc_upsample = roc_auc_score(target_valid, probabilities_one_valid_upsample)\n",
    "\n",
    "    probabilities_valid_downsample = model_downsample.predict_proba(features_valid)\n",
    "    probabilities_one_valid_downsample = probabilities_valid_downsample[:, 1]\n",
    "    auc_roc_downsample = roc_auc_score(target_valid, probabilities_one_valid_downsample)\n",
    "\n",
    "    all_auc_roc = [auc_roc, auc_roc_upsample, auc_roc_downsample]\n",
    "        \n",
    "    # Это будет индекс модели с лучшими показателями\n",
    "    index = all_results.index(max(all_results))\n",
    "    \n",
    "    if max(all_results) > best_result:\n",
    "        best_model = all_models[index]\n",
    "        best_result = all_results[index]\n",
    "        best_auc_roc = all_auc_roc[index]\n",
    "        best_iter = iter\n",
    "        best_index = index\n",
    "        \n",
    "print('Модель - Логистическая регрессия. Лучшие показатели следующие:')\n",
    "print(f'Количество итераций: {best_iter}')\n",
    "print(f'F1-мера: {round(best_result, 2)}')\n",
    "print(f'AUC-ROC: {round(best_auc_roc, 2)}')\n",
    "print(f'Метод балансировки классов: {balancing[best_index]}')"
   ]
  },
  {
   "cell_type": "markdown",
   "id": "366b6cde",
   "metadata": {},
   "source": [
    "<b>ИТОГО</b> — у модели случайного леса получился самый высокий показатель метрики качества `F1-мера`. Используем эту модель в качестве основной. В следующем блоке проверим её на финальной тестовой выборке. Метрика `AUC-ROC` во всех моделях больше, чем `F1-мера` и растёт с ростом `F1-меры`."
   ]
  },
  {
   "cell_type": "markdown",
   "id": "1c0d6f2a",
   "metadata": {},
   "source": [
    "# Проверка модели на тестовой выборке"
   ]
  },
  {
   "cell_type": "code",
   "execution_count": 28,
   "id": "3368a18b",
   "metadata": {},
   "outputs": [
    {
     "data": {
      "text/plain": [
       "[0.63, 0.86]"
      ]
     },
     "execution_count": 28,
     "metadata": {},
     "output_type": "execute_result"
    }
   ],
   "source": [
    "# Создадим модель случайного леса с количеством деревьев 20, глубиной дерева 9 и балансировкий через upsample\n",
    "model = RandomForestClassifier(random_state=12345, n_estimators=20, max_depth=9)\n",
    "model.fit(features_train_upsample, target_train_upsample)\n",
    "predicted_valid = model.predict(features_test)\n",
    "result = f1_score(target_test, predicted_valid)\n",
    "\n",
    "probabilities_valid = model.predict_proba(features_test)\n",
    "probabilities_one_valid = probabilities_valid[:, 1]\n",
    "auc_roc = roc_auc_score(target_test, probabilities_one_valid)\n",
    "    \n",
    "[round(result, 2), round(auc_roc, 2)]"
   ]
  },
  {
   "cell_type": "markdown",
   "id": "dffffdb7",
   "metadata": {},
   "source": [
    "Показатели метрик качества `F1-мера` и `AUC-ROC` даже немного выше, чем на валидационной выборке и больше необходимого минимального значения 0.59"
   ]
  },
  {
   "cell_type": "markdown",
   "id": "ea62fd75",
   "metadata": {},
   "source": [
    "# Общий вывод"
   ]
  },
  {
   "cell_type": "markdown",
   "id": "87a08810",
   "metadata": {},
   "source": [
    "Лучшие результаты показала модель случайного леса со следующими показателями на тестовой выборке:\n",
    "+ Глубина дерева: 9\n",
    "+ Количество деревьев: 20\n",
    "+ F1-мера: 0.63\n",
    "+ AUC-ROC: 0.86\n",
    "+ Метод балансировки классов: Увеличение количества редких значений"
   ]
  }
 ],
 "metadata": {
  "kernelspec": {
   "display_name": "Python 3 (ipykernel)",
   "language": "python",
   "name": "python3"
  },
  "language_info": {
   "codemirror_mode": {
    "name": "ipython",
    "version": 3
   },
   "file_extension": ".py",
   "mimetype": "text/x-python",
   "name": "python",
   "nbconvert_exporter": "python",
   "pygments_lexer": "ipython3",
   "version": "3.9.7"
  },
  "toc": {
   "base_numbering": 1,
   "nav_menu": {},
   "number_sections": true,
   "sideBar": true,
   "skip_h1_title": true,
   "title_cell": "Table of Contents",
   "title_sidebar": "Contents",
   "toc_cell": false,
   "toc_position": {},
   "toc_section_display": true,
   "toc_window_display": false
  }
 },
 "nbformat": 4,
 "nbformat_minor": 5
}
