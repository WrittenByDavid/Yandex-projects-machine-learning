{
 "cells": [
  {
   "cell_type": "markdown",
   "metadata": {},
   "source": [
    "<h1>Содержание<span class=\"tocSkip\"></span></h1>\n",
    "\n",
    "<div class=\"toc\">\n",
    "    <ul class=\"toc-item\">\n",
    "        <li>\n",
    "            <span>\n",
    "                <a href=\"#Описание-проекта-—-Определение-стоимости-автомобилей\" data-toc-modified-id=\"Описание-проекта-—-Определение-стоимости-автомобилей-1\">\n",
    "                    <span class=\"toc-item-num\">\n",
    "                        1&nbsp;&nbsp;\n",
    "                    </span>\n",
    "                    Описание проекта — Определение стоимости автомобилей\n",
    "                </a>\n",
    "            </span>\n",
    "            <ul class=\"toc-item\">\n",
    "                <li>\n",
    "                    <span>\n",
    "                        <a href=\"#Цели-и-задачи-проекта\" data-toc-modified-id=\"Цели-и-задачи-проекта-1.1\">\n",
    "                            <span class=\"toc-item-num\">\n",
    "                                1.1&nbsp;&nbsp;\n",
    "                            </span>\n",
    "                            Цели и задачи проекта\n",
    "                        </a>\n",
    "                    </span>\n",
    "                </li>\n",
    "                <li>\n",
    "                    <span>\n",
    "                        <a href=\"#Описание-данных\" data-toc-modified-id=\"Описание-данных-1.2\">\n",
    "                            <span class=\"toc-item-num\">\n",
    "                                1.2&nbsp;&nbsp;\n",
    "                            </span>\n",
    "                            Описание данных\n",
    "                        </a>\n",
    "                    </span>\n",
    "                </li>\n",
    "                <li>\n",
    "                    <span>\n",
    "                        <a href=\"#План-работы\" data-toc-modified-id=\"План-работы-1.3\">\n",
    "                            <span class=\"toc-item-num\">\n",
    "                                1.3&nbsp;&nbsp;\n",
    "                            </span>\n",
    "                            План работы\n",
    "                        </a>\n",
    "                    </span>\n",
    "                </li>\n",
    "            </ul>\n",
    "        </li>\n",
    "        <li>\n",
    "            <span>\n",
    "                <a href=\"#Загрузка,-обзор-и-подготовка-данных\" data-toc-modified-id=\"Загрузка,-обзор-и-подготовка-данных-2\">\n",
    "                    <span class=\"toc-item-num\">\n",
    "                        2&nbsp;&nbsp;\n",
    "                    </span>\n",
    "                    Загрузка, обзор и подготовка данных\n",
    "                </a>\n",
    "            </span>\n",
    "            <ul class=\"toc-item\">\n",
    "                <li>\n",
    "                    <span>\n",
    "                        <a href=\"#Загрузка-данных\" data-toc-modified-id=\"Загрузка-данных-2.1\">\n",
    "                            <span class=\"toc-item-num\">\n",
    "                                2.1&nbsp;&nbsp;\n",
    "                            </span>\n",
    "                            Загрузка данных\n",
    "                        </a>\n",
    "                    </span>\n",
    "                </li>\n",
    "                <li>\n",
    "                    <span>\n",
    "                        <a href=\"#Обзор-данных\" data-toc-modified-id=\"Обзор-данных-2.2\">\n",
    "                            <span class=\"toc-item-num\">\n",
    "                                2.2&nbsp;&nbsp;\n",
    "                            </span>\n",
    "                            Обзор данных\n",
    "                        </a>\n",
    "                    </span>\n",
    "                </li>\n",
    "                <li>\n",
    "                    <span>\n",
    "                        <a href=\"#Подготовка-данных\" data-toc-modified-id=\"Подготовка-данных-2.3\">\n",
    "                            <span class=\"toc-item-num\">\n",
    "                                2.3&nbsp;&nbsp;\n",
    "                            </span>\n",
    "                            Подготовка данных\n",
    "                        </a>\n",
    "                    </span>\n",
    "                    <ul class=\"toc-item\">\n",
    "                        <li>\n",
    "                            <span>\n",
    "                                <a href=\"#Заполнение-пропусков\" data-toc-modified-id=\"Заполнение-пропусков-2.3.1\">\n",
    "                                    <span class=\"toc-item-num\">\n",
    "                                        2.3.1&nbsp;&nbsp;\n",
    "                                    </span>\n",
    "                                    Заполнение пропусков\n",
    "                                </a>\n",
    "                            </span>\n",
    "                        </li>\n",
    "                        <li>\n",
    "                            <span>\n",
    "                                <a href=\"#Удаление-неинформативных-признаков\" data-toc-modified-id=\"Удаление-неинформативных-признаков-2.3.2\">\n",
    "                                    <span class=\"toc-item-num\">\n",
    "                                        2.3.2&nbsp;&nbsp;\n",
    "                                    </span>\n",
    "                                    Удаление неинформативных признаков\n",
    "                                </a>\n",
    "                            </span>\n",
    "                        </li>\n",
    "                        <li>\n",
    "                            <span>\n",
    "                                <a href=\"#Проверка-данных-на-аномалии\" data-toc-modified-id=\"Проверка-данных-на-аномалии-2.3.3\">\n",
    "                                    <span class=\"toc-item-num\">\n",
    "                                        2.3.3&nbsp;&nbsp;\n",
    "                                    </span>\n",
    "                                    Проверка данных на аномалии\n",
    "                                </a>\n",
    "                            </span>\n",
    "                        </li>\n",
    "                        <li>\n",
    "                            <span>\n",
    "                                <a href=\"#Поиск-явных-дубликатов\" data-toc-modified-id=\"Поиск-явных-дубликатов-2.3.4\">\n",
    "                                    <span class=\"toc-item-num\">\n",
    "                                        2.3.4&nbsp;&nbsp;\n",
    "                                    </span>\n",
    "                                    Поиск явных дубликатов\n",
    "                                </a>\n",
    "                            </span>\n",
    "                        </li>\n",
    "                        <li>\n",
    "                            <span>\n",
    "                                <a href=\"#Кодирование-категориальных-признаков\" data-toc-modified-id=\"Кодирование-категориальных-признаков-2.3.5\">\n",
    "                                    <span class=\"toc-item-num\">\n",
    "                                        2.3.5&nbsp;&nbsp;\n",
    "                                    </span>\n",
    "                                    Кодирование категориальных признаков\n",
    "                                </a>\n",
    "                            </span>\n",
    "                        </li>\n",
    "                        <li>\n",
    "                            <span>\n",
    "                                <a href=\"#Разбивка-данных-на-выборки\" data-toc-modified-id=\"Разбивка-данных-на-выборки-2.3.6\">\n",
    "                                    <span class=\"toc-item-num\">\n",
    "                                        2.3.6&nbsp;&nbsp;\n",
    "                                    </span>\n",
    "                                    Разбивка данных на выборки\n",
    "                                </a>\n",
    "                            </span>\n",
    "                        </li>\n",
    "                        <li>\n",
    "                            <span>\n",
    "                                <a href=\"#Масштабирование-данных\" data-toc-modified-id=\"Масштабирование-данных-2.3.7\">\n",
    "                                    <span class=\"toc-item-num\">\n",
    "                                        2.3.7&nbsp;&nbsp;\n",
    "                                    </span>\n",
    "                                    Масштабирование данных\n",
    "                                </a>\n",
    "                            </span>\n",
    "                        </li>\n",
    "                    </ul>\n",
    "                </li>\n",
    "            </ul>\n",
    "        </li>\n",
    "        <li>\n",
    "            <span>\n",
    "                <a href=\"#Обучение-и-выбор-лучшей-модели\" data-toc-modified-id=\"Обучение-и-выбор-лучшей-модели-3\">\n",
    "                    <span class=\"toc-item-num\">\n",
    "                        3&nbsp;&nbsp;\n",
    "                    </span>\n",
    "                    Обучение и выбор лучшей модели\n",
    "                </a>\n",
    "            </span>\n",
    "            <ul class=\"toc-item\">\n",
    "                <li>\n",
    "                    <span>\n",
    "                        <a href=\"#Модель-—-Случайный-лес\" data-toc-modified-id=\"Модель-—-Случайный-лес-3.1\">\n",
    "                            <span class=\"toc-item-num\">\n",
    "                                3.1&nbsp;&nbsp;\n",
    "                            </span>\n",
    "                            Модель — Случайный лес\n",
    "                        </a>\n",
    "                    </span>\n",
    "                </li>\n",
    "                <li>\n",
    "                    <span>\n",
    "                        <a href=\"#Модель-—-Линейная-регрессия\" data-toc-modified-id=\"Модель-—-Линейная-регрессия-3.2\">\n",
    "                            <span class=\"toc-item-num\">\n",
    "                                3.2&nbsp;&nbsp;\n",
    "                            </span>\n",
    "                            Модель — Линейная регрессия\n",
    "                        </a>\n",
    "                    </span>\n",
    "                </li>\n",
    "                <li>\n",
    "                    <span>\n",
    "                        <a href=\"#Модель-—-LightGBM\" data-toc-modified-id=\"Модель-—-LightGBM-3.3\">\n",
    "                            <span class=\"toc-item-num\">\n",
    "                                3.3&nbsp;&nbsp;\n",
    "                            </span>\n",
    "                            Модель — LightGBM\n",
    "                        </a>\n",
    "                    </span>\n",
    "                </li>\n",
    "                <li>\n",
    "                    <span>\n",
    "                        <a href=\"#Выбор-лучшей-модели-и-проверка-на-тестовой-выборке\" data-toc-modified-id=\"Выбор-лучшей-модели-и-проверка-на-тестовой-выборке-3.4\">\n",
    "                            <span class=\"toc-item-num\">\n",
    "                                3.4&nbsp;&nbsp;\n",
    "                            </span>\n",
    "                            Выбор лучшей модели и проверка на тестовой выборке\n",
    "                        </a>\n",
    "                    </span>\n",
    "                </li>\n",
    "                <li>\n",
    "                    <span>\n",
    "                        <a href=\"#Сравнение-работы-лучшей-и-константной-модели\" data-toc-modified-id=\"Сравнение-работы-лучшей-и-константной-модели-3.5\">\n",
    "                            <span class=\"toc-item-num\">\n",
    "                                3.5&nbsp;&nbsp;\n",
    "                            </span>\n",
    "                            Сравнение работы лучшей и константной модели\n",
    "                        </a>\n",
    "                    </span>\n",
    "                </li>\n",
    "            </ul>\n",
    "        </li>\n",
    "        <li>\n",
    "            <span>\n",
    "                <a href=\"#Общий-вывод\" data-toc-modified-id=\"Общий-вывод-4\">\n",
    "                    <span class=\"toc-item-num\">\n",
    "                        4&nbsp;&nbsp;\n",
    "                    </span>\n",
    "                    Общий вывод\n",
    "                </a>\n",
    "            </span>\n",
    "        </li>\n",
    "    </ul>\n",
    "</div>"
   ]
  },
  {
   "cell_type": "markdown",
   "metadata": {},
   "source": [
    "# Описание проекта — Определение стоимости автомобилей\n",
    "## Цели и задачи проекта\n",
    "\n",
    "Сервис по продаже автомобилей с пробегом «Не бит, не крашен» разрабатывает приложение для привлечения новых клиентов. В нём можно быстро узнать рыночную стоимость своего автомобиля. Необходимо построить модель, которая умеет её определять. Критерии важные для заказчика:\n",
    "\n",
    "+ качество предсказания (RMSE должно быть меньше 2500)\n",
    "+ время обучения модели\n",
    "+ время предсказания модели\n",
    "\n",
    "## Описание данных\n",
    "\n",
    "В нашем распоряжении исторические данные о технических характеристиках, комплектации и ценах других автомобилей. Данные находятся в файле «__autos.csv__» со следующими признаками:\n",
    "+ `DateCrawled` — дата скачивания анкеты из базы\n",
    "+ `Price` — цена (евро)\n",
    "+ `VehicleType` — тип автомобильного кузова\n",
    "+ `RegistrationYear` — год регистрации автомобиля\n",
    "+ `Gearbox` — тип коробки передач\n",
    "+ `Power` — мощность (л. с.)\n",
    "+ `Model` — модель автомобиля\n",
    "+ `Kilometer` — пробег (км)\n",
    "+ `RegistrationMonth` — месяц регистрации автомобиля\n",
    "+ `FuelType` — тип топлива\n",
    "+ `Brand` — марка автомобиля\n",
    "+ `NotRepaired` — была машина в ремонте или нет\n",
    "+ `DateCreated` — дата создания анкеты\n",
    "+ `NumberOfPictures` — количество фотографий автомобиля\n",
    "+ `PostalCode` — почтовый индекс владельца анкеты (пользователя)\n",
    "+ `LastSeen` — дата последней активности пользователя\n",
    "\n",
    "Признак «__Price__» является целевым.\n",
    "\n",
    "## План работы\n",
    "\n",
    "+ Загрузить и изучить данные\n",
    "+ Провести предобработку данных\n",
    "+ Подготовить выборки для обучения моделей\n",
    "+ Обучить несколько моделей\n",
    "+ Выбрать лучшую модель, ориентируясь на критерии заказчика\n",
    "+ Проверить качество лучшей модели на тестовой выборке"
   ]
  },
  {
   "cell_type": "markdown",
   "metadata": {},
   "source": [
    "# Загрузка, обзор и подготовка данных\n",
    "## Загрузка данных"
   ]
  },
  {
   "cell_type": "code",
   "execution_count": 1,
   "metadata": {},
   "outputs": [],
   "source": [
    "import pandas as pd\n",
    "import numpy as np\n",
    "import time\n",
    "import matplotlib.pyplot as plt\n",
    "import seaborn as sns\n",
    "sns.set()\n",
    "\n",
    "from sklearn.model_selection import train_test_split\n",
    "from sklearn.preprocessing import StandardScaler, OrdinalEncoder\n",
    "from sklearn.metrics import mean_squared_error\n",
    "\n",
    "from sklearn.ensemble import RandomForestRegressor\n",
    "from sklearn.linear_model import LinearRegression\n",
    "import lightgbm as lgb\n",
    "from sklearn.dummy import DummyRegressor"
   ]
  },
  {
   "cell_type": "code",
   "execution_count": 2,
   "metadata": {},
   "outputs": [],
   "source": [
    "try:\n",
    "    df = pd.read_csv('autos.csv')\n",
    "except:\n",
    "    df = pd.read_csv('/datasets/autos.csv')"
   ]
  },
  {
   "cell_type": "markdown",
   "metadata": {},
   "source": [
    "## Обзор данных\n",
    "Посмотрим размерность, первые и последние 10 строк, общую информацию и названия колонок таблицы `df`."
   ]
  },
  {
   "cell_type": "code",
   "execution_count": 3,
   "metadata": {},
   "outputs": [
    {
     "data": {
      "text/plain": [
       "(354369, 16)"
      ]
     },
     "execution_count": 3,
     "metadata": {},
     "output_type": "execute_result"
    }
   ],
   "source": [
    "df.shape"
   ]
  },
  {
   "cell_type": "code",
   "execution_count": 4,
   "metadata": {},
   "outputs": [
    {
     "data": {
      "text/html": [
       "<div>\n",
       "<style scoped>\n",
       "    .dataframe tbody tr th:only-of-type {\n",
       "        vertical-align: middle;\n",
       "    }\n",
       "\n",
       "    .dataframe tbody tr th {\n",
       "        vertical-align: top;\n",
       "    }\n",
       "\n",
       "    .dataframe thead th {\n",
       "        text-align: right;\n",
       "    }\n",
       "</style>\n",
       "<table border=\"1\" class=\"dataframe\">\n",
       "  <thead>\n",
       "    <tr style=\"text-align: right;\">\n",
       "      <th></th>\n",
       "      <th>DateCrawled</th>\n",
       "      <th>Price</th>\n",
       "      <th>VehicleType</th>\n",
       "      <th>RegistrationYear</th>\n",
       "      <th>Gearbox</th>\n",
       "      <th>Power</th>\n",
       "      <th>Model</th>\n",
       "      <th>Kilometer</th>\n",
       "      <th>RegistrationMonth</th>\n",
       "      <th>FuelType</th>\n",
       "      <th>Brand</th>\n",
       "      <th>NotRepaired</th>\n",
       "      <th>DateCreated</th>\n",
       "      <th>NumberOfPictures</th>\n",
       "      <th>PostalCode</th>\n",
       "      <th>LastSeen</th>\n",
       "    </tr>\n",
       "  </thead>\n",
       "  <tbody>\n",
       "    <tr>\n",
       "      <th>0</th>\n",
       "      <td>2016-03-24 11:52:17</td>\n",
       "      <td>480</td>\n",
       "      <td>NaN</td>\n",
       "      <td>1993</td>\n",
       "      <td>manual</td>\n",
       "      <td>0</td>\n",
       "      <td>golf</td>\n",
       "      <td>150000</td>\n",
       "      <td>0</td>\n",
       "      <td>petrol</td>\n",
       "      <td>volkswagen</td>\n",
       "      <td>NaN</td>\n",
       "      <td>2016-03-24 00:00:00</td>\n",
       "      <td>0</td>\n",
       "      <td>70435</td>\n",
       "      <td>2016-04-07 03:16:57</td>\n",
       "    </tr>\n",
       "    <tr>\n",
       "      <th>1</th>\n",
       "      <td>2016-03-24 10:58:45</td>\n",
       "      <td>18300</td>\n",
       "      <td>coupe</td>\n",
       "      <td>2011</td>\n",
       "      <td>manual</td>\n",
       "      <td>190</td>\n",
       "      <td>NaN</td>\n",
       "      <td>125000</td>\n",
       "      <td>5</td>\n",
       "      <td>gasoline</td>\n",
       "      <td>audi</td>\n",
       "      <td>yes</td>\n",
       "      <td>2016-03-24 00:00:00</td>\n",
       "      <td>0</td>\n",
       "      <td>66954</td>\n",
       "      <td>2016-04-07 01:46:50</td>\n",
       "    </tr>\n",
       "    <tr>\n",
       "      <th>2</th>\n",
       "      <td>2016-03-14 12:52:21</td>\n",
       "      <td>9800</td>\n",
       "      <td>suv</td>\n",
       "      <td>2004</td>\n",
       "      <td>auto</td>\n",
       "      <td>163</td>\n",
       "      <td>grand</td>\n",
       "      <td>125000</td>\n",
       "      <td>8</td>\n",
       "      <td>gasoline</td>\n",
       "      <td>jeep</td>\n",
       "      <td>NaN</td>\n",
       "      <td>2016-03-14 00:00:00</td>\n",
       "      <td>0</td>\n",
       "      <td>90480</td>\n",
       "      <td>2016-04-05 12:47:46</td>\n",
       "    </tr>\n",
       "    <tr>\n",
       "      <th>3</th>\n",
       "      <td>2016-03-17 16:54:04</td>\n",
       "      <td>1500</td>\n",
       "      <td>small</td>\n",
       "      <td>2001</td>\n",
       "      <td>manual</td>\n",
       "      <td>75</td>\n",
       "      <td>golf</td>\n",
       "      <td>150000</td>\n",
       "      <td>6</td>\n",
       "      <td>petrol</td>\n",
       "      <td>volkswagen</td>\n",
       "      <td>no</td>\n",
       "      <td>2016-03-17 00:00:00</td>\n",
       "      <td>0</td>\n",
       "      <td>91074</td>\n",
       "      <td>2016-03-17 17:40:17</td>\n",
       "    </tr>\n",
       "    <tr>\n",
       "      <th>4</th>\n",
       "      <td>2016-03-31 17:25:20</td>\n",
       "      <td>3600</td>\n",
       "      <td>small</td>\n",
       "      <td>2008</td>\n",
       "      <td>manual</td>\n",
       "      <td>69</td>\n",
       "      <td>fabia</td>\n",
       "      <td>90000</td>\n",
       "      <td>7</td>\n",
       "      <td>gasoline</td>\n",
       "      <td>skoda</td>\n",
       "      <td>no</td>\n",
       "      <td>2016-03-31 00:00:00</td>\n",
       "      <td>0</td>\n",
       "      <td>60437</td>\n",
       "      <td>2016-04-06 10:17:21</td>\n",
       "    </tr>\n",
       "    <tr>\n",
       "      <th>5</th>\n",
       "      <td>2016-04-04 17:36:23</td>\n",
       "      <td>650</td>\n",
       "      <td>sedan</td>\n",
       "      <td>1995</td>\n",
       "      <td>manual</td>\n",
       "      <td>102</td>\n",
       "      <td>3er</td>\n",
       "      <td>150000</td>\n",
       "      <td>10</td>\n",
       "      <td>petrol</td>\n",
       "      <td>bmw</td>\n",
       "      <td>yes</td>\n",
       "      <td>2016-04-04 00:00:00</td>\n",
       "      <td>0</td>\n",
       "      <td>33775</td>\n",
       "      <td>2016-04-06 19:17:07</td>\n",
       "    </tr>\n",
       "    <tr>\n",
       "      <th>6</th>\n",
       "      <td>2016-04-01 20:48:51</td>\n",
       "      <td>2200</td>\n",
       "      <td>convertible</td>\n",
       "      <td>2004</td>\n",
       "      <td>manual</td>\n",
       "      <td>109</td>\n",
       "      <td>2_reihe</td>\n",
       "      <td>150000</td>\n",
       "      <td>8</td>\n",
       "      <td>petrol</td>\n",
       "      <td>peugeot</td>\n",
       "      <td>no</td>\n",
       "      <td>2016-04-01 00:00:00</td>\n",
       "      <td>0</td>\n",
       "      <td>67112</td>\n",
       "      <td>2016-04-05 18:18:39</td>\n",
       "    </tr>\n",
       "    <tr>\n",
       "      <th>7</th>\n",
       "      <td>2016-03-21 18:54:38</td>\n",
       "      <td>0</td>\n",
       "      <td>sedan</td>\n",
       "      <td>1980</td>\n",
       "      <td>manual</td>\n",
       "      <td>50</td>\n",
       "      <td>other</td>\n",
       "      <td>40000</td>\n",
       "      <td>7</td>\n",
       "      <td>petrol</td>\n",
       "      <td>volkswagen</td>\n",
       "      <td>no</td>\n",
       "      <td>2016-03-21 00:00:00</td>\n",
       "      <td>0</td>\n",
       "      <td>19348</td>\n",
       "      <td>2016-03-25 16:47:58</td>\n",
       "    </tr>\n",
       "    <tr>\n",
       "      <th>8</th>\n",
       "      <td>2016-04-04 23:42:13</td>\n",
       "      <td>14500</td>\n",
       "      <td>bus</td>\n",
       "      <td>2014</td>\n",
       "      <td>manual</td>\n",
       "      <td>125</td>\n",
       "      <td>c_max</td>\n",
       "      <td>30000</td>\n",
       "      <td>8</td>\n",
       "      <td>petrol</td>\n",
       "      <td>ford</td>\n",
       "      <td>NaN</td>\n",
       "      <td>2016-04-04 00:00:00</td>\n",
       "      <td>0</td>\n",
       "      <td>94505</td>\n",
       "      <td>2016-04-04 23:42:13</td>\n",
       "    </tr>\n",
       "    <tr>\n",
       "      <th>9</th>\n",
       "      <td>2016-03-17 10:53:50</td>\n",
       "      <td>999</td>\n",
       "      <td>small</td>\n",
       "      <td>1998</td>\n",
       "      <td>manual</td>\n",
       "      <td>101</td>\n",
       "      <td>golf</td>\n",
       "      <td>150000</td>\n",
       "      <td>0</td>\n",
       "      <td>NaN</td>\n",
       "      <td>volkswagen</td>\n",
       "      <td>NaN</td>\n",
       "      <td>2016-03-17 00:00:00</td>\n",
       "      <td>0</td>\n",
       "      <td>27472</td>\n",
       "      <td>2016-03-31 17:17:06</td>\n",
       "    </tr>\n",
       "  </tbody>\n",
       "</table>\n",
       "</div>"
      ],
      "text/plain": [
       "           DateCrawled  Price  VehicleType  RegistrationYear Gearbox  Power  \\\n",
       "0  2016-03-24 11:52:17    480          NaN              1993  manual      0   \n",
       "1  2016-03-24 10:58:45  18300        coupe              2011  manual    190   \n",
       "2  2016-03-14 12:52:21   9800          suv              2004    auto    163   \n",
       "3  2016-03-17 16:54:04   1500        small              2001  manual     75   \n",
       "4  2016-03-31 17:25:20   3600        small              2008  manual     69   \n",
       "5  2016-04-04 17:36:23    650        sedan              1995  manual    102   \n",
       "6  2016-04-01 20:48:51   2200  convertible              2004  manual    109   \n",
       "7  2016-03-21 18:54:38      0        sedan              1980  manual     50   \n",
       "8  2016-04-04 23:42:13  14500          bus              2014  manual    125   \n",
       "9  2016-03-17 10:53:50    999        small              1998  manual    101   \n",
       "\n",
       "     Model  Kilometer  RegistrationMonth  FuelType       Brand NotRepaired  \\\n",
       "0     golf     150000                  0    petrol  volkswagen         NaN   \n",
       "1      NaN     125000                  5  gasoline        audi         yes   \n",
       "2    grand     125000                  8  gasoline        jeep         NaN   \n",
       "3     golf     150000                  6    petrol  volkswagen          no   \n",
       "4    fabia      90000                  7  gasoline       skoda          no   \n",
       "5      3er     150000                 10    petrol         bmw         yes   \n",
       "6  2_reihe     150000                  8    petrol     peugeot          no   \n",
       "7    other      40000                  7    petrol  volkswagen          no   \n",
       "8    c_max      30000                  8    petrol        ford         NaN   \n",
       "9     golf     150000                  0       NaN  volkswagen         NaN   \n",
       "\n",
       "           DateCreated  NumberOfPictures  PostalCode             LastSeen  \n",
       "0  2016-03-24 00:00:00                 0       70435  2016-04-07 03:16:57  \n",
       "1  2016-03-24 00:00:00                 0       66954  2016-04-07 01:46:50  \n",
       "2  2016-03-14 00:00:00                 0       90480  2016-04-05 12:47:46  \n",
       "3  2016-03-17 00:00:00                 0       91074  2016-03-17 17:40:17  \n",
       "4  2016-03-31 00:00:00                 0       60437  2016-04-06 10:17:21  \n",
       "5  2016-04-04 00:00:00                 0       33775  2016-04-06 19:17:07  \n",
       "6  2016-04-01 00:00:00                 0       67112  2016-04-05 18:18:39  \n",
       "7  2016-03-21 00:00:00                 0       19348  2016-03-25 16:47:58  \n",
       "8  2016-04-04 00:00:00                 0       94505  2016-04-04 23:42:13  \n",
       "9  2016-03-17 00:00:00                 0       27472  2016-03-31 17:17:06  "
      ]
     },
     "execution_count": 4,
     "metadata": {},
     "output_type": "execute_result"
    }
   ],
   "source": [
    "df.head(10)"
   ]
  },
  {
   "cell_type": "code",
   "execution_count": 5,
   "metadata": {},
   "outputs": [
    {
     "data": {
      "text/html": [
       "<div>\n",
       "<style scoped>\n",
       "    .dataframe tbody tr th:only-of-type {\n",
       "        vertical-align: middle;\n",
       "    }\n",
       "\n",
       "    .dataframe tbody tr th {\n",
       "        vertical-align: top;\n",
       "    }\n",
       "\n",
       "    .dataframe thead th {\n",
       "        text-align: right;\n",
       "    }\n",
       "</style>\n",
       "<table border=\"1\" class=\"dataframe\">\n",
       "  <thead>\n",
       "    <tr style=\"text-align: right;\">\n",
       "      <th></th>\n",
       "      <th>DateCrawled</th>\n",
       "      <th>Price</th>\n",
       "      <th>VehicleType</th>\n",
       "      <th>RegistrationYear</th>\n",
       "      <th>Gearbox</th>\n",
       "      <th>Power</th>\n",
       "      <th>Model</th>\n",
       "      <th>Kilometer</th>\n",
       "      <th>RegistrationMonth</th>\n",
       "      <th>FuelType</th>\n",
       "      <th>Brand</th>\n",
       "      <th>NotRepaired</th>\n",
       "      <th>DateCreated</th>\n",
       "      <th>NumberOfPictures</th>\n",
       "      <th>PostalCode</th>\n",
       "      <th>LastSeen</th>\n",
       "    </tr>\n",
       "  </thead>\n",
       "  <tbody>\n",
       "    <tr>\n",
       "      <th>354359</th>\n",
       "      <td>2016-03-28 13:48:07</td>\n",
       "      <td>7900</td>\n",
       "      <td>sedan</td>\n",
       "      <td>2010</td>\n",
       "      <td>manual</td>\n",
       "      <td>140</td>\n",
       "      <td>golf</td>\n",
       "      <td>150000</td>\n",
       "      <td>7</td>\n",
       "      <td>gasoline</td>\n",
       "      <td>volkswagen</td>\n",
       "      <td>no</td>\n",
       "      <td>2016-03-28 00:00:00</td>\n",
       "      <td>0</td>\n",
       "      <td>75223</td>\n",
       "      <td>2016-04-02 18:16:20</td>\n",
       "    </tr>\n",
       "    <tr>\n",
       "      <th>354360</th>\n",
       "      <td>2016-04-02 20:37:03</td>\n",
       "      <td>3999</td>\n",
       "      <td>wagon</td>\n",
       "      <td>2005</td>\n",
       "      <td>manual</td>\n",
       "      <td>3</td>\n",
       "      <td>3er</td>\n",
       "      <td>150000</td>\n",
       "      <td>5</td>\n",
       "      <td>gasoline</td>\n",
       "      <td>bmw</td>\n",
       "      <td>no</td>\n",
       "      <td>2016-04-02 00:00:00</td>\n",
       "      <td>0</td>\n",
       "      <td>81825</td>\n",
       "      <td>2016-04-06 20:47:12</td>\n",
       "    </tr>\n",
       "    <tr>\n",
       "      <th>354361</th>\n",
       "      <td>2016-03-09 13:37:43</td>\n",
       "      <td>5250</td>\n",
       "      <td>NaN</td>\n",
       "      <td>2016</td>\n",
       "      <td>auto</td>\n",
       "      <td>150</td>\n",
       "      <td>159</td>\n",
       "      <td>150000</td>\n",
       "      <td>12</td>\n",
       "      <td>NaN</td>\n",
       "      <td>alfa_romeo</td>\n",
       "      <td>no</td>\n",
       "      <td>2016-03-09 00:00:00</td>\n",
       "      <td>0</td>\n",
       "      <td>51371</td>\n",
       "      <td>2016-03-13 01:44:13</td>\n",
       "    </tr>\n",
       "    <tr>\n",
       "      <th>354362</th>\n",
       "      <td>2016-03-19 19:53:49</td>\n",
       "      <td>3200</td>\n",
       "      <td>sedan</td>\n",
       "      <td>2004</td>\n",
       "      <td>manual</td>\n",
       "      <td>225</td>\n",
       "      <td>leon</td>\n",
       "      <td>150000</td>\n",
       "      <td>5</td>\n",
       "      <td>petrol</td>\n",
       "      <td>seat</td>\n",
       "      <td>yes</td>\n",
       "      <td>2016-03-19 00:00:00</td>\n",
       "      <td>0</td>\n",
       "      <td>96465</td>\n",
       "      <td>2016-03-19 20:44:43</td>\n",
       "    </tr>\n",
       "    <tr>\n",
       "      <th>354363</th>\n",
       "      <td>2016-03-27 20:36:20</td>\n",
       "      <td>1150</td>\n",
       "      <td>bus</td>\n",
       "      <td>2000</td>\n",
       "      <td>manual</td>\n",
       "      <td>0</td>\n",
       "      <td>zafira</td>\n",
       "      <td>150000</td>\n",
       "      <td>3</td>\n",
       "      <td>petrol</td>\n",
       "      <td>opel</td>\n",
       "      <td>no</td>\n",
       "      <td>2016-03-27 00:00:00</td>\n",
       "      <td>0</td>\n",
       "      <td>26624</td>\n",
       "      <td>2016-03-29 10:17:23</td>\n",
       "    </tr>\n",
       "    <tr>\n",
       "      <th>354364</th>\n",
       "      <td>2016-03-21 09:50:58</td>\n",
       "      <td>0</td>\n",
       "      <td>NaN</td>\n",
       "      <td>2005</td>\n",
       "      <td>manual</td>\n",
       "      <td>0</td>\n",
       "      <td>colt</td>\n",
       "      <td>150000</td>\n",
       "      <td>7</td>\n",
       "      <td>petrol</td>\n",
       "      <td>mitsubishi</td>\n",
       "      <td>yes</td>\n",
       "      <td>2016-03-21 00:00:00</td>\n",
       "      <td>0</td>\n",
       "      <td>2694</td>\n",
       "      <td>2016-03-21 10:42:49</td>\n",
       "    </tr>\n",
       "    <tr>\n",
       "      <th>354365</th>\n",
       "      <td>2016-03-14 17:48:27</td>\n",
       "      <td>2200</td>\n",
       "      <td>NaN</td>\n",
       "      <td>2005</td>\n",
       "      <td>NaN</td>\n",
       "      <td>0</td>\n",
       "      <td>NaN</td>\n",
       "      <td>20000</td>\n",
       "      <td>1</td>\n",
       "      <td>NaN</td>\n",
       "      <td>sonstige_autos</td>\n",
       "      <td>NaN</td>\n",
       "      <td>2016-03-14 00:00:00</td>\n",
       "      <td>0</td>\n",
       "      <td>39576</td>\n",
       "      <td>2016-04-06 00:46:52</td>\n",
       "    </tr>\n",
       "    <tr>\n",
       "      <th>354366</th>\n",
       "      <td>2016-03-05 19:56:21</td>\n",
       "      <td>1199</td>\n",
       "      <td>convertible</td>\n",
       "      <td>2000</td>\n",
       "      <td>auto</td>\n",
       "      <td>101</td>\n",
       "      <td>fortwo</td>\n",
       "      <td>125000</td>\n",
       "      <td>3</td>\n",
       "      <td>petrol</td>\n",
       "      <td>smart</td>\n",
       "      <td>no</td>\n",
       "      <td>2016-03-05 00:00:00</td>\n",
       "      <td>0</td>\n",
       "      <td>26135</td>\n",
       "      <td>2016-03-11 18:17:12</td>\n",
       "    </tr>\n",
       "    <tr>\n",
       "      <th>354367</th>\n",
       "      <td>2016-03-19 18:57:12</td>\n",
       "      <td>9200</td>\n",
       "      <td>bus</td>\n",
       "      <td>1996</td>\n",
       "      <td>manual</td>\n",
       "      <td>102</td>\n",
       "      <td>transporter</td>\n",
       "      <td>150000</td>\n",
       "      <td>3</td>\n",
       "      <td>gasoline</td>\n",
       "      <td>volkswagen</td>\n",
       "      <td>no</td>\n",
       "      <td>2016-03-19 00:00:00</td>\n",
       "      <td>0</td>\n",
       "      <td>87439</td>\n",
       "      <td>2016-04-07 07:15:26</td>\n",
       "    </tr>\n",
       "    <tr>\n",
       "      <th>354368</th>\n",
       "      <td>2016-03-20 19:41:08</td>\n",
       "      <td>3400</td>\n",
       "      <td>wagon</td>\n",
       "      <td>2002</td>\n",
       "      <td>manual</td>\n",
       "      <td>100</td>\n",
       "      <td>golf</td>\n",
       "      <td>150000</td>\n",
       "      <td>6</td>\n",
       "      <td>gasoline</td>\n",
       "      <td>volkswagen</td>\n",
       "      <td>NaN</td>\n",
       "      <td>2016-03-20 00:00:00</td>\n",
       "      <td>0</td>\n",
       "      <td>40764</td>\n",
       "      <td>2016-03-24 12:45:21</td>\n",
       "    </tr>\n",
       "  </tbody>\n",
       "</table>\n",
       "</div>"
      ],
      "text/plain": [
       "                DateCrawled  Price  VehicleType  RegistrationYear Gearbox  \\\n",
       "354359  2016-03-28 13:48:07   7900        sedan              2010  manual   \n",
       "354360  2016-04-02 20:37:03   3999        wagon              2005  manual   \n",
       "354361  2016-03-09 13:37:43   5250          NaN              2016    auto   \n",
       "354362  2016-03-19 19:53:49   3200        sedan              2004  manual   \n",
       "354363  2016-03-27 20:36:20   1150          bus              2000  manual   \n",
       "354364  2016-03-21 09:50:58      0          NaN              2005  manual   \n",
       "354365  2016-03-14 17:48:27   2200          NaN              2005     NaN   \n",
       "354366  2016-03-05 19:56:21   1199  convertible              2000    auto   \n",
       "354367  2016-03-19 18:57:12   9200          bus              1996  manual   \n",
       "354368  2016-03-20 19:41:08   3400        wagon              2002  manual   \n",
       "\n",
       "        Power        Model  Kilometer  RegistrationMonth  FuelType  \\\n",
       "354359    140         golf     150000                  7  gasoline   \n",
       "354360      3          3er     150000                  5  gasoline   \n",
       "354361    150          159     150000                 12       NaN   \n",
       "354362    225         leon     150000                  5    petrol   \n",
       "354363      0       zafira     150000                  3    petrol   \n",
       "354364      0         colt     150000                  7    petrol   \n",
       "354365      0          NaN      20000                  1       NaN   \n",
       "354366    101       fortwo     125000                  3    petrol   \n",
       "354367    102  transporter     150000                  3  gasoline   \n",
       "354368    100         golf     150000                  6  gasoline   \n",
       "\n",
       "                 Brand NotRepaired          DateCreated  NumberOfPictures  \\\n",
       "354359      volkswagen          no  2016-03-28 00:00:00                 0   \n",
       "354360             bmw          no  2016-04-02 00:00:00                 0   \n",
       "354361      alfa_romeo          no  2016-03-09 00:00:00                 0   \n",
       "354362            seat         yes  2016-03-19 00:00:00                 0   \n",
       "354363            opel          no  2016-03-27 00:00:00                 0   \n",
       "354364      mitsubishi         yes  2016-03-21 00:00:00                 0   \n",
       "354365  sonstige_autos         NaN  2016-03-14 00:00:00                 0   \n",
       "354366           smart          no  2016-03-05 00:00:00                 0   \n",
       "354367      volkswagen          no  2016-03-19 00:00:00                 0   \n",
       "354368      volkswagen         NaN  2016-03-20 00:00:00                 0   \n",
       "\n",
       "        PostalCode             LastSeen  \n",
       "354359       75223  2016-04-02 18:16:20  \n",
       "354360       81825  2016-04-06 20:47:12  \n",
       "354361       51371  2016-03-13 01:44:13  \n",
       "354362       96465  2016-03-19 20:44:43  \n",
       "354363       26624  2016-03-29 10:17:23  \n",
       "354364        2694  2016-03-21 10:42:49  \n",
       "354365       39576  2016-04-06 00:46:52  \n",
       "354366       26135  2016-03-11 18:17:12  \n",
       "354367       87439  2016-04-07 07:15:26  \n",
       "354368       40764  2016-03-24 12:45:21  "
      ]
     },
     "execution_count": 5,
     "metadata": {},
     "output_type": "execute_result"
    }
   ],
   "source": [
    "df.tail(10)"
   ]
  },
  {
   "cell_type": "code",
   "execution_count": 6,
   "metadata": {},
   "outputs": [
    {
     "name": "stdout",
     "output_type": "stream",
     "text": [
      "<class 'pandas.core.frame.DataFrame'>\n",
      "RangeIndex: 354369 entries, 0 to 354368\n",
      "Data columns (total 16 columns):\n",
      " #   Column             Non-Null Count   Dtype \n",
      "---  ------             --------------   ----- \n",
      " 0   DateCrawled        354369 non-null  object\n",
      " 1   Price              354369 non-null  int64 \n",
      " 2   VehicleType        316879 non-null  object\n",
      " 3   RegistrationYear   354369 non-null  int64 \n",
      " 4   Gearbox            334536 non-null  object\n",
      " 5   Power              354369 non-null  int64 \n",
      " 6   Model              334664 non-null  object\n",
      " 7   Kilometer          354369 non-null  int64 \n",
      " 8   RegistrationMonth  354369 non-null  int64 \n",
      " 9   FuelType           321474 non-null  object\n",
      " 10  Brand              354369 non-null  object\n",
      " 11  NotRepaired        283215 non-null  object\n",
      " 12  DateCreated        354369 non-null  object\n",
      " 13  NumberOfPictures   354369 non-null  int64 \n",
      " 14  PostalCode         354369 non-null  int64 \n",
      " 15  LastSeen           354369 non-null  object\n",
      "dtypes: int64(7), object(9)\n",
      "memory usage: 43.3+ MB\n"
     ]
    }
   ],
   "source": [
    "df.info()"
   ]
  },
  {
   "cell_type": "code",
   "execution_count": 7,
   "metadata": {},
   "outputs": [
    {
     "data": {
      "text/plain": [
       "Index(['DateCrawled', 'Price', 'VehicleType', 'RegistrationYear', 'Gearbox',\n",
       "       'Power', 'Model', 'Kilometer', 'RegistrationMonth', 'FuelType', 'Brand',\n",
       "       'NotRepaired', 'DateCreated', 'NumberOfPictures', 'PostalCode',\n",
       "       'LastSeen'],\n",
       "      dtype='object')"
      ]
     },
     "execution_count": 7,
     "metadata": {},
     "output_type": "execute_result"
    }
   ],
   "source": [
    "df.columns"
   ]
  },
  {
   "cell_type": "markdown",
   "metadata": {},
   "source": [
    "## Подготовка данных\n",
    "### Заполнение пропусков\n",
    "Посчитаем количество пропущенных значений в таблице df."
   ]
  },
  {
   "cell_type": "code",
   "execution_count": 8,
   "metadata": {},
   "outputs": [
    {
     "data": {
      "text/plain": [
       "DateCrawled              0\n",
       "Price                    0\n",
       "VehicleType          37490\n",
       "RegistrationYear         0\n",
       "Gearbox              19833\n",
       "Power                    0\n",
       "Model                19705\n",
       "Kilometer                0\n",
       "RegistrationMonth        0\n",
       "FuelType             32895\n",
       "Brand                    0\n",
       "NotRepaired          71154\n",
       "DateCreated              0\n",
       "NumberOfPictures         0\n",
       "PostalCode               0\n",
       "LastSeen                 0\n",
       "dtype: int64"
      ]
     },
     "execution_count": 8,
     "metadata": {},
     "output_type": "execute_result"
    }
   ],
   "source": [
    "df.isna().sum()"
   ]
  },
  {
   "cell_type": "markdown",
   "metadata": {},
   "source": [
    "Рассмотрим столбцы с пропущенными значениями `VehicleType` (тип автомобильного кузова), `Gearbox` (тип коробки передач), `Model` (модель автомобиля), `FuelType` (тип топлива) и `NotRepaired` (была машина в ремонте или нет). Все они имеют тип `object`. Посмотрим их уникальные значения."
   ]
  },
  {
   "cell_type": "code",
   "execution_count": 9,
   "metadata": {},
   "outputs": [
    {
     "name": "stdout",
     "output_type": "stream",
     "text": [
      "Уникальные значения столбца VehicleType\n",
      "['bus' 'convertible' 'coupe' 'other' 'sedan' 'small' 'suv' 'wagon' nan]\n",
      "\n",
      "Уникальные значения столбца Gearbox\n",
      "['auto' 'manual' nan]\n",
      "\n",
      "Уникальные значения столбца Model\n",
      "['100' '145' '147' '156' '159' '1_reihe' '1er' '200' '2_reihe' '300c'\n",
      " '3_reihe' '3er' '4_reihe' '500' '5_reihe' '5er' '601' '6_reihe' '6er'\n",
      " '7er' '80' '850' '90' '900' '9000' '911' 'a1' 'a2' 'a3' 'a4' 'a5' 'a6'\n",
      " 'a8' 'a_klasse' 'accord' 'agila' 'alhambra' 'almera' 'altea' 'amarok'\n",
      " 'antara' 'arosa' 'astra' 'auris' 'avensis' 'aveo' 'aygo' 'b_klasse'\n",
      " 'b_max' 'beetle' 'berlingo' 'bora' 'boxster' 'bravo' 'c1' 'c2' 'c3' 'c4'\n",
      " 'c5' 'c_klasse' 'c_max' 'c_reihe' 'caddy' 'calibra' 'captiva' 'carisma'\n",
      " 'carnival' 'cayenne' 'cc' 'ceed' 'charade' 'cherokee' 'citigo' 'civic'\n",
      " 'cl' 'clio' 'clk' 'clubman' 'colt' 'combo' 'cooper' 'cordoba' 'corolla'\n",
      " 'corsa' 'cr_reihe' 'croma' 'crossfire' 'cuore' 'cx_reihe' 'defender'\n",
      " 'delta' 'discovery' 'doblo' 'ducato' 'duster' 'e_klasse' 'elefantino'\n",
      " 'eos' 'escort' 'espace' 'exeo' 'fabia' 'fiesta' 'focus' 'forester'\n",
      " 'forfour' 'fortwo' 'fox' 'freelander' 'fusion' 'g_klasse' 'galant'\n",
      " 'galaxy' 'getz' 'gl' 'glk' 'golf' 'grand' 'i3' 'i_reihe' 'ibiza'\n",
      " 'impreza' 'insignia' 'jazz' 'jetta' 'jimny' 'juke' 'justy' 'ka' 'kadett'\n",
      " 'kaefer' 'kalina' 'kalos' 'kangoo' 'kappa' 'kuga' 'laguna' 'lancer'\n",
      " 'lanos' 'legacy' 'leon' 'lodgy' 'logan' 'lupo' 'lybra' 'm_klasse'\n",
      " 'm_reihe' 'materia' 'matiz' 'megane' 'meriva' 'micra' 'mii' 'modus'\n",
      " 'mondeo' 'move' 'musa' 'mustang' 'mx_reihe' 'navara' 'niva' 'note'\n",
      " 'nubira' 'octavia' 'omega' 'one' 'other' 'outlander' 'pajero' 'panda'\n",
      " 'passat' 'phaeton' 'picanto' 'polo' 'primera' 'ptcruiser' 'punto' 'q3'\n",
      " 'q5' 'q7' 'qashqai' 'r19' 'range_rover' 'range_rover_evoque'\n",
      " 'range_rover_sport' 'rangerover' 'rav' 'rio' 'roadster' 'roomster'\n",
      " 'rx_reihe' 's60' 's_klasse' 's_max' 's_type' 'samara' 'sandero' 'santa'\n",
      " 'scenic' 'scirocco' 'seicento' 'serie_1' 'serie_2' 'serie_3' 'sharan'\n",
      " 'signum' 'sirion' 'sl' 'slk' 'sorento' 'spark' 'spider' 'sportage'\n",
      " 'sprinter' 'stilo' 'superb' 'swift' 'terios' 'tigra' 'tiguan' 'toledo'\n",
      " 'touareg' 'touran' 'transit' 'transporter' 'tt' 'tucson' 'twingo' 'up'\n",
      " 'v40' 'v50' 'v60' 'v70' 'v_klasse' 'vectra' 'verso' 'viano' 'vito'\n",
      " 'vivaro' 'voyager' 'wrangler' 'x_reihe' 'x_trail' 'x_type' 'xc_reihe'\n",
      " 'yaris' 'yeti' 'ypsilon' 'z_reihe' 'zafira' nan]\n",
      "\n",
      "Уникальные значения столбца FuelType\n",
      "['cng' 'electric' 'gasoline' 'hybrid' 'lpg' 'other' 'petrol' nan]\n",
      "\n",
      "Уникальные значения столбца NotRepaired\n",
      "['no' 'yes' nan]\n",
      "\n"
     ]
    }
   ],
   "source": [
    "skipped_columns = ['VehicleType', 'Gearbox', 'Model', 'FuelType', 'NotRepaired']\n",
    "\n",
    "for i in skipped_columns:\n",
    "    print(f'Уникальные значения столбца {i}')\n",
    "    print (df[i].sort_values().unique())\n",
    "    print()"
   ]
  },
  {
   "cell_type": "markdown",
   "metadata": {},
   "source": [
    "+ Столбец __VehicleType__\n",
    "\n",
    "Одно из уникальных значений — `other`, что означает какой-то другой тип автомобильного кузова. По сути все пропущенные значения и значения `other` — это одно и то же. Поэтому заполним все пропуски столбца `VehicleType` значением `other` типа `object`.\n",
    "\n",
    "+ Столбец __Gearbox__\n",
    "\n",
    "Весь столбец заполнен значениями `manual` (механика), `auto` (автомат) и пропусками. Заполним все пропуски значением `unknown` типа `object`.\n",
    "\n",
    "+ Столбец __Model__\n",
    "\n",
    "Во-первых значения `range_rover` и `rangerover` являются неявными дубликатами, поэтому установим для них единое значение `range_rover`. Во-вторых одно из уникальных значений — `other`, поэтому по аналогии со столбцом `VehicleType` заполним все пропуски значением `other` типа `object`.\n",
    "\n",
    "+ Столбец __FuelType__\n",
    "\n",
    "Во-первых значения `petrol` и `gasoline` означают одно и то же (бензин), поэтому установим для них единое значение `petrol`. Во-вторых одно из уникальных значений — `other`, поэтому по аналогии со столбцом `VehicleType` заполним все пропуски значением `other` типа `object`.\n",
    "\n",
    "+ Столбец __NotRepaired__\n",
    "\n",
    "Весь столбец заполнен значениями `yes` (машина была в ремонте), `no` (машина не была в ремонте) и пропусками. Заполним все пропуски значением `unknown` типа `object`."
   ]
  },
  {
   "cell_type": "code",
   "execution_count": 10,
   "metadata": {},
   "outputs": [],
   "source": [
    "# Проведём замену неявных дубликатов\n",
    "df['Model'] = df['Model'].replace('rangerover', 'range_rover')\n",
    "df['FuelType'] = df['FuelType'].replace('gasoline', 'petrol')\n",
    "\n",
    "# Проведём заполнение пустых значений\n",
    "df['VehicleType'] = df['VehicleType'].fillna('other')\n",
    "df['Gearbox'] = df['Gearbox'].fillna('unknown')\n",
    "df['Model'] = df['Model'].fillna('other')\n",
    "df['FuelType'] = df['FuelType'].fillna('other')\n",
    "df['NotRepaired'] = df['NotRepaired'].fillna('unknown')"
   ]
  },
  {
   "cell_type": "markdown",
   "metadata": {},
   "source": [
    "### Удаление неинформативных признаков\n",
    "Неинформативными будем считать признаки, которые не могут влиять на стоимость автомобиля. Сюда можно отнести:\n",
    "+ __`DateCrawled`__ — дата скачивания анкеты из базы (тип данных object). Никак не влияет на стоимость автомобиля.\n",
    "\n",
    "+ __`RegistrationMonth`__ — месяц регистрации автомобиля (тип данных int). У нас уже есть гораздо более значимый признак с годами регистрации автомобиля, поэтому признак с месяцами не нужен.\n",
    "\n",
    "+ __`DateCreated`__ — дата создания анкеты (тип данных int). Никак не влияет на стоимость автомобиля.\n",
    "\n",
    "+ __`NumberOfPictures`__ — количество фотографий автомобиля (тип данных int). При просмотре первых и последних 10 строк, все ячейки были заполненны нулями. Если в этом столбце нет других значений кроме нулей, то его можно удалить.\n",
    "\n",
    "+ __`PostalCode`__ — почтовый индекс пользователя (тип данных int). Никак не влияет на стоимость автомобиля.\n",
    "\n",
    "+ __`LastSeen`__ — дата последней активности пользователя (тип данных object). Никак не влияет на стоимость автомобиля."
   ]
  },
  {
   "cell_type": "code",
   "execution_count": 11,
   "metadata": {},
   "outputs": [
    {
     "data": {
      "text/plain": [
       "array([0], dtype=int64)"
      ]
     },
     "execution_count": 11,
     "metadata": {},
     "output_type": "execute_result"
    }
   ],
   "source": [
    "df['NumberOfPictures'].unique()"
   ]
  },
  {
   "cell_type": "markdown",
   "metadata": {},
   "source": [
    "В столбце `NumberOfPictures` оказались только нули. Удалим все неинформативные признаки, кроме `DateCrawled` и `RegistrationMonth`, так как они понадобятся при проверке данных на аномалии (поэтому удалим их позже). Также перед удалением столбца `DateCrawled` посмотрим его максимум и минимум, так как это понадобится при проверке данных на аномалии."
   ]
  },
  {
   "cell_type": "code",
   "execution_count": 12,
   "metadata": {},
   "outputs": [
    {
     "data": {
      "text/plain": [
       "['2016-03-05 14:06:22', '2016-04-07 14:36:58']"
      ]
     },
     "execution_count": 12,
     "metadata": {},
     "output_type": "execute_result"
    }
   ],
   "source": [
    "# Удаление части ненужных признаков\n",
    "df = df.drop(['DateCreated', 'NumberOfPictures', 'PostalCode', 'LastSeen'], axis = 1)\n",
    "\n",
    "# Период времени, в который скачивали анкеты\n",
    "[df['DateCrawled'].min(), df['DateCrawled'].max()]"
   ]
  },
  {
   "cell_type": "markdown",
   "metadata": {},
   "source": [
    "Получается, что все анкеты скачали в марте и апреле 2016 года."
   ]
  },
  {
   "cell_type": "markdown",
   "metadata": {},
   "source": [
    "### Проверка данных на аномалии\n",
    "Осталось проверить пять столбцов `Price`, `RegistrationYear`, `Power`, `Kilometer` и `Brand`. Рассмотрим каждый из них отдельно.\n",
    "### `Price` — цена в евро"
   ]
  },
  {
   "cell_type": "code",
   "execution_count": 13,
   "metadata": {},
   "outputs": [
    {
     "data": {
      "text/plain": [
       "array([    0,     1,     2, ..., 19998, 19999, 20000], dtype=int64)"
      ]
     },
     "execution_count": 13,
     "metadata": {},
     "output_type": "execute_result"
    }
   ],
   "source": [
    "df['Price'].sort_values().unique()"
   ]
  },
  {
   "cell_type": "markdown",
   "metadata": {},
   "source": [
    "Стоимость всех автомобилей находится в диапазоне от 0 до 20000 евро. Минимальные значения цены в 0, 1, 2 и т.д. евро являются аномальными. Построим гистограмму, чтобы точнее определить границу аномально малых цен."
   ]
  },
  {
   "cell_type": "code",
   "execution_count": 14,
   "metadata": {},
   "outputs": [
    {
     "data": {
      "image/png": "[encoded data removed]",
      "text/plain": [
       "<Figure size 720x360 with 1 Axes>"
      ]
     },
     "metadata": {},
     "output_type": "display_data"
    }
   ],
   "source": [
    "df['Price'].hist(bins=200, figsize=(10, 5))\n",
    "plt.title('Гистограмма распределения автомобилей по стоимости')\n",
    "plt.xlabel('Стоимость автомобилей')\n",
    "plt.ylabel('Количество автомобилей')\n",
    "plt.show()"
   ]
  },
  {
   "cell_type": "markdown",
   "metadata": {},
   "source": [
    "Наблюдается значительный выброс в районе околонулевых значений. Построим укрупнённую гистограмму для этого диапазона."
   ]
  },
  {
   "cell_type": "code",
   "execution_count": 15,
   "metadata": {},
   "outputs": [
    {
     "data": {
      "image/png": "[encoded data removed]",
      "text/plain": [
       "<Figure size 720x360 with 1 Axes>"
      ]
     },
     "metadata": {},
     "output_type": "display_data"
    }
   ],
   "source": [
    "df['Price'].hist(bins=50, figsize=(10, 5), range=(0, 2000))\n",
    "plt.title('Гистограмма распределения автомобилей по стоимости')\n",
    "plt.xlabel('Стоимость автомобилей')\n",
    "plt.ylabel('Количество автомобилей')\n",
    "plt.show()"
   ]
  },
  {
   "cell_type": "markdown",
   "metadata": {},
   "source": [
    "Удалим все строки со значением цены менее 500 как аномальные."
   ]
  },
  {
   "cell_type": "code",
   "execution_count": 16,
   "metadata": {},
   "outputs": [],
   "source": [
    "df = df.loc[df['Price'] > 500]"
   ]
  },
  {
   "cell_type": "markdown",
   "metadata": {},
   "source": [
    "### `RegistrationYear` — год регистрации автомобиля"
   ]
  },
  {
   "cell_type": "code",
   "execution_count": 17,
   "metadata": {},
   "outputs": [
    {
     "data": {
      "text/plain": [
       "array([1000, 1001, 1039, 1234, 1400, 1500, 1600, 1800, 1910, 1923, 1925,\n",
       "       1927, 1928, 1929, 1930, 1931, 1932, 1933, 1934, 1935, 1936, 1937,\n",
       "       1938, 1940, 1941, 1942, 1943, 1944, 1945, 1946, 1947, 1948, 1949,\n",
       "       1950, 1951, 1952, 1953, 1954, 1955, 1956, 1957, 1958, 1959, 1960,\n",
       "       1961, 1962, 1963, 1964, 1965, 1966, 1967, 1968, 1969, 1970, 1971,\n",
       "       1972, 1973, 1974, 1975, 1976, 1977, 1978, 1979, 1980, 1981, 1982,\n",
       "       1983, 1984, 1985, 1986, 1987, 1988, 1989, 1990, 1991, 1992, 1993,\n",
       "       1994, 1995, 1996, 1997, 1998, 1999, 2000, 2001, 2002, 2003, 2004,\n",
       "       2005, 2006, 2007, 2008, 2009, 2010, 2011, 2012, 2013, 2014, 2015,\n",
       "       2016, 2017, 2018, 2019, 2066, 2290, 2500, 2800, 2900, 3000, 3200,\n",
       "       3700, 4000, 4100, 4500, 5000, 5300, 5555, 5911, 6000, 7000, 7100,\n",
       "       7800, 8500, 8888, 9000, 9450, 9999], dtype=int64)"
      ]
     },
     "execution_count": 17,
     "metadata": {},
     "output_type": "execute_result"
    }
   ],
   "source": [
    "df['RegistrationYear'].sort_values().unique()"
   ]
  },
  {
   "cell_type": "markdown",
   "metadata": {},
   "source": [
    "Год регистрации всех автомобилей находится в диапазоне от 1000 до 9999 года. Как минимальные, так и максимальные значения являются аномальными. В предыдущем разделе по столбцу `DateCrawled` мы определили, что все анкеты были скачаны в марте и апреле 2016 года, а значит можно отсечь все автомобили с годом регистрации старше 2016. Чтобы понять, где отсекать нижнюю границу, построим укрупнённую гистограмму."
   ]
  },
  {
   "cell_type": "code",
   "execution_count": 18,
   "metadata": {},
   "outputs": [
    {
     "data": {
      "image/png": "[encoded data removed]",
      "text/plain": [
       "<Figure size 720x360 with 1 Axes>"
      ]
     },
     "metadata": {},
     "output_type": "display_data"
    }
   ],
   "source": [
    "df['RegistrationYear'].hist(bins=50, figsize=(10, 5), range=(1940, 2016))\n",
    "plt.title('Гистограмма распределения автомобилей по году регистрации')\n",
    "plt.xlabel('Год регистрации')\n",
    "plt.ylabel('Количество автомобилей')\n",
    "plt.show()"
   ]
  },
  {
   "cell_type": "markdown",
   "metadata": {},
   "source": [
    "Примем за нижнюю границу все строки с годом регистрации до 1990 года и удалим их."
   ]
  },
  {
   "cell_type": "code",
   "execution_count": 19,
   "metadata": {},
   "outputs": [],
   "source": [
    "# Вытащим значение месяца из DateCrawled\n",
    "df['DateCrawled'] = pd.to_datetime(df['DateCrawled'], format='%Y-%m-%d').dt.month\n",
    "\n",
    "# Все анкеты с регистрацией авто с 1990 по 2015 год\n",
    "condition_1 = 'RegistrationYear > 1989 and RegistrationYear < 2016'\n",
    "\n",
    "# Все анкеты с регистрацией авто за 2016 год с января по февраль\n",
    "condition_2 = 'RegistrationYear == 2016 and RegistrationMonth < 3 and RegistrationMonth > 0'\n",
    "\n",
    "# Все анкеты с регистрацией авто в марте 2016 года и скачанные в апреле 2016\n",
    "condition_3 = 'RegistrationYear == 2016 and RegistrationMonth == 3 and DateCrawled == 4'\n",
    "\n",
    "# Все условия вместе\n",
    "all_conditions = f'{condition_1} or {condition_2} or {condition_3}'\n",
    "\n",
    "# Теперь удалим всё лишнее\n",
    "df = df.query(all_conditions)\n",
    "df = df.drop(['DateCrawled', 'RegistrationMonth'], axis = 1)"
   ]
  },
  {
   "cell_type": "markdown",
   "metadata": {},
   "source": [
    "### `Power` — мощность в л.с."
   ]
  },
  {
   "cell_type": "code",
   "execution_count": 20,
   "metadata": {},
   "outputs": [
    {
     "data": {
      "text/plain": [
       "[0, 20000]"
      ]
     },
     "execution_count": 20,
     "metadata": {},
     "output_type": "execute_result"
    }
   ],
   "source": [
    "[df['Power'].min(), df['Power'].max()]"
   ]
  },
  {
   "cell_type": "markdown",
   "metadata": {},
   "source": [
    "Мощность двигателя всех автомобилей находится в диапазоне от 0 до 20000 лошадиных сил. Как минимальные, так и максимальные значения являются аномальными. Построим несколько гистограмм разного масштаба, чтобы точнее отсечь неправдоподобные цифры."
   ]
  },
  {
   "cell_type": "code",
   "execution_count": 21,
   "metadata": {},
   "outputs": [
    {
     "data": {
      "image/png": "[encoded data removed]",
      "text/plain": [
       "<Figure size 720x360 with 1 Axes>"
      ]
     },
     "metadata": {},
     "output_type": "display_data"
    }
   ],
   "source": [
    "df['Power'].hist(bins=50, figsize=(10, 5), range=(0, 200))\n",
    "plt.title('Гистограмма распределения автомобилей по мощности двигателя')\n",
    "plt.xlabel('Мощность двигателя')\n",
    "plt.ylabel('Количество автомобилей')\n",
    "plt.show()"
   ]
  },
  {
   "cell_type": "code",
   "execution_count": 22,
   "metadata": {},
   "outputs": [
    {
     "data": {
      "image/png": "[encoded data removed]",
      "text/plain": [
       "<Figure size 720x360 with 1 Axes>"
      ]
     },
     "metadata": {},
     "output_type": "display_data"
    }
   ],
   "source": [
    "df['Power'].hist(bins=50, figsize=(10, 5), range=(200, 1000))\n",
    "plt.title('Гистограмма распределения автомобилей по мощности двигателя')\n",
    "plt.xlabel('Мощность двигателя')\n",
    "plt.ylabel('Количество автомобилей')\n",
    "plt.show()"
   ]
  },
  {
   "cell_type": "markdown",
   "metadata": {},
   "source": [
    "Удалим все строки со значением мощности менее 50 и более 500 как аномальные."
   ]
  },
  {
   "cell_type": "code",
   "execution_count": 23,
   "metadata": {},
   "outputs": [],
   "source": [
    "df = df.query('Power > 49 and Power < 501')"
   ]
  },
  {
   "cell_type": "markdown",
   "metadata": {},
   "source": [
    "### `Kilometer` — пробег в км"
   ]
  },
  {
   "cell_type": "code",
   "execution_count": 24,
   "metadata": {},
   "outputs": [
    {
     "data": {
      "text/plain": [
       "array([  5000,  10000,  20000,  30000,  40000,  50000,  60000,  70000,\n",
       "        80000,  90000, 100000, 125000, 150000], dtype=int64)"
      ]
     },
     "execution_count": 24,
     "metadata": {},
     "output_type": "execute_result"
    }
   ],
   "source": [
    "df['Kilometer'].sort_values().unique()"
   ]
  },
  {
   "cell_type": "markdown",
   "metadata": {},
   "source": [
    "В столбце `Kilometer` нет аномальных значений."
   ]
  },
  {
   "cell_type": "markdown",
   "metadata": {},
   "source": [
    "### `Brand` — марка автомобиля"
   ]
  },
  {
   "cell_type": "code",
   "execution_count": 25,
   "metadata": {},
   "outputs": [
    {
     "data": {
      "text/plain": [
       "array(['alfa_romeo', 'audi', 'bmw', 'chevrolet', 'chrysler', 'citroen',\n",
       "       'dacia', 'daewoo', 'daihatsu', 'fiat', 'ford', 'honda', 'hyundai',\n",
       "       'jaguar', 'jeep', 'kia', 'lada', 'lancia', 'land_rover', 'mazda',\n",
       "       'mercedes_benz', 'mini', 'mitsubishi', 'nissan', 'opel', 'peugeot',\n",
       "       'porsche', 'renault', 'rover', 'saab', 'seat', 'skoda', 'smart',\n",
       "       'sonstige_autos', 'subaru', 'suzuki', 'toyota', 'trabant',\n",
       "       'volkswagen', 'volvo'], dtype=object)"
      ]
     },
     "execution_count": 25,
     "metadata": {},
     "output_type": "execute_result"
    }
   ],
   "source": [
    "df['Brand'].sort_values().unique()"
   ]
  },
  {
   "cell_type": "markdown",
   "metadata": {},
   "source": [
    "В столбце `Brand` нет ни скрытых дубликатов ни аномальных значений."
   ]
  },
  {
   "cell_type": "markdown",
   "metadata": {},
   "source": [
    "### Поиск явных дубликатов"
   ]
  },
  {
   "cell_type": "code",
   "execution_count": 26,
   "metadata": {},
   "outputs": [
    {
     "data": {
      "text/plain": [
       "36537"
      ]
     },
     "execution_count": 26,
     "metadata": {},
     "output_type": "execute_result"
    }
   ],
   "source": [
    "df.duplicated().sum()"
   ]
  },
  {
   "cell_type": "markdown",
   "metadata": {},
   "source": [
    "Удалим явные дубликаты и посчитаем их ещё раз после сделанных изменений."
   ]
  },
  {
   "cell_type": "code",
   "execution_count": 27,
   "metadata": {},
   "outputs": [
    {
     "data": {
      "text/plain": [
       "0"
      ]
     },
     "execution_count": 27,
     "metadata": {},
     "output_type": "execute_result"
    }
   ],
   "source": [
    "df = df.drop_duplicates().reset_index(drop=True)\n",
    "df.duplicated().sum()"
   ]
  },
  {
   "cell_type": "markdown",
   "metadata": {},
   "source": [
    "### Кодирование категориальных признаков\n",
    "\n",
    "Признаки `VehicleType`, `Gearbox`, `Model`, `FuelType`, `Brand` и `NotRepaired` — категориальные и имеют тип `object`. Приведём их к типу `int`, используя технику прямого кодирования `OHE` для линейной регрессии и технику порядкового кодирования `OE` для всех остальных моделей."
   ]
  },
  {
   "cell_type": "code",
   "execution_count": 28,
   "metadata": {},
   "outputs": [],
   "source": [
    "# Сделаем копию исходного фрейма для кодирования методом OE\n",
    "df_oe = df.copy() "
   ]
  },
  {
   "cell_type": "code",
   "execution_count": 29,
   "metadata": {},
   "outputs": [],
   "source": [
    "# Техника прямого кодирования OneHotEncoding для модели линейной регрессии\n",
    "df = pd.get_dummies(df, drop_first=True)"
   ]
  },
  {
   "cell_type": "code",
   "execution_count": 30,
   "metadata": {},
   "outputs": [],
   "source": [
    "# Техника порядкового кодирования Ordinal Encoding для остальных моделей\n",
    "cat_features = ['VehicleType', 'Gearbox', 'Model', 'FuelType', 'Brand', 'NotRepaired']\n",
    "\n",
    "encoder = OrdinalEncoder()\n",
    "df_oe[cat_features] = encoder.fit_transform(df_oe[cat_features])"
   ]
  },
  {
   "cell_type": "markdown",
   "metadata": {},
   "source": [
    "### Разбивка данных на выборки\n",
    "\n",
    "Разбивку данных будем проводить в следующем соотношении:\n",
    "+ Обучающая выборка — 60%\n",
    "+ Валидационная выборка — 20%\n",
    "+ Тестовая выборка — 20%"
   ]
  },
  {
   "cell_type": "code",
   "execution_count": 31,
   "metadata": {},
   "outputs": [],
   "source": [
    "# Разбивка на выборки для данных кодированных методом OneHotEncoding для модели линейной регрессии\n",
    "features = df.drop(['Price'] , axis=1)\n",
    "target = df['Price']\n",
    "\n",
    "features_train, features_valid, target_train, target_valid = train_test_split(\n",
    "    features,\n",
    "    target,\n",
    "    test_size=0.4,\n",
    "    random_state=12345)\n",
    "\n",
    "features_valid, features_test, target_valid, target_test = train_test_split(\n",
    "    features_valid,\n",
    "    target_valid,\n",
    "    test_size=0.5,\n",
    "    random_state=12345)"
   ]
  },
  {
   "cell_type": "code",
   "execution_count": 32,
   "metadata": {},
   "outputs": [],
   "source": [
    "# Разбивка на выборки для данных кодированных методом OrdinalEncoding для остальных моделей\n",
    "features_oe = df_oe.drop(['Price'] , axis=1)\n",
    "target_oe = df_oe['Price']\n",
    "\n",
    "features_train_oe, features_valid_oe, target_train_oe, target_valid_oe = train_test_split(\n",
    "    features_oe,\n",
    "    target_oe,\n",
    "    test_size=0.4,\n",
    "    random_state=12345)\n",
    "\n",
    "features_valid_oe, features_test_oe, target_valid_oe, target_test_oe = train_test_split(\n",
    "    features_valid_oe,\n",
    "    target_valid_oe,\n",
    "    test_size=0.5,\n",
    "    random_state=12345)"
   ]
  },
  {
   "cell_type": "markdown",
   "metadata": {},
   "source": [
    "### Масштабирование данных"
   ]
  },
  {
   "cell_type": "code",
   "execution_count": 33,
   "metadata": {},
   "outputs": [],
   "source": [
    "# Масштабирование данных кодированных методом OneHotEncoding для модели линейной регрессии\n",
    "pd.options.mode.chained_assignment = None\n",
    "scaler = StandardScaler()\n",
    "scaler.fit(features_train)\n",
    "features_train = scaler.transform(features_train)\n",
    "features_valid = scaler.transform(features_valid)\n",
    "features_test = scaler.transform(features_test)"
   ]
  },
  {
   "cell_type": "code",
   "execution_count": 34,
   "metadata": {},
   "outputs": [],
   "source": [
    "# Масштабирование данных кодированных методом OrdinalEncoding для остальных моделей\n",
    "scaler_oe = StandardScaler()\n",
    "scaler_oe.fit(features_train_oe)\n",
    "features_train_oe = scaler_oe.transform(features_train_oe)\n",
    "features_valid_oe = scaler_oe.transform(features_valid_oe)\n",
    "features_test_oe = scaler_oe.transform(features_test_oe)"
   ]
  },
  {
   "cell_type": "markdown",
   "metadata": {},
   "source": [
    "# Обучение и выбор лучшей модели\n",
    "## Модель — Случайный лес\n",
    "Сначала подберём лучшие гиперпараметры для модели случайного леса."
   ]
  },
  {
   "cell_type": "code",
   "execution_count": 35,
   "metadata": {},
   "outputs": [
    {
     "name": "stdout",
     "output_type": "stream",
     "text": [
      "Модель - Случайный лес. Лучшие показатели следующие:\n",
      "RMSE модели: 1611.5360099708487\n",
      "Количество деревьев: 34\n",
      "Глубина дерева: 17\n",
      "Wall time: 52.8 s\n"
     ]
    }
   ],
   "source": [
    "%%time\n",
    "\n",
    "best_model = None\n",
    "best_rmse = 5000\n",
    "best_est = 0\n",
    "best_depth = 0\n",
    "\n",
    "# Предварительно проверял широкий диапазон est (от 1 до 35) и depth (от 1 до 25)\n",
    "# Время выполнения при подборе гиперпараметров с «полным» диапазоном составляет ~15 минут\n",
    "# Поэтому указал сразу «нужный» диапазон\n",
    "# Текущее время выполнения ~1 минута\n",
    "for est in range(33, 36, 1):\n",
    "    for depth in range (16, 19):\n",
    "        model = RandomForestRegressor(random_state=12345, n_estimators=est, max_depth=depth)\n",
    "        model.fit(features_train_oe, target_train_oe)\n",
    "        predicted_valid = model.predict(features_valid_oe)\n",
    "        mse = mean_squared_error(target_valid_oe, predicted_valid)\n",
    "        rmse = mse ** 0.5\n",
    "\n",
    "        if rmse < best_rmse:\n",
    "            best_model = model\n",
    "            best_rmse = rmse\n",
    "            best_est = est\n",
    "            best_depth = depth\n",
    "                   \n",
    "print('Модель - Случайный лес. Лучшие показатели следующие:')\n",
    "print(f'RMSE модели: {best_rmse}')\n",
    "print(f'Количество деревьев: {best_est}')\n",
    "print(f'Глубина дерева: {best_depth}')"
   ]
  },
  {
   "cell_type": "code",
   "execution_count": 36,
   "metadata": {},
   "outputs": [
    {
     "name": "stdout",
     "output_type": "stream",
     "text": [
      "Модель - Случайный лес. Время обучения, предсказания и RMSE следующие:\n",
      "Время обучения: 5.73 cек\n",
      "Время предсказания: 0.22 cек\n",
      "RMSE модели: 1612\n"
     ]
    }
   ],
   "source": [
    "# После подбора лучших гиперпараметров, засечём время обучения и время предсказания модели случайного леса\n",
    "model = RandomForestRegressor(random_state=12345, n_estimators=34, max_depth=17)\n",
    "\n",
    "start = time.time()\n",
    "model.fit(features_train_oe, target_train_oe)\n",
    "end = time.time()\n",
    "forest_fit_time = round(end - start, 2)\n",
    "\n",
    "start = time.time()\n",
    "predicted_valid = model.predict(features_valid_oe)\n",
    "end = time.time()\n",
    "forest_predict_time = round(end - start, 2)\n",
    "\n",
    "forest_mse = mean_squared_error(target_valid_oe, predicted_valid)\n",
    "forest_rmse = round(forest_mse ** 0.5)\n",
    "\n",
    "print('Модель - Случайный лес. Время обучения, предсказания и RMSE следующие:')\n",
    "print(f'Время обучения: {forest_fit_time} cек')\n",
    "print(f'Время предсказания: {forest_predict_time} cек')\n",
    "print(f'RMSE модели: {forest_rmse}')"
   ]
  },
  {
   "cell_type": "markdown",
   "metadata": {},
   "source": [
    "## Модель — Линейная регрессия"
   ]
  },
  {
   "cell_type": "code",
   "execution_count": 37,
   "metadata": {},
   "outputs": [
    {
     "name": "stdout",
     "output_type": "stream",
     "text": [
      "Модель - Линейная регрессия. Время обучения, предсказания и RMSE следующие:\n",
      "Время обучения: 1.63 cек\n",
      "Время предсказания: 0.02 cек\n",
      "RMSE модели: 2258\n"
     ]
    }
   ],
   "source": [
    "model = LinearRegression()\n",
    "\n",
    "start = time.time()\n",
    "model.fit(features_train, target_train)\n",
    "end = time.time()\n",
    "linear_fit_time = round(end - start, 2)\n",
    "\n",
    "start = time.time()\n",
    "predicted_valid = model.predict(features_valid)\n",
    "end = time.time()\n",
    "linear_predict_time = round(end - start, 2)\n",
    "\n",
    "linear_mse = mean_squared_error(target_valid, predicted_valid)\n",
    "linear_rmse = round(linear_mse ** 0.5)\n",
    "\n",
    "print('Модель - Линейная регрессия. Время обучения, предсказания и RMSE следующие:')\n",
    "print(f'Время обучения: {linear_fit_time} cек')\n",
    "print(f'Время предсказания: {linear_predict_time} cек')\n",
    "print(f'RMSE модели: {linear_rmse}')"
   ]
  },
  {
   "cell_type": "markdown",
   "metadata": {},
   "source": [
    "## Модель — LightGBM"
   ]
  },
  {
   "cell_type": "code",
   "execution_count": 38,
   "metadata": {
    "scrolled": true
   },
   "outputs": [
    {
     "name": "stdout",
     "output_type": "stream",
     "text": [
      "\n",
      "Модель - LightGBM. Время обучения, предсказания и RMSE следующие:\n",
      "Время обучения: 1.73 cек\n",
      "Время предсказания: 0.28 cек\n",
      "RMSE модели: 1515\n"
     ]
    }
   ],
   "source": [
    "train_df = lgb.Dataset(features_train_oe, label=target_train_oe)\n",
    "valid_df = lgb.Dataset(features_valid_oe, label=target_valid_oe)\n",
    "\n",
    "\n",
    "params = {\n",
    "    'objective': 'regression',\n",
    "    'metric': 'rmse',\n",
    "    'boosting': 'gbdt',\n",
    "    'verbose': -1  # Убирает предупреждения в окне вывода\n",
    "}\n",
    "\n",
    "\n",
    "start = time.time()\n",
    "model = lgb.train(params,\n",
    "                  train_df,\n",
    "                  valid_sets = valid_df,\n",
    "                  num_boost_round = 5000,\n",
    "                  early_stopping_rounds=50,\n",
    "                  verbose_eval=False)  # Убирает вывод обучающих итераций в окне вывода\n",
    "end = time.time()\n",
    "lgb_fit_time = round(end - start, 2)\n",
    "\n",
    "\n",
    "start = time.time()\n",
    "predicted_valid = model.predict(features_valid_oe)\n",
    "end = time.time()\n",
    "lgb_predict_time = round(end - start, 2)\n",
    "\n",
    "\n",
    "lgb_mse = mean_squared_error(target_valid_oe, predicted_valid)\n",
    "lgb_rmse = round(lgb_mse ** 0.5)\n",
    "\n",
    "\n",
    "print()\n",
    "print('Модель - LightGBM. Время обучения, предсказания и RMSE следующие:')\n",
    "print(f'Время обучения: {lgb_fit_time} cек')\n",
    "print(f'Время предсказания: {lgb_predict_time} cек')\n",
    "print(f'RMSE модели: {lgb_rmse}')"
   ]
  },
  {
   "cell_type": "markdown",
   "metadata": {},
   "source": [
    "## Выбор лучшей модели и проверка на тестовой выборке\n",
    "Создадим таблицу для сравнения моделей и выбора лучшей по ключевым показателям."
   ]
  },
  {
   "cell_type": "code",
   "execution_count": 39,
   "metadata": {},
   "outputs": [
    {
     "data": {
      "text/html": [
       "<div>\n",
       "<style scoped>\n",
       "    .dataframe tbody tr th:only-of-type {\n",
       "        vertical-align: middle;\n",
       "    }\n",
       "\n",
       "    .dataframe tbody tr th {\n",
       "        vertical-align: top;\n",
       "    }\n",
       "\n",
       "    .dataframe thead th {\n",
       "        text-align: right;\n",
       "    }\n",
       "</style>\n",
       "<table border=\"1\" class=\"dataframe\">\n",
       "  <thead>\n",
       "    <tr style=\"text-align: right;\">\n",
       "      <th></th>\n",
       "      <th>Время обучения</th>\n",
       "      <th>Время предсказания</th>\n",
       "      <th>RMSE</th>\n",
       "    </tr>\n",
       "  </thead>\n",
       "  <tbody>\n",
       "    <tr>\n",
       "      <th>Случайный лес</th>\n",
       "      <td>5.73</td>\n",
       "      <td>0.22</td>\n",
       "      <td>1612</td>\n",
       "    </tr>\n",
       "    <tr>\n",
       "      <th>Линейная регрессия</th>\n",
       "      <td>1.63</td>\n",
       "      <td>0.02</td>\n",
       "      <td>2258</td>\n",
       "    </tr>\n",
       "    <tr>\n",
       "      <th>LightGBM</th>\n",
       "      <td>1.73</td>\n",
       "      <td>0.28</td>\n",
       "      <td>1515</td>\n",
       "    </tr>\n",
       "  </tbody>\n",
       "</table>\n",
       "</div>"
      ],
      "text/plain": [
       "                    Время обучения  Время предсказания  RMSE\n",
       "Случайный лес                 5.73                0.22  1612\n",
       "Линейная регрессия            1.63                0.02  2258\n",
       "LightGBM                      1.73                0.28  1515"
      ]
     },
     "execution_count": 39,
     "metadata": {},
     "output_type": "execute_result"
    }
   ],
   "source": [
    "data_for_choose = {\n",
    "    'Время обучения': [forest_fit_time, linear_fit_time, lgb_fit_time],\n",
    "    'Время предсказания': [forest_predict_time, linear_predict_time, lgb_predict_time],\n",
    "    'RMSE': [forest_rmse, linear_rmse, lgb_rmse]\n",
    "}\n",
    "\n",
    "choose_best_model = pd.DataFrame(data_for_choose, index=['Случайный лес', 'Линейная регрессия', 'LightGBM'])\n",
    "choose_best_model"
   ]
  },
  {
   "cell_type": "markdown",
   "metadata": {},
   "source": [
    "Выберем модель __LightGBM__\tв качестве лучшей, так как:\n",
    "+ У неё самый низкий RMSE и самое низкое время обучения.\n",
    "+ Время предсказания хуже всех, но в целом оно одинаково незначительно для всех моделей.\n",
    "\n",
    "Теперь проверим работу модели __LightGBM__ на тестовой выборке."
   ]
  },
  {
   "cell_type": "code",
   "execution_count": 40,
   "metadata": {},
   "outputs": [
    {
     "name": "stdout",
     "output_type": "stream",
     "text": [
      "\n",
      "Модель - LightGBM. Время обучения, предсказания и RMSE на тестовой выборке следующие:\n",
      "Время обучения: 2.12 cек\n",
      "Время предсказания: 0.37 cек\n",
      "RMSE модели: 1518\n"
     ]
    }
   ],
   "source": [
    "test_df = lgb.Dataset(features_test_oe, label=target_test_oe)\n",
    "\n",
    "params = {\n",
    "    'objective': 'regression',\n",
    "    'metric': 'rmse',\n",
    "    'boosting': 'gbdt',\n",
    "    'verbose': -1  # Убирает предупреждения в окне вывода\n",
    "}\n",
    "\n",
    "\n",
    "start = time.time()\n",
    "model = lgb.train(params,\n",
    "                  train_df,\n",
    "                  valid_sets = test_df,\n",
    "                  num_boost_round = 5000,\n",
    "                  early_stopping_rounds=50,\n",
    "                  verbose_eval=False)  # Убирает вывод обучающих итераций в окне вывода\n",
    "end = time.time()\n",
    "lgb_fit_test_time = round(end - start, 2)\n",
    "\n",
    "\n",
    "start = time.time()\n",
    "predicted_test = model.predict(features_test_oe)\n",
    "end = time.time()\n",
    "lgb_predict_test_time = round(end - start, 2)\n",
    "\n",
    "\n",
    "mse = mean_squared_error(target_test_oe, predicted_test)\n",
    "rmse = round(mse ** 0.5)\n",
    "\n",
    "print()\n",
    "print('Модель - LightGBM. Время обучения, предсказания и RMSE на тестовой выборке следующие:')\n",
    "print(f'Время обучения: {lgb_fit_test_time} cек')\n",
    "print(f'Время предсказания: {lgb_predict_test_time} cек')\n",
    "print(f'RMSE модели: {rmse}')"
   ]
  },
  {
   "cell_type": "markdown",
   "metadata": {},
   "source": [
    "На тестовой выборке модель __LightGBM__ показала:\n",
    "+ Время обучения: ~3 cек\n",
    "+ Время предсказания: ~0.5 cек\n",
    "+ RMSE модели: 1518"
   ]
  },
  {
   "cell_type": "markdown",
   "metadata": {},
   "source": [
    "## Сравнение работы лучшей и константной модели"
   ]
  },
  {
   "cell_type": "code",
   "execution_count": 41,
   "metadata": {},
   "outputs": [
    {
     "name": "stdout",
     "output_type": "stream",
     "text": [
      "\n",
      "Константная модель. Время обучения, предсказания и RMSE на тестовой выборке следующие:\n",
      "Время обучения: 0.0 cек\n",
      "Время предсказания: 0.0 cек\n",
      "RMSE модели: 4633\n"
     ]
    }
   ],
   "source": [
    "dummy_model = DummyRegressor(strategy='mean')\n",
    "\n",
    "\n",
    "start = time.time()\n",
    "dummy_model.fit(features_train_oe, target_train_oe)\n",
    "end = time.time()\n",
    "dummy_fit_time = round(end - start, 2)\n",
    "\n",
    "\n",
    "start = time.time()\n",
    "dummy_predicted = dummy_model.predict(features_test_oe)\n",
    "end = time.time()\n",
    "dummy_predict_time = round(end - start, 2)\n",
    "\n",
    "dummy_mse = mean_squared_error(target_test_oe, dummy_predicted)\n",
    "dummy_rmse = round(dummy_mse ** 0.5)\n",
    "\n",
    "print()\n",
    "print('Константная модель. Время обучения, предсказания и RMSE на тестовой выборке следующие:')\n",
    "print(f'Время обучения: {dummy_fit_time} cек')\n",
    "print(f'Время предсказания: {dummy_predict_time} cек')\n",
    "print(f'RMSE модели: {dummy_rmse}')"
   ]
  },
  {
   "cell_type": "markdown",
   "metadata": {},
   "source": [
    "Скорость обучения и предсказания почти мгновенная, но показатель __RMSE__ далеко за границей в 2500."
   ]
  },
  {
   "cell_type": "markdown",
   "metadata": {},
   "source": [
    "# Общий вывод\n",
    "По совокупности всех ключевых факторов __модель LightGBM — лучшая__, так как у неё:\n",
    "+ Самый низкий RMSE ~ 1500\n",
    "+ Самое низкое время обучения ~ 3 сек\n",
    "+ Время предсказания хуже всех, но разница незначительна"
   ]
  }
 ],
 "metadata": {
  "ExecuteTimeLog": [
   {
    "duration": 47,
    "start_time": "2022-09-02T11:35:06.445Z"
   }
  ],
  "kernelspec": {
   "display_name": "Python 3 (ipykernel)",
   "language": "python",
   "name": "python3"
  },
  "language_info": {
   "codemirror_mode": {
    "name": "ipython",
    "version": 3
   },
   "file_extension": ".py",
   "mimetype": "text/x-python",
   "name": "python",
   "nbconvert_exporter": "python",
   "pygments_lexer": "ipython3",
   "version": "3.9.7"
  },
  "toc": {
   "base_numbering": 1,
   "nav_menu": {},
   "number_sections": true,
   "sideBar": true,
   "skip_h1_title": true,
   "title_cell": "Table of Contents",
   "title_sidebar": "Contents",
   "toc_cell": false,
   "toc_position": {},
   "toc_section_display": true,
   "toc_window_display": true
  }
 },
 "nbformat": 4,
 "nbformat_minor": 2
}
