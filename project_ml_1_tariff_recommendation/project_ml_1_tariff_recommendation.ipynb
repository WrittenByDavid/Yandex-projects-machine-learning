{
 "cells": [
  {
   "cell_type": "markdown",
   "id": "179f726f",
   "metadata": {},
   "source": [
    "<h1>Содержание<span class=\"tocSkip\"></span></h1>\n",
    "\n",
    "<div class=\"toc\">\n",
    "    <ul class=\"toc-item\">\n",
    "        <li>\n",
    "            <span>\n",
    "                <a href=\"#Описание-проекта-—-Рекомендация-тарифов-мобильной-связи\" data-toc-modified-id=\"Описание-проекта-—-Рекомендация-тарифов-мобильной-связи-1\">\n",
    "                    <span class=\"toc-item-num\">\n",
    "                        1&nbsp;&nbsp;\n",
    "                    </span>\n",
    "                    Описание проекта — Рекомендация тарифов мобильной связи\n",
    "                </a>\n",
    "            </span>\n",
    "            <ul class=\"toc-item\">\n",
    "                <li>\n",
    "                    <span>\n",
    "                        <a href=\"#Цели-и-задачи-проекта\" data-toc-modified-id=\"Цели-и-задачи-проекта-1.1\">\n",
    "                            <span class=\"toc-item-num\">\n",
    "                                1.1&nbsp;&nbsp;\n",
    "                            </span>\n",
    "                            Цели и задачи проекта\n",
    "                        </a>\n",
    "                    </span>\n",
    "                </li>\n",
    "                <li>\n",
    "                    <span>\n",
    "                        <a href=\"#Описание-данных\" data-toc-modified-id=\"Описание-данных-1.2\">\n",
    "                            <span class=\"toc-item-num\">\n",
    "                                1.2&nbsp;&nbsp;\n",
    "                            </span>\n",
    "                            Описание данных\n",
    "                        </a>\n",
    "                    </span>\n",
    "                </li>\n",
    "                <li>\n",
    "                    <span>\n",
    "                        <a href=\"#План-работы\" data-toc-modified-id=\"План-работы-1.3\">\n",
    "                            <span class=\"toc-item-num\">\n",
    "                                1.3&nbsp;&nbsp;\n",
    "                            </span>\n",
    "                            План работы\n",
    "                        </a>\n",
    "                    </span>\n",
    "                </li>\n",
    "            </ul>\n",
    "        </li>\n",
    "        <li>\n",
    "            <span>\n",
    "                <a href=\"#Загрузка-и-обзор-данных\" data-toc-modified-id=\"Загрузка-и-обзор-данных-2\">\n",
    "                    <span class=\"toc-item-num\">\n",
    "                        2&nbsp;&nbsp;\n",
    "                    </span>\n",
    "                    Загрузка и обзор данных\n",
    "                </a>\n",
    "            </span>\n",
    "            <ul class=\"toc-item\">\n",
    "                <li>\n",
    "                    <span>\n",
    "                        <a href=\"#Загрузка-данных\" data-toc-modified-id=\"Загрузка-данных-2.1\">\n",
    "                            <span class=\"toc-item-num\">\n",
    "                                2.1&nbsp;&nbsp;\n",
    "                            </span>\n",
    "                            Загрузка данных\n",
    "                        </a>\n",
    "                    </span>\n",
    "                </li>\n",
    "                <li>\n",
    "                    <span>\n",
    "                        <a href=\"#Обзор-данных\" data-toc-modified-id=\"Обзор-данных-2.2\">\n",
    "                            <span class=\"toc-item-num\">\n",
    "                                2.2&nbsp;&nbsp;\n",
    "                            </span>\n",
    "                            Обзор данных\n",
    "                        </a>\n",
    "                    </span>\n",
    "                </li>\n",
    "            </ul>\n",
    "        </li>\n",
    "        <li>\n",
    "            <span>\n",
    "                <a href=\"#Разбивка-данных-на-выборки\" data-toc-modified-id=\"Разбивка-данных-на-выборки-3\">\n",
    "                    <span class=\"toc-item-num\">\n",
    "                        3&nbsp;&nbsp;\n",
    "                    </span>\n",
    "                    Разбивка данных на выборки\n",
    "                </a>\n",
    "            </span>\n",
    "        </li>\n",
    "        <li>\n",
    "            <span>\n",
    "                <a href=\"#Подбор-лучшей-модели\" data-toc-modified-id=\"Подбор-лучшей-модели-4\">\n",
    "                    <span class=\"toc-item-num\">\n",
    "                        4&nbsp;&nbsp;\n",
    "                    </span>\n",
    "                    Подбор лучшей модели\n",
    "                </a>\n",
    "            </span>\n",
    "            <ul class=\"toc-item\">\n",
    "                <li>\n",
    "                    <span>\n",
    "                        <a href=\"#Модель-—-Решающее-дерево\" data-toc-modified-id=\"Модель-—-Решающее-дерево-4.1\">\n",
    "                            <span class=\"toc-item-num\">\n",
    "                                4.1&nbsp;&nbsp;\n",
    "                            </span>\n",
    "                            Модель — Решающее дерево\n",
    "                        </a>\n",
    "                    </span>\n",
    "                </li>\n",
    "                <li>\n",
    "                    <span>\n",
    "                        <a href=\"#Модель-—-Случайный-лес\" data-toc-modified-id=\"Модель-—-Случайный-лес-4.2\">\n",
    "                            <span class=\"toc-item-num\">\n",
    "                                4.2&nbsp;&nbsp;\n",
    "                            </span>\n",
    "                            Модель — Случайный лес\n",
    "                        </a>\n",
    "                    </span>\n",
    "                </li>\n",
    "                <li>\n",
    "                    <span>\n",
    "                        <a href=\"#Модель-—-Логистическая-регрессия\" data-toc-modified-id=\"Модель-—-Логистическая-регрессия-4.3\">\n",
    "                            <span class=\"toc-item-num\">\n",
    "                                4.3&nbsp;&nbsp;\n",
    "                            </span>\n",
    "                            Модель — Логистическая регрессия\n",
    "                        </a>\n",
    "                    </span>\n",
    "                </li>\n",
    "            </ul>\n",
    "        </li>\n",
    "        <li>\n",
    "            <span>\n",
    "                <a href=\"#Проверка-модели-на-тестовой-выборке\" data-toc-modified-id=\"Проверка-модели-на-тестовой-выборке-5\">\n",
    "                    <span class=\"toc-item-num\">\n",
    "                        5&nbsp;&nbsp;\n",
    "                    </span>\n",
    "                    Проверка модели на тестовой выборке\n",
    "                </a>\n",
    "            </span>\n",
    "        </li>\n",
    "    </ul>\n",
    "</div>"
   ]
  },
  {
   "cell_type": "markdown",
   "id": "70cb6908",
   "metadata": {},
   "source": [
    "# Описание проекта — Рекомендация тарифов мобильной связи\n",
    "## Цели и задачи проекта\n",
    "\n",
    "Оператор мобильной связи «Мегалайн» выяснил, что многие клиенты пользуются архивными тарифами и теперь «Мегалайн» хочет построить систему, способную проанализировать поведение клиентов и предложить пользователям новый тариф: «Смарт» или «Ультра». Нужно построить модель для задачи классификации, которая выберет подходящий тариф со значением accuracy не менее 0.75.\n",
    "\n",
    "## Описание данных\n",
    "\n",
    "В нашем распоряжении данные о поведении клиентов, которые уже перешли на эти тарифы. Каждая строка датасета — это информация о поведении одного пользователя за месяц. Предобработка данных не требуется.\n",
    "\n",
    "+ `сalls` — количество звонков\n",
    "+ `minutes` — суммарная длительность звонков в минутах\n",
    "+ `messages` — количество sms-сообщений\n",
    "+ `mb_used` — израсходованный интернет-трафик в Мб\n",
    "+ `is_ultra` — каким тарифом пользовался в течение месяца («Ультра» — 1, «Смарт» — 0)\n",
    "\n",
    "## План работы\n",
    "\n",
    "+ Загрузить и изучить данные\n",
    "+ Создать обучающую, валидационную и тестовую выборки из исходного датасета\n",
    "+ Подобрать лучшую модель\n",
    "+ Проверить качество лучшей модели на тестовой выборке"
   ]
  },
  {
   "cell_type": "markdown",
   "id": "f7bbc647",
   "metadata": {},
   "source": [
    "# Загрузка и обзор данных\n",
    "## Загрузка данных\n",
    "Импортируем необходимые библиотеки и прочитаем файл `users_behavior.csv`."
   ]
  },
  {
   "cell_type": "code",
   "execution_count": 1,
   "id": "0dccff5f",
   "metadata": {},
   "outputs": [],
   "source": [
    "import pandas as pd\n",
    "\n",
    "from sklearn.model_selection import train_test_split\n",
    "from sklearn.metrics import accuracy_score\n",
    "\n",
    "from sklearn.tree import DecisionTreeClassifier\n",
    "from sklearn.ensemble import RandomForestClassifier\n",
    "from sklearn.linear_model import LogisticRegression"
   ]
  },
  {
   "cell_type": "code",
   "execution_count": 2,
   "id": "5b3e0f70",
   "metadata": {},
   "outputs": [],
   "source": [
    "try:\n",
    "    df = pd.read_csv('users_behavior.csv')\n",
    "except:\n",
    "    df = pd.read_csv('/datasets/users_behavior.csv')"
   ]
  },
  {
   "cell_type": "markdown",
   "id": "7cfb98f5",
   "metadata": {},
   "source": [
    "## Обзор данных\n",
    "Выведем первые и последние строки, общую информацию, размерность и названия колонок нашей таблицы."
   ]
  },
  {
   "cell_type": "code",
   "execution_count": 3,
   "id": "d80839f2",
   "metadata": {},
   "outputs": [
    {
     "data": {
      "text/html": [
       "<div>\n",
       "<style scoped>\n",
       "    .dataframe tbody tr th:only-of-type {\n",
       "        vertical-align: middle;\n",
       "    }\n",
       "\n",
       "    .dataframe tbody tr th {\n",
       "        vertical-align: top;\n",
       "    }\n",
       "\n",
       "    .dataframe thead th {\n",
       "        text-align: right;\n",
       "    }\n",
       "</style>\n",
       "<table border=\"1\" class=\"dataframe\">\n",
       "  <thead>\n",
       "    <tr style=\"text-align: right;\">\n",
       "      <th></th>\n",
       "      <th>calls</th>\n",
       "      <th>minutes</th>\n",
       "      <th>messages</th>\n",
       "      <th>mb_used</th>\n",
       "      <th>is_ultra</th>\n",
       "    </tr>\n",
       "  </thead>\n",
       "  <tbody>\n",
       "    <tr>\n",
       "      <th>0</th>\n",
       "      <td>40.0</td>\n",
       "      <td>311.90</td>\n",
       "      <td>83.0</td>\n",
       "      <td>19915.42</td>\n",
       "      <td>0</td>\n",
       "    </tr>\n",
       "    <tr>\n",
       "      <th>1</th>\n",
       "      <td>85.0</td>\n",
       "      <td>516.75</td>\n",
       "      <td>56.0</td>\n",
       "      <td>22696.96</td>\n",
       "      <td>0</td>\n",
       "    </tr>\n",
       "    <tr>\n",
       "      <th>2</th>\n",
       "      <td>77.0</td>\n",
       "      <td>467.66</td>\n",
       "      <td>86.0</td>\n",
       "      <td>21060.45</td>\n",
       "      <td>0</td>\n",
       "    </tr>\n",
       "    <tr>\n",
       "      <th>3</th>\n",
       "      <td>106.0</td>\n",
       "      <td>745.53</td>\n",
       "      <td>81.0</td>\n",
       "      <td>8437.39</td>\n",
       "      <td>1</td>\n",
       "    </tr>\n",
       "    <tr>\n",
       "      <th>4</th>\n",
       "      <td>66.0</td>\n",
       "      <td>418.74</td>\n",
       "      <td>1.0</td>\n",
       "      <td>14502.75</td>\n",
       "      <td>0</td>\n",
       "    </tr>\n",
       "    <tr>\n",
       "      <th>5</th>\n",
       "      <td>58.0</td>\n",
       "      <td>344.56</td>\n",
       "      <td>21.0</td>\n",
       "      <td>15823.37</td>\n",
       "      <td>0</td>\n",
       "    </tr>\n",
       "    <tr>\n",
       "      <th>6</th>\n",
       "      <td>57.0</td>\n",
       "      <td>431.64</td>\n",
       "      <td>20.0</td>\n",
       "      <td>3738.90</td>\n",
       "      <td>1</td>\n",
       "    </tr>\n",
       "    <tr>\n",
       "      <th>7</th>\n",
       "      <td>15.0</td>\n",
       "      <td>132.40</td>\n",
       "      <td>6.0</td>\n",
       "      <td>21911.60</td>\n",
       "      <td>0</td>\n",
       "    </tr>\n",
       "    <tr>\n",
       "      <th>8</th>\n",
       "      <td>7.0</td>\n",
       "      <td>43.39</td>\n",
       "      <td>3.0</td>\n",
       "      <td>2538.67</td>\n",
       "      <td>1</td>\n",
       "    </tr>\n",
       "    <tr>\n",
       "      <th>9</th>\n",
       "      <td>90.0</td>\n",
       "      <td>665.41</td>\n",
       "      <td>38.0</td>\n",
       "      <td>17358.61</td>\n",
       "      <td>0</td>\n",
       "    </tr>\n",
       "  </tbody>\n",
       "</table>\n",
       "</div>"
      ],
      "text/plain": [
       "   calls  minutes  messages   mb_used  is_ultra\n",
       "0   40.0   311.90      83.0  19915.42         0\n",
       "1   85.0   516.75      56.0  22696.96         0\n",
       "2   77.0   467.66      86.0  21060.45         0\n",
       "3  106.0   745.53      81.0   8437.39         1\n",
       "4   66.0   418.74       1.0  14502.75         0\n",
       "5   58.0   344.56      21.0  15823.37         0\n",
       "6   57.0   431.64      20.0   3738.90         1\n",
       "7   15.0   132.40       6.0  21911.60         0\n",
       "8    7.0    43.39       3.0   2538.67         1\n",
       "9   90.0   665.41      38.0  17358.61         0"
      ]
     },
     "execution_count": 3,
     "metadata": {},
     "output_type": "execute_result"
    }
   ],
   "source": [
    "df.head(10)"
   ]
  },
  {
   "cell_type": "code",
   "execution_count": 4,
   "id": "5d0810f8",
   "metadata": {},
   "outputs": [
    {
     "data": {
      "text/html": [
       "<div>\n",
       "<style scoped>\n",
       "    .dataframe tbody tr th:only-of-type {\n",
       "        vertical-align: middle;\n",
       "    }\n",
       "\n",
       "    .dataframe tbody tr th {\n",
       "        vertical-align: top;\n",
       "    }\n",
       "\n",
       "    .dataframe thead th {\n",
       "        text-align: right;\n",
       "    }\n",
       "</style>\n",
       "<table border=\"1\" class=\"dataframe\">\n",
       "  <thead>\n",
       "    <tr style=\"text-align: right;\">\n",
       "      <th></th>\n",
       "      <th>calls</th>\n",
       "      <th>minutes</th>\n",
       "      <th>messages</th>\n",
       "      <th>mb_used</th>\n",
       "      <th>is_ultra</th>\n",
       "    </tr>\n",
       "  </thead>\n",
       "  <tbody>\n",
       "    <tr>\n",
       "      <th>3204</th>\n",
       "      <td>86.0</td>\n",
       "      <td>658.66</td>\n",
       "      <td>47.0</td>\n",
       "      <td>14153.10</td>\n",
       "      <td>0</td>\n",
       "    </tr>\n",
       "    <tr>\n",
       "      <th>3205</th>\n",
       "      <td>59.0</td>\n",
       "      <td>412.81</td>\n",
       "      <td>16.0</td>\n",
       "      <td>14105.03</td>\n",
       "      <td>0</td>\n",
       "    </tr>\n",
       "    <tr>\n",
       "      <th>3206</th>\n",
       "      <td>76.0</td>\n",
       "      <td>586.51</td>\n",
       "      <td>54.0</td>\n",
       "      <td>14345.74</td>\n",
       "      <td>0</td>\n",
       "    </tr>\n",
       "    <tr>\n",
       "      <th>3207</th>\n",
       "      <td>17.0</td>\n",
       "      <td>92.39</td>\n",
       "      <td>2.0</td>\n",
       "      <td>4299.25</td>\n",
       "      <td>0</td>\n",
       "    </tr>\n",
       "    <tr>\n",
       "      <th>3208</th>\n",
       "      <td>164.0</td>\n",
       "      <td>1016.98</td>\n",
       "      <td>71.0</td>\n",
       "      <td>17787.52</td>\n",
       "      <td>1</td>\n",
       "    </tr>\n",
       "    <tr>\n",
       "      <th>3209</th>\n",
       "      <td>122.0</td>\n",
       "      <td>910.98</td>\n",
       "      <td>20.0</td>\n",
       "      <td>35124.90</td>\n",
       "      <td>1</td>\n",
       "    </tr>\n",
       "    <tr>\n",
       "      <th>3210</th>\n",
       "      <td>25.0</td>\n",
       "      <td>190.36</td>\n",
       "      <td>0.0</td>\n",
       "      <td>3275.61</td>\n",
       "      <td>0</td>\n",
       "    </tr>\n",
       "    <tr>\n",
       "      <th>3211</th>\n",
       "      <td>97.0</td>\n",
       "      <td>634.44</td>\n",
       "      <td>70.0</td>\n",
       "      <td>13974.06</td>\n",
       "      <td>0</td>\n",
       "    </tr>\n",
       "    <tr>\n",
       "      <th>3212</th>\n",
       "      <td>64.0</td>\n",
       "      <td>462.32</td>\n",
       "      <td>90.0</td>\n",
       "      <td>31239.78</td>\n",
       "      <td>0</td>\n",
       "    </tr>\n",
       "    <tr>\n",
       "      <th>3213</th>\n",
       "      <td>80.0</td>\n",
       "      <td>566.09</td>\n",
       "      <td>6.0</td>\n",
       "      <td>29480.52</td>\n",
       "      <td>1</td>\n",
       "    </tr>\n",
       "  </tbody>\n",
       "</table>\n",
       "</div>"
      ],
      "text/plain": [
       "      calls  minutes  messages   mb_used  is_ultra\n",
       "3204   86.0   658.66      47.0  14153.10         0\n",
       "3205   59.0   412.81      16.0  14105.03         0\n",
       "3206   76.0   586.51      54.0  14345.74         0\n",
       "3207   17.0    92.39       2.0   4299.25         0\n",
       "3208  164.0  1016.98      71.0  17787.52         1\n",
       "3209  122.0   910.98      20.0  35124.90         1\n",
       "3210   25.0   190.36       0.0   3275.61         0\n",
       "3211   97.0   634.44      70.0  13974.06         0\n",
       "3212   64.0   462.32      90.0  31239.78         0\n",
       "3213   80.0   566.09       6.0  29480.52         1"
      ]
     },
     "execution_count": 4,
     "metadata": {},
     "output_type": "execute_result"
    }
   ],
   "source": [
    "df.tail(10)"
   ]
  },
  {
   "cell_type": "code",
   "execution_count": 5,
   "id": "a98d5031",
   "metadata": {},
   "outputs": [
    {
     "name": "stdout",
     "output_type": "stream",
     "text": [
      "<class 'pandas.core.frame.DataFrame'>\n",
      "RangeIndex: 3214 entries, 0 to 3213\n",
      "Data columns (total 5 columns):\n",
      " #   Column    Non-Null Count  Dtype  \n",
      "---  ------    --------------  -----  \n",
      " 0   calls     3214 non-null   float64\n",
      " 1   minutes   3214 non-null   float64\n",
      " 2   messages  3214 non-null   float64\n",
      " 3   mb_used   3214 non-null   float64\n",
      " 4   is_ultra  3214 non-null   int64  \n",
      "dtypes: float64(4), int64(1)\n",
      "memory usage: 125.7 KB\n"
     ]
    }
   ],
   "source": [
    "df.info()"
   ]
  },
  {
   "cell_type": "code",
   "execution_count": 6,
   "id": "7e722449",
   "metadata": {},
   "outputs": [
    {
     "data": {
      "text/plain": [
       "(3214, 5)"
      ]
     },
     "execution_count": 6,
     "metadata": {},
     "output_type": "execute_result"
    }
   ],
   "source": [
    "df.shape"
   ]
  },
  {
   "cell_type": "code",
   "execution_count": 7,
   "id": "088471de",
   "metadata": {},
   "outputs": [
    {
     "data": {
      "text/plain": [
       "Index(['calls', 'minutes', 'messages', 'mb_used', 'is_ultra'], dtype='object')"
      ]
     },
     "execution_count": 7,
     "metadata": {},
     "output_type": "execute_result"
    }
   ],
   "source": [
    "df.columns"
   ]
  },
  {
   "cell_type": "markdown",
   "id": "be5b49a1",
   "metadata": {},
   "source": [
    "В нашем наборе данных столбец `is_ultra` — это целевой признак, который нужно предсказать по остальным признакам. Так как целевой признак категориальный и категорий всего две (1 или 0), то мы имеем дело с задачей <b>бинарной классификации</b>."
   ]
  },
  {
   "cell_type": "markdown",
   "id": "5922543b",
   "metadata": {},
   "source": [
    "## Разбивка данных на выборки\n",
    "\n",
    "Разбивку данных будем проводить в следующем соотношении:\n",
    "+ Обучающая выборка — 60%\n",
    "+ Валидационная выборка — 20%\n",
    "+ Тестовая выборка — 20%\n",
    "\n",
    "Для разбивки по выборкам применим дважды функцию `train_test_split()`"
   ]
  },
  {
   "cell_type": "code",
   "execution_count": 8,
   "id": "1097e642",
   "metadata": {},
   "outputs": [],
   "source": [
    "df_train, df_valid_and_test = train_test_split(df, test_size=0.4, random_state=12345)\n",
    "df_valid, df_test = train_test_split(df_valid_and_test, test_size=0.5, random_state=12345)"
   ]
  },
  {
   "cell_type": "markdown",
   "id": "2d857b6f",
   "metadata": {},
   "source": [
    "Разобьём наши выборки по переменным, в которых будут хранится признаки и целевой признак"
   ]
  },
  {
   "cell_type": "code",
   "execution_count": 9,
   "id": "119a241f",
   "metadata": {},
   "outputs": [],
   "source": [
    "train_features = df_train.drop(['is_ultra'], axis=1)  # Признаки обучающей выборки\n",
    "train_target = df_train['is_ultra']  # Целевой признак обучающей выборки\n",
    "\n",
    "valid_features = df_valid.drop(['is_ultra'], axis=1)  # Признаки валидационной выборки\n",
    "valid_target = df_valid['is_ultra']  # Целевой признак валидационной выборки\n",
    "\n",
    "test_features = df_test.drop(['is_ultra'], axis=1)  # Признаки тестовой выборки\n",
    "test_target = df_test['is_ultra']  # Целевой признак тестовой выборки"
   ]
  },
  {
   "cell_type": "markdown",
   "id": "2f51e21e",
   "metadata": {},
   "source": [
    "# Подбор лучшей модели\n",
    "## Модель — Решающее дерево\n",
    "Переберём в цикле гиперпараметр `max_depth` для модели решающего дерева, чтобы найти модель с наибольшим значением `accuracy`."
   ]
  },
  {
   "cell_type": "code",
   "execution_count": 10,
   "id": "28391de5",
   "metadata": {},
   "outputs": [
    {
     "name": "stdout",
     "output_type": "stream",
     "text": [
      "У модели с глубиной дерева 3 лучшее качество 0.7853810264385692\n"
     ]
    }
   ],
   "source": [
    "best_model = None\n",
    "best_result = 0\n",
    "depth_of_tree = 0\n",
    "\n",
    "for depth in range(1, 21):\n",
    "    # Создаём модель решающего дерева с глубиной depth\n",
    "    model = DecisionTreeClassifier(random_state=12345, max_depth=depth)\n",
    "    \n",
    "    # Обучаем нашу модель на тренировочной выборке\n",
    "    # Для этого передаём признаки и целевой признак тренировочной выборки\n",
    "    model.fit(train_features, train_target)\n",
    "    \n",
    "    # С помощью обученной модели делаем предсказания целевого признака на валидационной выборке\n",
    "    # Для этого передаём признаки валидационной выборки\n",
    "    predictions = model.predict(valid_features)\n",
    "    \n",
    "    # Посчитаем качество предсказаний целевого признака на валидационной выборке\n",
    "    # Для этого передаём целевой признак валидационной выборки и полученное выше предсказание\n",
    "    result = accuracy_score(valid_target, predictions)\n",
    "    \n",
    "    # Если качество предсказания лучше предыдущего, то перезаписываем его и нашу модель в соответствующие переменные\n",
    "    if result > best_result:\n",
    "        best_model = model\n",
    "        best_result = result\n",
    "        depth_of_tree = depth\n",
    "\n",
    "print(f'У модели с глубиной дерева {depth_of_tree} лучшее качество {best_result}')"
   ]
  },
  {
   "cell_type": "markdown",
   "id": "7bc619d8",
   "metadata": {},
   "source": [
    "## Модель — Случайный лес\n",
    "Переберём с помощью вложенного цикла два гиперпараметра `n_estimators` и `max_depth` для модели случайного леса, чтобы найти модель с наибольшим значением `accuracy`."
   ]
  },
  {
   "cell_type": "code",
   "execution_count": 11,
   "id": "175e6036",
   "metadata": {},
   "outputs": [
    {
     "name": "stdout",
     "output_type": "stream",
     "text": [
      "У модели с глубиной дерева 8 и количеством деревьев 40 лучшее качество 0.8087091757387247\n"
     ]
    }
   ],
   "source": [
    "# Обнулим наши переменные и создадим ещё одну переменную est_of_forest\n",
    "best_model = None\n",
    "best_result = 0\n",
    "depth_of_tree = 0\n",
    "est_of_forest = 0\n",
    "\n",
    "for est in range(10, 51, 10):\n",
    "    for depth in range (1, 11):\n",
    "        # Создаём модель случайного леса с количеством деревьев est и глубиной depth\n",
    "        model = RandomForestClassifier(random_state=12345, n_estimators=est, max_depth=depth)\n",
    "        \n",
    "        # Обучаем нашу модель на тренировочной выборке\n",
    "        # Для этого передаём признаки и целевой признак тренировочной выборки\n",
    "        model.fit(train_features, train_target)\n",
    "        \n",
    "        # С помощью обученной модели делаем предсказания целевого признака на валидационной выборке\n",
    "        # Для этого передаём признаки валидационной выборки\n",
    "        predictions = model.predict(valid_features)\n",
    "\n",
    "        # Посчитаем качество предсказаний целевого признака на валидационной выборке\n",
    "        # Для этого передаём целевой признак валидационной выборки и полученное выше предсказание\n",
    "        result = accuracy_score(valid_target, predictions)\n",
    "        \n",
    "        # Если качество предсказания лучше предыдущего, то перезаписываем его и нашу модель в соответствующие переменные\n",
    "        if result > best_result:\n",
    "            best_model = model\n",
    "            best_result = result\n",
    "            depth_of_tree = depth\n",
    "            est_of_forest = est\n",
    "            \n",
    "print(f'У модели с глубиной дерева {depth_of_tree} и количеством деревьев {est_of_forest} лучшее качество {best_result}')"
   ]
  },
  {
   "cell_type": "markdown",
   "id": "f1c7e010",
   "metadata": {},
   "source": [
    "## Модель — Логистическая регрессия\n",
    "Переберём в цикле гиперпараметр `max_iter` для модели логистической регрессии, чтобы найти модель с наибольшим значением `accuracy`."
   ]
  },
  {
   "cell_type": "code",
   "execution_count": 12,
   "id": "bf2b0727",
   "metadata": {},
   "outputs": [
    {
     "name": "stdout",
     "output_type": "stream",
     "text": [
      "У модели с количеством итераций обучения 100 лучшее качество 0.7107309486780715\n"
     ]
    }
   ],
   "source": [
    "# Обнулим наши переменные и создадим ещё одну переменную best_iter\n",
    "best_model = None\n",
    "best_result = 0\n",
    "best_iter = 0\n",
    "\n",
    "for iter in range(100, 1001, 100):\n",
    "    # Создаём модель логистической регрессии с количеством итераций обучения iter\n",
    "    model = LogisticRegression(random_state=12345, solver='lbfgs', max_iter=iter)\n",
    "    \n",
    "    # Обучаем нашу модель на тренировочной выборке\n",
    "    # Для этого передаём признаки и целевой признак тренировочной выборки\n",
    "    model.fit(train_features, train_target)\n",
    "    \n",
    "    # С помощью обученной модели делаем предсказания целевого признака на валидационной выборке\n",
    "    # Для этого передаём признаки валидационной выборки\n",
    "    predictions = model.predict(valid_features)\n",
    "    \n",
    "    # Посчитаем качество предсказаний целевого признака на валидационной выборке\n",
    "    # Для этого передаём целевой признак валидационной выборки и полученное выше предсказание\n",
    "    result = accuracy_score(valid_target, predictions)\n",
    "    \n",
    "    # Если качество предсказания лучше предыдущего, то перезаписываем его и нашу модель в соответствующие переменные\n",
    "    if result > best_result:\n",
    "        best_model = model\n",
    "        best_result = result\n",
    "        best_iter = iter\n",
    "\n",
    "print(f'У модели с количеством итераций обучения {best_iter} лучшее качество {best_result}')"
   ]
  },
  {
   "cell_type": "markdown",
   "id": "5551a91e",
   "metadata": {},
   "source": [
    "<b>Вывод:</b>\n",
    "+ У модели случайного леса получился самый высокий показатель качества.\n",
    "+ Используем эту модель в качестве основной.\n",
    "+ В следующем блоке проверим её на тестовой выборке."
   ]
  },
  {
   "cell_type": "markdown",
   "id": "96b797d3",
   "metadata": {},
   "source": [
    "## Проверка модели на тестовой выборке"
   ]
  },
  {
   "cell_type": "code",
   "execution_count": 13,
   "id": "b273b574",
   "metadata": {},
   "outputs": [
    {
     "data": {
      "text/plain": [
       "0.7962674961119751"
      ]
     },
     "execution_count": 13,
     "metadata": {},
     "output_type": "execute_result"
    }
   ],
   "source": [
    "# Создаём модель случайного леса с количеством деревьев 40 и глубиной дерева 8\n",
    "model = RandomForestClassifier(random_state=12345, n_estimators=40, max_depth=8)\n",
    "\n",
    "# Обучаем нашу модель на тренировочной выборке\n",
    "model.fit(train_features, train_target)\n",
    "\n",
    "# С помощью обученной модели делаем предсказания целевого признака на тестовой выборке\n",
    "predictions = model.predict(test_features)\n",
    "\n",
    "# Посчитаем качество предсказаний целевого признака на тестовой выборке\n",
    "result = accuracy_score(test_target, predictions)\n",
    "\n",
    "# Выведем значение result на экран\n",
    "result"
   ]
  },
  {
   "cell_type": "markdown",
   "id": "a0a3758e",
   "metadata": {},
   "source": [
    "<b>Вывод:</b>\n",
    "+ Удалось достичь заявленного значения метрики accuracy не менее 0.75\n",
    "+ Отклонение от качества на валидационной выборке около 1,5%"
   ]
  }
 ],
 "metadata": {
  "kernelspec": {
   "display_name": "Python 3 (ipykernel)",
   "language": "python",
   "name": "python3"
  },
  "language_info": {
   "codemirror_mode": {
    "name": "ipython",
    "version": 3
   },
   "file_extension": ".py",
   "mimetype": "text/x-python",
   "name": "python",
   "nbconvert_exporter": "python",
   "pygments_lexer": "ipython3",
   "version": "3.9.7"
  },
  "toc": {
   "base_numbering": 1,
   "nav_menu": {},
   "number_sections": true,
   "sideBar": true,
   "skip_h1_title": true,
   "title_cell": "Table of Contents",
   "title_sidebar": "Contents",
   "toc_cell": false,
   "toc_position": {},
   "toc_section_display": true,
   "toc_window_display": false
  }
 },
 "nbformat": 4,
 "nbformat_minor": 5
}
