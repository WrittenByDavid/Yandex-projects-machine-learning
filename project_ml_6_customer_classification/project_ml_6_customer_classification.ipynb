{
 "cells": [
  {
   "cell_type": "markdown",
   "id": "02ab0874",
   "metadata": {},
   "source": [
    "<h1>Содержание<span class=\"tocSkip\"></span></h1>\n",
    "\n",
    "<div class=\"toc\">\n",
    "    <ul class=\"toc-item\">\n",
    "        <li>\n",
    "            <span>\n",
    "                <a href=\"#Описание-проекта-—-Прогнозирование-оттока-клиентов\" data-toc-modified-id=\"Описание-проекта-—-Прогнозирование-оттока-клиентов-1\">\n",
    "                    <span class=\"toc-item-num\">\n",
    "                        1&nbsp;&nbsp;\n",
    "                    </span>\n",
    "                    Описание проекта — Прогнозирование оттока клиентов\n",
    "                </a>\n",
    "            </span>\n",
    "            <ul class=\"toc-item\">\n",
    "                <li>\n",
    "                    <span>\n",
    "                        <a href=\"#Цели-и-задачи-проекта\" data-toc-modified-id=\"Цели-и-задачи-проекта-1.1\">\n",
    "                            <span class=\"toc-item-num\">\n",
    "                                1.1&nbsp;&nbsp;\n",
    "                            </span>\n",
    "                            Цели и задачи проекта\n",
    "                        </a>\n",
    "                    </span>\n",
    "                </li>\n",
    "                <li>\n",
    "                    <span>\n",
    "                        <a href=\"#Описание-данных\" data-toc-modified-id=\"Описание-данных-1.2\">\n",
    "                            <span class=\"toc-item-num\">\n",
    "                                1.2&nbsp;&nbsp;\n",
    "                            </span>\n",
    "                            Описание данных\n",
    "                        </a>\n",
    "                    </span>\n",
    "                </li>\n",
    "            </ul>\n",
    "        </li>\n",
    "        <li>\n",
    "            <span>\n",
    "                <a href=\"#Загрузка,-обзор-и-подготовка-данных\" data-toc-modified-id=\"Загрузка,-обзор-и-подготовка-данных-2\">\n",
    "                    <span class=\"toc-item-num\">\n",
    "                        2&nbsp;&nbsp;\n",
    "                    </span>\n",
    "                    Загрузка, обзор и подготовка данных\n",
    "                </a>\n",
    "            </span>\n",
    "            <ul class=\"toc-item\">\n",
    "                <li>\n",
    "                    <span>\n",
    "                        <a href=\"#Загрузка-данных\" data-toc-modified-id=\"Загрузка-данных-2.1\">\n",
    "                            <span class=\"toc-item-num\">\n",
    "                                2.1&nbsp;&nbsp;\n",
    "                            </span>\n",
    "                            Загрузка данных\n",
    "                        </a>\n",
    "                    </span>\n",
    "                </li>\n",
    "                <li>\n",
    "                    <span>\n",
    "                        <a href=\"#Обзор-данных\" data-toc-modified-id=\"Обзор-данных-2.2\">\n",
    "                            <span class=\"toc-item-num\">\n",
    "                                2.2&nbsp;&nbsp;\n",
    "                            </span>\n",
    "                            Обзор данных\n",
    "                        </a>\n",
    "                    </span>\n",
    "                    <ul class=\"toc-item\">\n",
    "                        <li>\n",
    "                            <span>\n",
    "                                <a href=\"#Обзор-данных-таблицы-df_contract\" data-toc-modified-id=\"Обзор-данных-таблицы-df_contract-2.2.1\">\n",
    "                                    <span class=\"toc-item-num\">\n",
    "                                        2.2.1&nbsp;&nbsp;\n",
    "                                    </span>\n",
    "                                    Обзор данных таблицы df_contract\n",
    "                                </a>\n",
    "                            </span>\n",
    "                        </li>\n",
    "                        <li>\n",
    "                            <span>\n",
    "                                <a href=\"#Обзор-данных-таблицы-df_internet\" data-toc-modified-id=\"Обзор-данных-таблицы-df_internet-2.2.2\">\n",
    "                                    <span class=\"toc-item-num\">\n",
    "                                        2.2.2&nbsp;&nbsp;\n",
    "                                    </span>\n",
    "                                    Обзор данных таблицы df_internet\n",
    "                                </a>\n",
    "                            </span>\n",
    "                        </li>\n",
    "                        <li>\n",
    "                            <span>\n",
    "                                <a href=\"#Обзор-данных-таблицы-df_personal\" data-toc-modified-id=\"Обзор-данных-таблицы-df_personal-2.2.3\">\n",
    "                                    <span class=\"toc-item-num\">\n",
    "                                        2.2.3&nbsp;&nbsp;\n",
    "                                    </span>\n",
    "                                    Обзор данных таблицы df_personal\n",
    "                                </a>\n",
    "                            </span>\n",
    "                        </li>\n",
    "                        <li>\n",
    "                            <span>\n",
    "                                <a href=\"#Обзор-данных-таблицы-df_phone\" data-toc-modified-id=\"Обзор-данных-таблицы-df_phone-2.2.4\">\n",
    "                                    <span class=\"toc-item-num\">\n",
    "                                        2.2.4&nbsp;&nbsp;\n",
    "                                    </span>\n",
    "                                    Обзор данных таблицы df_phone\n",
    "                                </a>\n",
    "                            </span>\n",
    "                        </li>\n",
    "                        <li>\n",
    "                            <span>\n",
    "                                <a href=\"#Вывод-по-обзору-данных\" data-toc-modified-id=\"Вывод-по-обзору-данных-2.2.5\">\n",
    "                                    <span class=\"toc-item-num\">\n",
    "                                        2.2.5&nbsp;&nbsp;\n",
    "                                    </span>\n",
    "                                    Вывод по обзору данных\n",
    "                                </a>\n",
    "                            </span>\n",
    "                        </li>\n",
    "                        <li>\n",
    "                            <span>\n",
    "                                <a href=\"#План-работы\" data-toc-modified-id=\"План-работы-2.2.6\">\n",
    "                                    <span class=\"toc-item-num\">\n",
    "                                        2.2.6&nbsp;&nbsp;\n",
    "                                    </span>\n",
    "                                    План работы\n",
    "                                </a>\n",
    "                            </span>\n",
    "                        </li>\n",
    "                    </ul>\n",
    "                </li>\n",
    "                <li>\n",
    "                    <span>\n",
    "                        <a href=\"#Подготовка-данных\" data-toc-modified-id=\"Подготовка-данных-2.3\">\n",
    "                            <span class=\"toc-item-num\">\n",
    "                                2.3&nbsp;&nbsp;\n",
    "                            </span>\n",
    "                            Подготовка данных\n",
    "                        </a>\n",
    "                    </span>\n",
    "                    <ul class=\"toc-item\">\n",
    "                        <li>\n",
    "                            <span>\n",
    "                                <a href=\"#Заполнение-пропусков\" data-toc-modified-id=\"Заполнение-пропусков-2.3.1\">\n",
    "                                    <span class=\"toc-item-num\">\n",
    "                                        2.3.1&nbsp;&nbsp;\n",
    "                                    </span>\n",
    "                                    Заполнение пропусков\n",
    "                                </a>\n",
    "                            </span>\n",
    "                        </li>\n",
    "                        <li>\n",
    "                            <span>\n",
    "                                <a href=\"#Изменение-типов-данных\" data-toc-modified-id=\"Изменение-типов-данных-2.3.2\">\n",
    "                                    <span class=\"toc-item-num\">\n",
    "                                        2.3.2&nbsp;&nbsp;\n",
    "                                    </span>\n",
    "                                    Изменение типов данных\n",
    "                                </a>\n",
    "                            </span>\n",
    "                        </li>\n",
    "                        <li>\n",
    "                            <span>\n",
    "                                <a href=\"#Проверка-явных-дубликатов\" data-toc-modified-id=\"Проверка-явных-дубликатов-2.3.3\">\n",
    "                                    <span class=\"toc-item-num\">\n",
    "                                        2.3.3&nbsp;&nbsp;\n",
    "                                    </span>\n",
    "                                    Проверка явных дубликатов\n",
    "                                </a>\n",
    "                            </span>\n",
    "                        </li>\n",
    "                        <li>\n",
    "                            <span>\n",
    "                                <a href=\"#Создание-целевого-признака\" data-toc-modified-id=\"Создание-целевого-признака-2.3.4\">\n",
    "                                    <span class=\"toc-item-num\">\n",
    "                                        2.3.4&nbsp;&nbsp;\n",
    "                                    </span>\n",
    "                                    Создание целевого признака\n",
    "                                </a>\n",
    "                            </span>\n",
    "                        </li>\n",
    "                        <li>\n",
    "                            <span>\n",
    "                                <a href=\"#Создание-дополнительных-признаков\" data-toc-modified-id=\"Создание-дополнительных-признаков-2.3.5\">\n",
    "                                    <span class=\"toc-item-num\">\n",
    "                                        2.3.5&nbsp;&nbsp;\n",
    "                                    </span>\n",
    "                                    Создание дополнительных признаков\n",
    "                                </a>\n",
    "                            </span>\n",
    "                        </li>\n",
    "                        <li>\n",
    "                            <span>\n",
    "                                <a href=\"#Удаление-неинформативных-признаков\" data-toc-modified-id=\"Удаление-неинформативных-признаков-2.3.6\">\n",
    "                                    <span class=\"toc-item-num\">\n",
    "                                        2.3.6&nbsp;&nbsp;\n",
    "                                    </span>\n",
    "                                    Удаление неинформативных признаков\n",
    "                                </a>\n",
    "                            </span>\n",
    "                        </li>\n",
    "                    </ul>\n",
    "                </li>\n",
    "            </ul>\n",
    "        </li>\n",
    "        <li>\n",
    "            <span>\n",
    "                <a href=\"#Исследовательский-анализ-данных\" data-toc-modified-id=\"Исследовательский-анализ-данных-3\">\n",
    "                    <span class=\"toc-item-num\">\n",
    "                        3&nbsp;&nbsp;\n",
    "                    </span>\n",
    "                    Исследовательский анализ данных\n",
    "                </a>\n",
    "            </span>\n",
    "            <ul class=\"toc-item\">\n",
    "                <li>\n",
    "                    <span>\n",
    "                        <a href=\"#Вывод-по-исследовательскому-анализу-данных\" data-toc-modified-id=\"Вывод-по-исследовательскому-анализу-данных-3.1\">\n",
    "                            <span class=\"toc-item-num\">\n",
    "                                3.1&nbsp;&nbsp;\n",
    "                            </span>\n",
    "                            Вывод по исследовательскому анализу данных\n",
    "                        </a>\n",
    "                    </span>\n",
    "                </li>\n",
    "            </ul>\n",
    "        </li>\n",
    "        <li>\n",
    "            <span>\n",
    "                <a href=\"#Разбивка-данных-на-выборки\" data-toc-modified-id=\"Разбивка-данных-на-выборки-4\">\n",
    "                    <span class=\"toc-item-num\">\n",
    "                        4&nbsp;&nbsp;\n",
    "                    </span>\n",
    "                    Разбивка данных на выборки\n",
    "                </a>\n",
    "            </span>\n",
    "        </li>\n",
    "        <li>\n",
    "            <span>\n",
    "                <a href=\"#Кодирование-категориальных-признаков\" data-toc-modified-id=\"Кодирование-категориальных-признаков-5\">\n",
    "                    <span class=\"toc-item-num\">\n",
    "                        5&nbsp;&nbsp;\n",
    "                    </span>\n",
    "                    Кодирование категориальных признаков\n",
    "                </a>\n",
    "            </span>\n",
    "        </li>\n",
    "        <li>\n",
    "            <span>\n",
    "                <a href=\"#Проверка-признаков-на-мультиколлинеарность\" data-toc-modified-id=\"Проверка-признаков-на-мультиколлинеарность-6\">\n",
    "                    <span class=\"toc-item-num\">\n",
    "                        6&nbsp;&nbsp;\n",
    "                    </span>\n",
    "                    Проверка признаков на мультиколлинеарность\n",
    "                </a>\n",
    "            </span>\n",
    "        </li>\n",
    "        <li>\n",
    "            <span>\n",
    "                <a href=\"#Масштабирование-признаков\" data-toc-modified-id=\"Масштабирование-признаков-7\">\n",
    "                    <span class=\"toc-item-num\">\n",
    "                        7&nbsp;&nbsp;\n",
    "                    </span>\n",
    "                    Масштабирование признаков\n",
    "                </a>\n",
    "            </span>\n",
    "        </li>\n",
    "        <li>\n",
    "            <span>\n",
    "                <a href=\"#Обучение-и-выбор-лучшей-модели\" data-toc-modified-id=\"Обучение-и-выбор-лучшей-модели-8\">\n",
    "                    <span class=\"toc-item-num\">\n",
    "                        8&nbsp;&nbsp;\n",
    "                    </span>\n",
    "                    Обучение и выбор лучшей модели\n",
    "                </a>\n",
    "            </span>\n",
    "            <ul class=\"toc-item\">\n",
    "                <li>\n",
    "                    <span>\n",
    "                        <a href=\"#Модель-—-Логистическая-регрессия\" data-toc-modified-id=\"Модель-—-Логистическая-регрессия-8.1\">\n",
    "                            <span class=\"toc-item-num\">\n",
    "                                8.1&nbsp;&nbsp;\n",
    "                            </span>\n",
    "                            Модель — Логистическая регрессия\n",
    "                        </a>\n",
    "                    </span>\n",
    "                </li>\n",
    "                <li>\n",
    "                    <span>\n",
    "                        <a href=\"#Модель-—-Случайный-лес\" data-toc-modified-id=\"Модель-—-Случайный-лес-8.2\">\n",
    "                            <span class=\"toc-item-num\">\n",
    "                                8.2&nbsp;&nbsp;\n",
    "                            </span>\n",
    "                            Модель — Случайный лес\n",
    "                        </a>\n",
    "                    </span>\n",
    "                </li>\n",
    "                <li>\n",
    "                    <span>\n",
    "                        <a href=\"#Модель-—-CatBoost\" data-toc-modified-id=\"Модель-—-CatBoost-8.3\">\n",
    "                            <span class=\"toc-item-num\">\n",
    "                                8.3&nbsp;&nbsp;\n",
    "                            </span>\n",
    "                            Модель — CatBoost\n",
    "                        </a>\n",
    "                    </span>\n",
    "                </li>\n",
    "                <li>\n",
    "                    <span>\n",
    "                        <a href=\"#Модель-—-LightGBM\" data-toc-modified-id=\"Модель-—-LightGBM-8.4\">\n",
    "                            <span class=\"toc-item-num\">\n",
    "                                8.4&nbsp;&nbsp;\n",
    "                            </span>\n",
    "                            Модель — LightGBM\n",
    "                        </a>\n",
    "                    </span>\n",
    "                </li>\n",
    "                <li>\n",
    "                    <span>\n",
    "                        <a href=\"#Проверка-лучшей-модели-на-тестовой-выборке\" data-toc-modified-id=\"Проверка-лучшей-модели-на-тестовой-выборке-8.5\">\n",
    "                            <span class=\"toc-item-num\">\n",
    "                                8.5&nbsp;&nbsp;\n",
    "                            </span>\n",
    "                            Проверка лучшей модели на тестовой выборке\n",
    "                        </a>\n",
    "                    </span>\n",
    "                </li>\n",
    "                <li>\n",
    "                    <span>\n",
    "                        <a href=\"#Сравнение-работы-лучшей-и-базисной-модели\" data-toc-modified-id=\"Сравнение-работы-лучшей-и-базисной-модели-8.6\">\n",
    "                            <span class=\"toc-item-num\">\n",
    "                                8.6&nbsp;&nbsp;\n",
    "                            </span>\n",
    "                            Сравнение работы лучшей и базисной модели\n",
    "                        </a>\n",
    "                    </span>\n",
    "                </li>\n",
    "            </ul>\n",
    "        </li>\n",
    "        <li>\n",
    "            <span>\n",
    "                <a href=\"#Общий-вывод\" data-toc-modified-id=\"Общий-вывод-9\">\n",
    "                    <span class=\"toc-item-num\">\n",
    "                        9&nbsp;&nbsp;\n",
    "                    </span>\n",
    "                    Общий вывод\n",
    "                </a>\n",
    "            </span>\n",
    "        </li>\n",
    "        <li>\n",
    "            <span>\n",
    "                <a href=\"#Отчёт-по-проекту\" data-toc-modified-id=\"Отчёт-по-проекту-10\">\n",
    "                    <span class=\"toc-item-num\">\n",
    "                        10&nbsp;&nbsp;\n",
    "                    </span>\n",
    "                    Отчёт по проекту\n",
    "                </a>\n",
    "            </span>\n",
    "        </li>\n",
    "    </ul>\n",
    "</div>"
   ]
  },
  {
   "cell_type": "markdown",
   "id": "a1772f0f",
   "metadata": {},
   "source": [
    "# Описание проекта — Прогнозирование оттока клиентов\n",
    "## Цели и задачи проекта\n",
    "Оператор связи «Ниединогоразрыва.ком» хочет научиться прогнозировать отток клиентов. Если выяснится, что пользователь планирует уйти, ему будут предложены промокоды и специальные условия. Оператор предоставляет два основных типа услуг:\n",
    "+ Стационарную телефонную связь. Возможно подключение телефонного аппарата к нескольким линиям одновременно.\n",
    "+ Интернет. Подключение может быть двух типов: через телефонную линию (DSL) или оптоволоконный кабель (Fiber optic).\n",
    "\n",
    "Также оператор предоставляет четыре дополнительных типа услуг:\n",
    "+ Интернет-безопасность: антивирус (DeviceProtection) и блокировка небезопасных сайтов (OnlineSecurity).\n",
    "+ Выделенная линия технической поддержки (TechSupport).\n",
    "+ Облачное хранилище файлов для резервного копирования данных (OnlineBackup).\n",
    "+ Стриминговое телевидение (StreamingTV) и каталог фильмов (StreamingMovies).\n",
    "\n",
    "За услуги клиенты могут платить каждый месяц или заключить договор на 1–2 года. Доступны различные способы расчёта и возможность получения электронного чека.\n",
    "\n",
    "## Описание данных\n",
    "Команда оператора связи собрала персональные данные о некоторых клиентах (информацию об их тарифах и договорах). Информация о договорах актуальна на 1 февраля 2020. Все данные хранятся в следующих четырёх датасетах:\n",
    "\n",
    "__Таблица df_contract__ хранит информацию о договорах:\n",
    "+ `customerID` — уникальный код клиента\n",
    "+ `BeginDate` — дата начала пользования услугами\n",
    "+ `EndDate` — дата окончания пользования услугами\n",
    "+ `Type` — тип оплаты (ежемесячный, годовой и т.д.)\n",
    "+ `PaperlessBilling` — безналичный расчёт\n",
    "+ `PaymentMethod` — способ оплаты\n",
    "+ `MonthlyCharges` — ежемесячные траты на услуги\n",
    "+ `TotalCharges` — всего потрачено денег на услуги\n",
    "\n",
    "__Таблица df_internet__ хранит информацию об интернет-услугах:\n",
    "+ `customerID` — уникальный код клиента\n",
    "+ `InternetService` — тип кабеля, которым подключён клиент\n",
    "+ `OnlineSecurity` — подключена ли услуга блокировки небезопасных сайтов\n",
    "+ `OnlineBackup` — подключена ли услуга облачного хранилища\n",
    "+ `DeviceProtection` — подключена ли услуга предоставления антивируса\n",
    "+ `TechSupport` — подключена ли услуга выделенной линии технической поддержки\n",
    "+ `StreamingTV` — подключена ли услуга стримингового телевидения\n",
    "+ `StreamingMovies` — подключена ли услуга каталога фильмов\n",
    "\n",
    "__Таблица df_personal__ хранит информацию о персональных данных клиента:\n",
    "+ `customerID` — уникальный код клиента\n",
    "+ `gender` — пол клиента\n",
    "+ `SeniorCitizen` — является ли клиент пенсионером по возрасту\n",
    "+ `Partner` — наличие супруга(и)\n",
    "+ `Dependents` — наличие иждивенцев\n",
    "\n",
    "__Таблица df_phone__ хранит информацию об услугах телефонии:\n",
    "+ `customerID` — уникальный код клиента\n",
    "+ `MultipleLines` — наличие возможности ведения параллельных линий во время звонка"
   ]
  },
  {
   "cell_type": "markdown",
   "id": "2f6f027c",
   "metadata": {},
   "source": [
    "# Загрузка, обзор и подготовка данных\n",
    "## Загрузка данных\n",
    "Импортируем необходимые библиотеки и прочитаем файлы `contract.csv`, `internet.csv`, `personal.csv` и `phone.csv`."
   ]
  },
  {
   "cell_type": "code",
   "execution_count": 1,
   "id": "6636aae9",
   "metadata": {},
   "outputs": [],
   "source": [
    "import pandas as pd\n",
    "import numpy as np\n",
    "import matplotlib.pyplot as plt\n",
    "import seaborn as sns\n",
    "sns.set()\n",
    "\n",
    "from sklearn.model_selection import train_test_split\n",
    "from sklearn.preprocessing import StandardScaler, OrdinalEncoder\n",
    "from sklearn.metrics import roc_auc_score, accuracy_score\n",
    "from sklearn.model_selection import GridSearchCV\n",
    "\n",
    "from sklearn.linear_model import LogisticRegression\n",
    "from sklearn.ensemble import RandomForestClassifier\n",
    "from catboost import CatBoostClassifier\n",
    "from lightgbm import LGBMClassifier\n",
    "from sklearn.dummy import DummyClassifier\n",
    "\n",
    "# Отключить некритические предупреждения в коде\n",
    "import warnings\n",
    "warnings.filterwarnings(\"ignore\")"
   ]
  },
  {
   "cell_type": "code",
   "execution_count": 2,
   "id": "205324d7",
   "metadata": {},
   "outputs": [],
   "source": [
    "try:\n",
    "    df_contract = pd.read_csv('contract.csv')\n",
    "    df_internet = pd.read_csv('internet.csv')\n",
    "    df_personal = pd.read_csv('personal.csv')\n",
    "    df_phone = pd.read_csv('phone.csv')\n",
    "except:\n",
    "    df_contract = pd.read_csv('/datasets/final_provider/contract.csv')\n",
    "    df_internet = pd.read_csv('/datasets/final_provider/internet.csv')\n",
    "    df_personal = pd.read_csv('/datasets/final_provider/personal.csv')\n",
    "    df_phone = pd.read_csv('/datasets/final_provider/phone.csv')"
   ]
  },
  {
   "cell_type": "markdown",
   "id": "17e9c332",
   "metadata": {},
   "source": [
    "## Обзор данных\n",
    "Для каждой таблицы посмотрим первые и последние строки, размерность, названия колонок и общую информацию.\n",
    "### Обзор данных таблицы df_contract"
   ]
  },
  {
   "cell_type": "code",
   "execution_count": 3,
   "id": "32ee3637",
   "metadata": {},
   "outputs": [
    {
     "data": {
      "text/html": [
       "<div>\n",
       "<style scoped>\n",
       "    .dataframe tbody tr th:only-of-type {\n",
       "        vertical-align: middle;\n",
       "    }\n",
       "\n",
       "    .dataframe tbody tr th {\n",
       "        vertical-align: top;\n",
       "    }\n",
       "\n",
       "    .dataframe thead th {\n",
       "        text-align: right;\n",
       "    }\n",
       "</style>\n",
       "<table border=\"1\" class=\"dataframe\">\n",
       "  <thead>\n",
       "    <tr style=\"text-align: right;\">\n",
       "      <th></th>\n",
       "      <th>customerID</th>\n",
       "      <th>BeginDate</th>\n",
       "      <th>EndDate</th>\n",
       "      <th>Type</th>\n",
       "      <th>PaperlessBilling</th>\n",
       "      <th>PaymentMethod</th>\n",
       "      <th>MonthlyCharges</th>\n",
       "      <th>TotalCharges</th>\n",
       "    </tr>\n",
       "  </thead>\n",
       "  <tbody>\n",
       "    <tr>\n",
       "      <th>0</th>\n",
       "      <td>7590-VHVEG</td>\n",
       "      <td>2020-01-01</td>\n",
       "      <td>No</td>\n",
       "      <td>Month-to-month</td>\n",
       "      <td>Yes</td>\n",
       "      <td>Electronic check</td>\n",
       "      <td>29.85</td>\n",
       "      <td>29.85</td>\n",
       "    </tr>\n",
       "    <tr>\n",
       "      <th>1</th>\n",
       "      <td>5575-GNVDE</td>\n",
       "      <td>2017-04-01</td>\n",
       "      <td>No</td>\n",
       "      <td>One year</td>\n",
       "      <td>No</td>\n",
       "      <td>Mailed check</td>\n",
       "      <td>56.95</td>\n",
       "      <td>1889.5</td>\n",
       "    </tr>\n",
       "    <tr>\n",
       "      <th>2</th>\n",
       "      <td>3668-QPYBK</td>\n",
       "      <td>2019-10-01</td>\n",
       "      <td>2019-12-01 00:00:00</td>\n",
       "      <td>Month-to-month</td>\n",
       "      <td>Yes</td>\n",
       "      <td>Mailed check</td>\n",
       "      <td>53.85</td>\n",
       "      <td>108.15</td>\n",
       "    </tr>\n",
       "    <tr>\n",
       "      <th>3</th>\n",
       "      <td>7795-CFOCW</td>\n",
       "      <td>2016-05-01</td>\n",
       "      <td>No</td>\n",
       "      <td>One year</td>\n",
       "      <td>No</td>\n",
       "      <td>Bank transfer (automatic)</td>\n",
       "      <td>42.30</td>\n",
       "      <td>1840.75</td>\n",
       "    </tr>\n",
       "    <tr>\n",
       "      <th>4</th>\n",
       "      <td>9237-HQITU</td>\n",
       "      <td>2019-09-01</td>\n",
       "      <td>2019-11-01 00:00:00</td>\n",
       "      <td>Month-to-month</td>\n",
       "      <td>Yes</td>\n",
       "      <td>Electronic check</td>\n",
       "      <td>70.70</td>\n",
       "      <td>151.65</td>\n",
       "    </tr>\n",
       "  </tbody>\n",
       "</table>\n",
       "</div>"
      ],
      "text/plain": [
       "   customerID   BeginDate              EndDate            Type  \\\n",
       "0  7590-VHVEG  2020-01-01                   No  Month-to-month   \n",
       "1  5575-GNVDE  2017-04-01                   No        One year   \n",
       "2  3668-QPYBK  2019-10-01  2019-12-01 00:00:00  Month-to-month   \n",
       "3  7795-CFOCW  2016-05-01                   No        One year   \n",
       "4  9237-HQITU  2019-09-01  2019-11-01 00:00:00  Month-to-month   \n",
       "\n",
       "  PaperlessBilling              PaymentMethod  MonthlyCharges TotalCharges  \n",
       "0              Yes           Electronic check           29.85        29.85  \n",
       "1               No               Mailed check           56.95       1889.5  \n",
       "2              Yes               Mailed check           53.85       108.15  \n",
       "3               No  Bank transfer (automatic)           42.30      1840.75  \n",
       "4              Yes           Electronic check           70.70       151.65  "
      ]
     },
     "execution_count": 3,
     "metadata": {},
     "output_type": "execute_result"
    }
   ],
   "source": [
    "df_contract.head()"
   ]
  },
  {
   "cell_type": "code",
   "execution_count": 4,
   "id": "66efcda9",
   "metadata": {},
   "outputs": [
    {
     "data": {
      "text/html": [
       "<div>\n",
       "<style scoped>\n",
       "    .dataframe tbody tr th:only-of-type {\n",
       "        vertical-align: middle;\n",
       "    }\n",
       "\n",
       "    .dataframe tbody tr th {\n",
       "        vertical-align: top;\n",
       "    }\n",
       "\n",
       "    .dataframe thead th {\n",
       "        text-align: right;\n",
       "    }\n",
       "</style>\n",
       "<table border=\"1\" class=\"dataframe\">\n",
       "  <thead>\n",
       "    <tr style=\"text-align: right;\">\n",
       "      <th></th>\n",
       "      <th>customerID</th>\n",
       "      <th>BeginDate</th>\n",
       "      <th>EndDate</th>\n",
       "      <th>Type</th>\n",
       "      <th>PaperlessBilling</th>\n",
       "      <th>PaymentMethod</th>\n",
       "      <th>MonthlyCharges</th>\n",
       "      <th>TotalCharges</th>\n",
       "    </tr>\n",
       "  </thead>\n",
       "  <tbody>\n",
       "    <tr>\n",
       "      <th>7038</th>\n",
       "      <td>6840-RESVB</td>\n",
       "      <td>2018-02-01</td>\n",
       "      <td>No</td>\n",
       "      <td>One year</td>\n",
       "      <td>Yes</td>\n",
       "      <td>Mailed check</td>\n",
       "      <td>84.80</td>\n",
       "      <td>1990.5</td>\n",
       "    </tr>\n",
       "    <tr>\n",
       "      <th>7039</th>\n",
       "      <td>2234-XADUH</td>\n",
       "      <td>2014-02-01</td>\n",
       "      <td>No</td>\n",
       "      <td>One year</td>\n",
       "      <td>Yes</td>\n",
       "      <td>Credit card (automatic)</td>\n",
       "      <td>103.20</td>\n",
       "      <td>7362.9</td>\n",
       "    </tr>\n",
       "    <tr>\n",
       "      <th>7040</th>\n",
       "      <td>4801-JZAZL</td>\n",
       "      <td>2019-03-01</td>\n",
       "      <td>No</td>\n",
       "      <td>Month-to-month</td>\n",
       "      <td>Yes</td>\n",
       "      <td>Electronic check</td>\n",
       "      <td>29.60</td>\n",
       "      <td>346.45</td>\n",
       "    </tr>\n",
       "    <tr>\n",
       "      <th>7041</th>\n",
       "      <td>8361-LTMKD</td>\n",
       "      <td>2019-07-01</td>\n",
       "      <td>2019-11-01 00:00:00</td>\n",
       "      <td>Month-to-month</td>\n",
       "      <td>Yes</td>\n",
       "      <td>Mailed check</td>\n",
       "      <td>74.40</td>\n",
       "      <td>306.6</td>\n",
       "    </tr>\n",
       "    <tr>\n",
       "      <th>7042</th>\n",
       "      <td>3186-AJIEK</td>\n",
       "      <td>2014-08-01</td>\n",
       "      <td>No</td>\n",
       "      <td>Two year</td>\n",
       "      <td>Yes</td>\n",
       "      <td>Bank transfer (automatic)</td>\n",
       "      <td>105.65</td>\n",
       "      <td>6844.5</td>\n",
       "    </tr>\n",
       "  </tbody>\n",
       "</table>\n",
       "</div>"
      ],
      "text/plain": [
       "      customerID   BeginDate              EndDate            Type  \\\n",
       "7038  6840-RESVB  2018-02-01                   No        One year   \n",
       "7039  2234-XADUH  2014-02-01                   No        One year   \n",
       "7040  4801-JZAZL  2019-03-01                   No  Month-to-month   \n",
       "7041  8361-LTMKD  2019-07-01  2019-11-01 00:00:00  Month-to-month   \n",
       "7042  3186-AJIEK  2014-08-01                   No        Two year   \n",
       "\n",
       "     PaperlessBilling              PaymentMethod  MonthlyCharges TotalCharges  \n",
       "7038              Yes               Mailed check           84.80       1990.5  \n",
       "7039              Yes    Credit card (automatic)          103.20       7362.9  \n",
       "7040              Yes           Electronic check           29.60       346.45  \n",
       "7041              Yes               Mailed check           74.40        306.6  \n",
       "7042              Yes  Bank transfer (automatic)          105.65       6844.5  "
      ]
     },
     "execution_count": 4,
     "metadata": {},
     "output_type": "execute_result"
    }
   ],
   "source": [
    "df_contract.tail()"
   ]
  },
  {
   "cell_type": "code",
   "execution_count": 5,
   "id": "2bf39b23",
   "metadata": {},
   "outputs": [
    {
     "data": {
      "text/plain": [
       "(7043, 8)"
      ]
     },
     "execution_count": 5,
     "metadata": {},
     "output_type": "execute_result"
    }
   ],
   "source": [
    "df_contract.shape"
   ]
  },
  {
   "cell_type": "code",
   "execution_count": 6,
   "id": "7fce11ee",
   "metadata": {},
   "outputs": [
    {
     "data": {
      "text/plain": [
       "Index(['customerID', 'BeginDate', 'EndDate', 'Type', 'PaperlessBilling',\n",
       "       'PaymentMethod', 'MonthlyCharges', 'TotalCharges'],\n",
       "      dtype='object')"
      ]
     },
     "execution_count": 6,
     "metadata": {},
     "output_type": "execute_result"
    }
   ],
   "source": [
    "df_contract.columns"
   ]
  },
  {
   "cell_type": "code",
   "execution_count": 7,
   "id": "d2803dba",
   "metadata": {},
   "outputs": [
    {
     "name": "stdout",
     "output_type": "stream",
     "text": [
      "<class 'pandas.core.frame.DataFrame'>\n",
      "RangeIndex: 7043 entries, 0 to 7042\n",
      "Data columns (total 8 columns):\n",
      " #   Column            Non-Null Count  Dtype  \n",
      "---  ------            --------------  -----  \n",
      " 0   customerID        7043 non-null   object \n",
      " 1   BeginDate         7043 non-null   object \n",
      " 2   EndDate           7043 non-null   object \n",
      " 3   Type              7043 non-null   object \n",
      " 4   PaperlessBilling  7043 non-null   object \n",
      " 5   PaymentMethod     7043 non-null   object \n",
      " 6   MonthlyCharges    7043 non-null   float64\n",
      " 7   TotalCharges      7043 non-null   object \n",
      "dtypes: float64(1), object(7)\n",
      "memory usage: 440.3+ KB\n"
     ]
    }
   ],
   "source": [
    "df_contract.info()"
   ]
  },
  {
   "cell_type": "markdown",
   "id": "60eb4e87",
   "metadata": {},
   "source": [
    "### Обзор данных таблицы df_internet"
   ]
  },
  {
   "cell_type": "code",
   "execution_count": 8,
   "id": "557ec91b",
   "metadata": {},
   "outputs": [
    {
     "data": {
      "text/html": [
       "<div>\n",
       "<style scoped>\n",
       "    .dataframe tbody tr th:only-of-type {\n",
       "        vertical-align: middle;\n",
       "    }\n",
       "\n",
       "    .dataframe tbody tr th {\n",
       "        vertical-align: top;\n",
       "    }\n",
       "\n",
       "    .dataframe thead th {\n",
       "        text-align: right;\n",
       "    }\n",
       "</style>\n",
       "<table border=\"1\" class=\"dataframe\">\n",
       "  <thead>\n",
       "    <tr style=\"text-align: right;\">\n",
       "      <th></th>\n",
       "      <th>customerID</th>\n",
       "      <th>InternetService</th>\n",
       "      <th>OnlineSecurity</th>\n",
       "      <th>OnlineBackup</th>\n",
       "      <th>DeviceProtection</th>\n",
       "      <th>TechSupport</th>\n",
       "      <th>StreamingTV</th>\n",
       "      <th>StreamingMovies</th>\n",
       "    </tr>\n",
       "  </thead>\n",
       "  <tbody>\n",
       "    <tr>\n",
       "      <th>0</th>\n",
       "      <td>7590-VHVEG</td>\n",
       "      <td>DSL</td>\n",
       "      <td>No</td>\n",
       "      <td>Yes</td>\n",
       "      <td>No</td>\n",
       "      <td>No</td>\n",
       "      <td>No</td>\n",
       "      <td>No</td>\n",
       "    </tr>\n",
       "    <tr>\n",
       "      <th>1</th>\n",
       "      <td>5575-GNVDE</td>\n",
       "      <td>DSL</td>\n",
       "      <td>Yes</td>\n",
       "      <td>No</td>\n",
       "      <td>Yes</td>\n",
       "      <td>No</td>\n",
       "      <td>No</td>\n",
       "      <td>No</td>\n",
       "    </tr>\n",
       "    <tr>\n",
       "      <th>2</th>\n",
       "      <td>3668-QPYBK</td>\n",
       "      <td>DSL</td>\n",
       "      <td>Yes</td>\n",
       "      <td>Yes</td>\n",
       "      <td>No</td>\n",
       "      <td>No</td>\n",
       "      <td>No</td>\n",
       "      <td>No</td>\n",
       "    </tr>\n",
       "    <tr>\n",
       "      <th>3</th>\n",
       "      <td>7795-CFOCW</td>\n",
       "      <td>DSL</td>\n",
       "      <td>Yes</td>\n",
       "      <td>No</td>\n",
       "      <td>Yes</td>\n",
       "      <td>Yes</td>\n",
       "      <td>No</td>\n",
       "      <td>No</td>\n",
       "    </tr>\n",
       "    <tr>\n",
       "      <th>4</th>\n",
       "      <td>9237-HQITU</td>\n",
       "      <td>Fiber optic</td>\n",
       "      <td>No</td>\n",
       "      <td>No</td>\n",
       "      <td>No</td>\n",
       "      <td>No</td>\n",
       "      <td>No</td>\n",
       "      <td>No</td>\n",
       "    </tr>\n",
       "  </tbody>\n",
       "</table>\n",
       "</div>"
      ],
      "text/plain": [
       "   customerID InternetService OnlineSecurity OnlineBackup DeviceProtection  \\\n",
       "0  7590-VHVEG             DSL             No          Yes               No   \n",
       "1  5575-GNVDE             DSL            Yes           No              Yes   \n",
       "2  3668-QPYBK             DSL            Yes          Yes               No   \n",
       "3  7795-CFOCW             DSL            Yes           No              Yes   \n",
       "4  9237-HQITU     Fiber optic             No           No               No   \n",
       "\n",
       "  TechSupport StreamingTV StreamingMovies  \n",
       "0          No          No              No  \n",
       "1          No          No              No  \n",
       "2          No          No              No  \n",
       "3         Yes          No              No  \n",
       "4          No          No              No  "
      ]
     },
     "execution_count": 8,
     "metadata": {},
     "output_type": "execute_result"
    }
   ],
   "source": [
    "df_internet.head()"
   ]
  },
  {
   "cell_type": "code",
   "execution_count": 9,
   "id": "3664e030",
   "metadata": {},
   "outputs": [
    {
     "data": {
      "text/html": [
       "<div>\n",
       "<style scoped>\n",
       "    .dataframe tbody tr th:only-of-type {\n",
       "        vertical-align: middle;\n",
       "    }\n",
       "\n",
       "    .dataframe tbody tr th {\n",
       "        vertical-align: top;\n",
       "    }\n",
       "\n",
       "    .dataframe thead th {\n",
       "        text-align: right;\n",
       "    }\n",
       "</style>\n",
       "<table border=\"1\" class=\"dataframe\">\n",
       "  <thead>\n",
       "    <tr style=\"text-align: right;\">\n",
       "      <th></th>\n",
       "      <th>customerID</th>\n",
       "      <th>InternetService</th>\n",
       "      <th>OnlineSecurity</th>\n",
       "      <th>OnlineBackup</th>\n",
       "      <th>DeviceProtection</th>\n",
       "      <th>TechSupport</th>\n",
       "      <th>StreamingTV</th>\n",
       "      <th>StreamingMovies</th>\n",
       "    </tr>\n",
       "  </thead>\n",
       "  <tbody>\n",
       "    <tr>\n",
       "      <th>5512</th>\n",
       "      <td>6840-RESVB</td>\n",
       "      <td>DSL</td>\n",
       "      <td>Yes</td>\n",
       "      <td>No</td>\n",
       "      <td>Yes</td>\n",
       "      <td>Yes</td>\n",
       "      <td>Yes</td>\n",
       "      <td>Yes</td>\n",
       "    </tr>\n",
       "    <tr>\n",
       "      <th>5513</th>\n",
       "      <td>2234-XADUH</td>\n",
       "      <td>Fiber optic</td>\n",
       "      <td>No</td>\n",
       "      <td>Yes</td>\n",
       "      <td>Yes</td>\n",
       "      <td>No</td>\n",
       "      <td>Yes</td>\n",
       "      <td>Yes</td>\n",
       "    </tr>\n",
       "    <tr>\n",
       "      <th>5514</th>\n",
       "      <td>4801-JZAZL</td>\n",
       "      <td>DSL</td>\n",
       "      <td>Yes</td>\n",
       "      <td>No</td>\n",
       "      <td>No</td>\n",
       "      <td>No</td>\n",
       "      <td>No</td>\n",
       "      <td>No</td>\n",
       "    </tr>\n",
       "    <tr>\n",
       "      <th>5515</th>\n",
       "      <td>8361-LTMKD</td>\n",
       "      <td>Fiber optic</td>\n",
       "      <td>No</td>\n",
       "      <td>No</td>\n",
       "      <td>No</td>\n",
       "      <td>No</td>\n",
       "      <td>No</td>\n",
       "      <td>No</td>\n",
       "    </tr>\n",
       "    <tr>\n",
       "      <th>5516</th>\n",
       "      <td>3186-AJIEK</td>\n",
       "      <td>Fiber optic</td>\n",
       "      <td>Yes</td>\n",
       "      <td>No</td>\n",
       "      <td>Yes</td>\n",
       "      <td>Yes</td>\n",
       "      <td>Yes</td>\n",
       "      <td>Yes</td>\n",
       "    </tr>\n",
       "  </tbody>\n",
       "</table>\n",
       "</div>"
      ],
      "text/plain": [
       "      customerID InternetService OnlineSecurity OnlineBackup DeviceProtection  \\\n",
       "5512  6840-RESVB             DSL            Yes           No              Yes   \n",
       "5513  2234-XADUH     Fiber optic             No          Yes              Yes   \n",
       "5514  4801-JZAZL             DSL            Yes           No               No   \n",
       "5515  8361-LTMKD     Fiber optic             No           No               No   \n",
       "5516  3186-AJIEK     Fiber optic            Yes           No              Yes   \n",
       "\n",
       "     TechSupport StreamingTV StreamingMovies  \n",
       "5512         Yes         Yes             Yes  \n",
       "5513          No         Yes             Yes  \n",
       "5514          No          No              No  \n",
       "5515          No          No              No  \n",
       "5516         Yes         Yes             Yes  "
      ]
     },
     "execution_count": 9,
     "metadata": {},
     "output_type": "execute_result"
    }
   ],
   "source": [
    "df_internet.tail()"
   ]
  },
  {
   "cell_type": "code",
   "execution_count": 10,
   "id": "f0515505",
   "metadata": {},
   "outputs": [
    {
     "data": {
      "text/plain": [
       "(5517, 8)"
      ]
     },
     "execution_count": 10,
     "metadata": {},
     "output_type": "execute_result"
    }
   ],
   "source": [
    "df_internet.shape"
   ]
  },
  {
   "cell_type": "code",
   "execution_count": 11,
   "id": "a64f49aa",
   "metadata": {},
   "outputs": [
    {
     "data": {
      "text/plain": [
       "Index(['customerID', 'InternetService', 'OnlineSecurity', 'OnlineBackup',\n",
       "       'DeviceProtection', 'TechSupport', 'StreamingTV', 'StreamingMovies'],\n",
       "      dtype='object')"
      ]
     },
     "execution_count": 11,
     "metadata": {},
     "output_type": "execute_result"
    }
   ],
   "source": [
    "df_internet.columns"
   ]
  },
  {
   "cell_type": "code",
   "execution_count": 12,
   "id": "e5aece8d",
   "metadata": {},
   "outputs": [
    {
     "name": "stdout",
     "output_type": "stream",
     "text": [
      "<class 'pandas.core.frame.DataFrame'>\n",
      "RangeIndex: 5517 entries, 0 to 5516\n",
      "Data columns (total 8 columns):\n",
      " #   Column            Non-Null Count  Dtype \n",
      "---  ------            --------------  ----- \n",
      " 0   customerID        5517 non-null   object\n",
      " 1   InternetService   5517 non-null   object\n",
      " 2   OnlineSecurity    5517 non-null   object\n",
      " 3   OnlineBackup      5517 non-null   object\n",
      " 4   DeviceProtection  5517 non-null   object\n",
      " 5   TechSupport       5517 non-null   object\n",
      " 6   StreamingTV       5517 non-null   object\n",
      " 7   StreamingMovies   5517 non-null   object\n",
      "dtypes: object(8)\n",
      "memory usage: 344.9+ KB\n"
     ]
    }
   ],
   "source": [
    "df_internet.info()"
   ]
  },
  {
   "cell_type": "markdown",
   "id": "5577c5c9",
   "metadata": {},
   "source": [
    "### Обзор данных таблицы df_personal"
   ]
  },
  {
   "cell_type": "code",
   "execution_count": 13,
   "id": "306812c8",
   "metadata": {},
   "outputs": [
    {
     "data": {
      "text/html": [
       "<div>\n",
       "<style scoped>\n",
       "    .dataframe tbody tr th:only-of-type {\n",
       "        vertical-align: middle;\n",
       "    }\n",
       "\n",
       "    .dataframe tbody tr th {\n",
       "        vertical-align: top;\n",
       "    }\n",
       "\n",
       "    .dataframe thead th {\n",
       "        text-align: right;\n",
       "    }\n",
       "</style>\n",
       "<table border=\"1\" class=\"dataframe\">\n",
       "  <thead>\n",
       "    <tr style=\"text-align: right;\">\n",
       "      <th></th>\n",
       "      <th>customerID</th>\n",
       "      <th>gender</th>\n",
       "      <th>SeniorCitizen</th>\n",
       "      <th>Partner</th>\n",
       "      <th>Dependents</th>\n",
       "    </tr>\n",
       "  </thead>\n",
       "  <tbody>\n",
       "    <tr>\n",
       "      <th>0</th>\n",
       "      <td>7590-VHVEG</td>\n",
       "      <td>Female</td>\n",
       "      <td>0</td>\n",
       "      <td>Yes</td>\n",
       "      <td>No</td>\n",
       "    </tr>\n",
       "    <tr>\n",
       "      <th>1</th>\n",
       "      <td>5575-GNVDE</td>\n",
       "      <td>Male</td>\n",
       "      <td>0</td>\n",
       "      <td>No</td>\n",
       "      <td>No</td>\n",
       "    </tr>\n",
       "    <tr>\n",
       "      <th>2</th>\n",
       "      <td>3668-QPYBK</td>\n",
       "      <td>Male</td>\n",
       "      <td>0</td>\n",
       "      <td>No</td>\n",
       "      <td>No</td>\n",
       "    </tr>\n",
       "    <tr>\n",
       "      <th>3</th>\n",
       "      <td>7795-CFOCW</td>\n",
       "      <td>Male</td>\n",
       "      <td>0</td>\n",
       "      <td>No</td>\n",
       "      <td>No</td>\n",
       "    </tr>\n",
       "    <tr>\n",
       "      <th>4</th>\n",
       "      <td>9237-HQITU</td>\n",
       "      <td>Female</td>\n",
       "      <td>0</td>\n",
       "      <td>No</td>\n",
       "      <td>No</td>\n",
       "    </tr>\n",
       "  </tbody>\n",
       "</table>\n",
       "</div>"
      ],
      "text/plain": [
       "   customerID  gender  SeniorCitizen Partner Dependents\n",
       "0  7590-VHVEG  Female              0     Yes         No\n",
       "1  5575-GNVDE    Male              0      No         No\n",
       "2  3668-QPYBK    Male              0      No         No\n",
       "3  7795-CFOCW    Male              0      No         No\n",
       "4  9237-HQITU  Female              0      No         No"
      ]
     },
     "execution_count": 13,
     "metadata": {},
     "output_type": "execute_result"
    }
   ],
   "source": [
    "df_personal.head()"
   ]
  },
  {
   "cell_type": "code",
   "execution_count": 14,
   "id": "1202b1e5",
   "metadata": {},
   "outputs": [
    {
     "data": {
      "text/html": [
       "<div>\n",
       "<style scoped>\n",
       "    .dataframe tbody tr th:only-of-type {\n",
       "        vertical-align: middle;\n",
       "    }\n",
       "\n",
       "    .dataframe tbody tr th {\n",
       "        vertical-align: top;\n",
       "    }\n",
       "\n",
       "    .dataframe thead th {\n",
       "        text-align: right;\n",
       "    }\n",
       "</style>\n",
       "<table border=\"1\" class=\"dataframe\">\n",
       "  <thead>\n",
       "    <tr style=\"text-align: right;\">\n",
       "      <th></th>\n",
       "      <th>customerID</th>\n",
       "      <th>gender</th>\n",
       "      <th>SeniorCitizen</th>\n",
       "      <th>Partner</th>\n",
       "      <th>Dependents</th>\n",
       "    </tr>\n",
       "  </thead>\n",
       "  <tbody>\n",
       "    <tr>\n",
       "      <th>7038</th>\n",
       "      <td>6840-RESVB</td>\n",
       "      <td>Male</td>\n",
       "      <td>0</td>\n",
       "      <td>Yes</td>\n",
       "      <td>Yes</td>\n",
       "    </tr>\n",
       "    <tr>\n",
       "      <th>7039</th>\n",
       "      <td>2234-XADUH</td>\n",
       "      <td>Female</td>\n",
       "      <td>0</td>\n",
       "      <td>Yes</td>\n",
       "      <td>Yes</td>\n",
       "    </tr>\n",
       "    <tr>\n",
       "      <th>7040</th>\n",
       "      <td>4801-JZAZL</td>\n",
       "      <td>Female</td>\n",
       "      <td>0</td>\n",
       "      <td>Yes</td>\n",
       "      <td>Yes</td>\n",
       "    </tr>\n",
       "    <tr>\n",
       "      <th>7041</th>\n",
       "      <td>8361-LTMKD</td>\n",
       "      <td>Male</td>\n",
       "      <td>1</td>\n",
       "      <td>Yes</td>\n",
       "      <td>No</td>\n",
       "    </tr>\n",
       "    <tr>\n",
       "      <th>7042</th>\n",
       "      <td>3186-AJIEK</td>\n",
       "      <td>Male</td>\n",
       "      <td>0</td>\n",
       "      <td>No</td>\n",
       "      <td>No</td>\n",
       "    </tr>\n",
       "  </tbody>\n",
       "</table>\n",
       "</div>"
      ],
      "text/plain": [
       "      customerID  gender  SeniorCitizen Partner Dependents\n",
       "7038  6840-RESVB    Male              0     Yes        Yes\n",
       "7039  2234-XADUH  Female              0     Yes        Yes\n",
       "7040  4801-JZAZL  Female              0     Yes        Yes\n",
       "7041  8361-LTMKD    Male              1     Yes         No\n",
       "7042  3186-AJIEK    Male              0      No         No"
      ]
     },
     "execution_count": 14,
     "metadata": {},
     "output_type": "execute_result"
    }
   ],
   "source": [
    "df_personal.tail()"
   ]
  },
  {
   "cell_type": "code",
   "execution_count": 15,
   "id": "aea60e43",
   "metadata": {},
   "outputs": [
    {
     "data": {
      "text/plain": [
       "(7043, 5)"
      ]
     },
     "execution_count": 15,
     "metadata": {},
     "output_type": "execute_result"
    }
   ],
   "source": [
    "df_personal.shape"
   ]
  },
  {
   "cell_type": "code",
   "execution_count": 16,
   "id": "e9dbbe67",
   "metadata": {},
   "outputs": [
    {
     "data": {
      "text/plain": [
       "Index(['customerID', 'gender', 'SeniorCitizen', 'Partner', 'Dependents'], dtype='object')"
      ]
     },
     "execution_count": 16,
     "metadata": {},
     "output_type": "execute_result"
    }
   ],
   "source": [
    "df_personal.columns"
   ]
  },
  {
   "cell_type": "code",
   "execution_count": 17,
   "id": "1da82720",
   "metadata": {},
   "outputs": [
    {
     "name": "stdout",
     "output_type": "stream",
     "text": [
      "<class 'pandas.core.frame.DataFrame'>\n",
      "RangeIndex: 7043 entries, 0 to 7042\n",
      "Data columns (total 5 columns):\n",
      " #   Column         Non-Null Count  Dtype \n",
      "---  ------         --------------  ----- \n",
      " 0   customerID     7043 non-null   object\n",
      " 1   gender         7043 non-null   object\n",
      " 2   SeniorCitizen  7043 non-null   int64 \n",
      " 3   Partner        7043 non-null   object\n",
      " 4   Dependents     7043 non-null   object\n",
      "dtypes: int64(1), object(4)\n",
      "memory usage: 275.2+ KB\n"
     ]
    }
   ],
   "source": [
    "df_personal.info()"
   ]
  },
  {
   "cell_type": "markdown",
   "id": "bd9c288d",
   "metadata": {},
   "source": [
    "### Обзор данных таблицы df_phone"
   ]
  },
  {
   "cell_type": "code",
   "execution_count": 18,
   "id": "9ab7f4c4",
   "metadata": {},
   "outputs": [
    {
     "data": {
      "text/html": [
       "<div>\n",
       "<style scoped>\n",
       "    .dataframe tbody tr th:only-of-type {\n",
       "        vertical-align: middle;\n",
       "    }\n",
       "\n",
       "    .dataframe tbody tr th {\n",
       "        vertical-align: top;\n",
       "    }\n",
       "\n",
       "    .dataframe thead th {\n",
       "        text-align: right;\n",
       "    }\n",
       "</style>\n",
       "<table border=\"1\" class=\"dataframe\">\n",
       "  <thead>\n",
       "    <tr style=\"text-align: right;\">\n",
       "      <th></th>\n",
       "      <th>customerID</th>\n",
       "      <th>MultipleLines</th>\n",
       "    </tr>\n",
       "  </thead>\n",
       "  <tbody>\n",
       "    <tr>\n",
       "      <th>0</th>\n",
       "      <td>5575-GNVDE</td>\n",
       "      <td>No</td>\n",
       "    </tr>\n",
       "    <tr>\n",
       "      <th>1</th>\n",
       "      <td>3668-QPYBK</td>\n",
       "      <td>No</td>\n",
       "    </tr>\n",
       "    <tr>\n",
       "      <th>2</th>\n",
       "      <td>9237-HQITU</td>\n",
       "      <td>No</td>\n",
       "    </tr>\n",
       "    <tr>\n",
       "      <th>3</th>\n",
       "      <td>9305-CDSKC</td>\n",
       "      <td>Yes</td>\n",
       "    </tr>\n",
       "    <tr>\n",
       "      <th>4</th>\n",
       "      <td>1452-KIOVK</td>\n",
       "      <td>Yes</td>\n",
       "    </tr>\n",
       "  </tbody>\n",
       "</table>\n",
       "</div>"
      ],
      "text/plain": [
       "   customerID MultipleLines\n",
       "0  5575-GNVDE            No\n",
       "1  3668-QPYBK            No\n",
       "2  9237-HQITU            No\n",
       "3  9305-CDSKC           Yes\n",
       "4  1452-KIOVK           Yes"
      ]
     },
     "execution_count": 18,
     "metadata": {},
     "output_type": "execute_result"
    }
   ],
   "source": [
    "df_phone.head()"
   ]
  },
  {
   "cell_type": "code",
   "execution_count": 19,
   "id": "d525376e",
   "metadata": {},
   "outputs": [
    {
     "data": {
      "text/html": [
       "<div>\n",
       "<style scoped>\n",
       "    .dataframe tbody tr th:only-of-type {\n",
       "        vertical-align: middle;\n",
       "    }\n",
       "\n",
       "    .dataframe tbody tr th {\n",
       "        vertical-align: top;\n",
       "    }\n",
       "\n",
       "    .dataframe thead th {\n",
       "        text-align: right;\n",
       "    }\n",
       "</style>\n",
       "<table border=\"1\" class=\"dataframe\">\n",
       "  <thead>\n",
       "    <tr style=\"text-align: right;\">\n",
       "      <th></th>\n",
       "      <th>customerID</th>\n",
       "      <th>MultipleLines</th>\n",
       "    </tr>\n",
       "  </thead>\n",
       "  <tbody>\n",
       "    <tr>\n",
       "      <th>6356</th>\n",
       "      <td>2569-WGERO</td>\n",
       "      <td>No</td>\n",
       "    </tr>\n",
       "    <tr>\n",
       "      <th>6357</th>\n",
       "      <td>6840-RESVB</td>\n",
       "      <td>Yes</td>\n",
       "    </tr>\n",
       "    <tr>\n",
       "      <th>6358</th>\n",
       "      <td>2234-XADUH</td>\n",
       "      <td>Yes</td>\n",
       "    </tr>\n",
       "    <tr>\n",
       "      <th>6359</th>\n",
       "      <td>8361-LTMKD</td>\n",
       "      <td>Yes</td>\n",
       "    </tr>\n",
       "    <tr>\n",
       "      <th>6360</th>\n",
       "      <td>3186-AJIEK</td>\n",
       "      <td>No</td>\n",
       "    </tr>\n",
       "  </tbody>\n",
       "</table>\n",
       "</div>"
      ],
      "text/plain": [
       "      customerID MultipleLines\n",
       "6356  2569-WGERO            No\n",
       "6357  6840-RESVB           Yes\n",
       "6358  2234-XADUH           Yes\n",
       "6359  8361-LTMKD           Yes\n",
       "6360  3186-AJIEK            No"
      ]
     },
     "execution_count": 19,
     "metadata": {},
     "output_type": "execute_result"
    }
   ],
   "source": [
    "df_phone.tail()"
   ]
  },
  {
   "cell_type": "code",
   "execution_count": 20,
   "id": "faa9c614",
   "metadata": {},
   "outputs": [
    {
     "data": {
      "text/plain": [
       "(6361, 2)"
      ]
     },
     "execution_count": 20,
     "metadata": {},
     "output_type": "execute_result"
    }
   ],
   "source": [
    "df_phone.shape"
   ]
  },
  {
   "cell_type": "code",
   "execution_count": 21,
   "id": "3aa58c2f",
   "metadata": {},
   "outputs": [
    {
     "data": {
      "text/plain": [
       "Index(['customerID', 'MultipleLines'], dtype='object')"
      ]
     },
     "execution_count": 21,
     "metadata": {},
     "output_type": "execute_result"
    }
   ],
   "source": [
    "df_phone.columns"
   ]
  },
  {
   "cell_type": "code",
   "execution_count": 22,
   "id": "48e45eea",
   "metadata": {},
   "outputs": [
    {
     "name": "stdout",
     "output_type": "stream",
     "text": [
      "<class 'pandas.core.frame.DataFrame'>\n",
      "RangeIndex: 6361 entries, 0 to 6360\n",
      "Data columns (total 2 columns):\n",
      " #   Column         Non-Null Count  Dtype \n",
      "---  ------         --------------  ----- \n",
      " 0   customerID     6361 non-null   object\n",
      " 1   MultipleLines  6361 non-null   object\n",
      "dtypes: object(2)\n",
      "memory usage: 99.5+ KB\n"
     ]
    }
   ],
   "source": [
    "df_phone.info()"
   ]
  },
  {
   "cell_type": "markdown",
   "id": "21c6283b",
   "metadata": {},
   "source": [
    "### Вывод по обзору данных\n",
    "+ Требуется приведение типов для столбцов с датами и столбца `TotalCharges` таблицы `df_contract`.\n",
    "+ Все таблицы содержат общий столбец `customerID`, по которому их можно объединить.\n",
    "+ В таблицах отсутствует целевой признак, но его можно сгенерировать."
   ]
  },
  {
   "cell_type": "markdown",
   "id": "e75a5062",
   "metadata": {},
   "source": [
    "### План работы\n",
    "+ Проведём предобработку данных для всех таблиц:\n",
    "    + Объединим все таблицы по столбцу __customerID__ c помощью метода __merge__;\n",
    "    + Проверим на пропуски и при наличии обработаем их;\n",
    "    + Проверим на явные дубликаты;\n",
    "    + Проведём приведение типов;\n",
    "    + Создадим целевой признак из столбца __EndDate__ таблицы __df_contract__;\n",
    "    + Исследуем баланс классов целевого признака\n",
    "+ Проведём исследовательский анализ данных.\n",
    "+ После выполнения предыдущих двух пунктов удалим лишние признаки и возможно создадим несколько новых.\n",
    "+ Проведём разбивку данных на тренировочную (75%) и тестовую выборку (25%).\n",
    "+ Обучим с помощью кросс-валидации несколько моделей: Логистическая регрессия, Случайныйы лес, CatBoost, LightGBM.\n",
    "+ Выберем лучшую модель и проверим на тестовой выборке.\n",
    "+ Сравним работу лучшей модели с базисной моделью DummyClassifier на тестовой выборке.\n",
    "+ Напишем общий вывод по исследованию."
   ]
  },
  {
   "cell_type": "markdown",
   "id": "76192db7",
   "metadata": {},
   "source": [
    "## Подготовка данных\n",
    "Перед обработкой данных, объединим все таблицы в одну общую таблицу для удобства работы."
   ]
  },
  {
   "cell_type": "code",
   "execution_count": 23,
   "id": "24f2ca23",
   "metadata": {},
   "outputs": [
    {
     "data": {
      "text/html": [
       "<div>\n",
       "<style scoped>\n",
       "    .dataframe tbody tr th:only-of-type {\n",
       "        vertical-align: middle;\n",
       "    }\n",
       "\n",
       "    .dataframe tbody tr th {\n",
       "        vertical-align: top;\n",
       "    }\n",
       "\n",
       "    .dataframe thead th {\n",
       "        text-align: right;\n",
       "    }\n",
       "</style>\n",
       "<table border=\"1\" class=\"dataframe\">\n",
       "  <thead>\n",
       "    <tr style=\"text-align: right;\">\n",
       "      <th></th>\n",
       "      <th>customerID</th>\n",
       "      <th>BeginDate</th>\n",
       "      <th>EndDate</th>\n",
       "      <th>Type</th>\n",
       "      <th>PaperlessBilling</th>\n",
       "      <th>PaymentMethod</th>\n",
       "      <th>MonthlyCharges</th>\n",
       "      <th>TotalCharges</th>\n",
       "      <th>InternetService</th>\n",
       "      <th>OnlineSecurity</th>\n",
       "      <th>OnlineBackup</th>\n",
       "      <th>DeviceProtection</th>\n",
       "      <th>TechSupport</th>\n",
       "      <th>StreamingTV</th>\n",
       "      <th>StreamingMovies</th>\n",
       "      <th>gender</th>\n",
       "      <th>SeniorCitizen</th>\n",
       "      <th>Partner</th>\n",
       "      <th>Dependents</th>\n",
       "      <th>MultipleLines</th>\n",
       "    </tr>\n",
       "  </thead>\n",
       "  <tbody>\n",
       "    <tr>\n",
       "      <th>0</th>\n",
       "      <td>7590-VHVEG</td>\n",
       "      <td>2020-01-01</td>\n",
       "      <td>No</td>\n",
       "      <td>Month-to-month</td>\n",
       "      <td>Yes</td>\n",
       "      <td>Electronic check</td>\n",
       "      <td>29.85</td>\n",
       "      <td>29.85</td>\n",
       "      <td>DSL</td>\n",
       "      <td>No</td>\n",
       "      <td>Yes</td>\n",
       "      <td>No</td>\n",
       "      <td>No</td>\n",
       "      <td>No</td>\n",
       "      <td>No</td>\n",
       "      <td>Female</td>\n",
       "      <td>0</td>\n",
       "      <td>Yes</td>\n",
       "      <td>No</td>\n",
       "      <td>NaN</td>\n",
       "    </tr>\n",
       "    <tr>\n",
       "      <th>1</th>\n",
       "      <td>5575-GNVDE</td>\n",
       "      <td>2017-04-01</td>\n",
       "      <td>No</td>\n",
       "      <td>One year</td>\n",
       "      <td>No</td>\n",
       "      <td>Mailed check</td>\n",
       "      <td>56.95</td>\n",
       "      <td>1889.5</td>\n",
       "      <td>DSL</td>\n",
       "      <td>Yes</td>\n",
       "      <td>No</td>\n",
       "      <td>Yes</td>\n",
       "      <td>No</td>\n",
       "      <td>No</td>\n",
       "      <td>No</td>\n",
       "      <td>Male</td>\n",
       "      <td>0</td>\n",
       "      <td>No</td>\n",
       "      <td>No</td>\n",
       "      <td>No</td>\n",
       "    </tr>\n",
       "    <tr>\n",
       "      <th>2</th>\n",
       "      <td>3668-QPYBK</td>\n",
       "      <td>2019-10-01</td>\n",
       "      <td>2019-12-01 00:00:00</td>\n",
       "      <td>Month-to-month</td>\n",
       "      <td>Yes</td>\n",
       "      <td>Mailed check</td>\n",
       "      <td>53.85</td>\n",
       "      <td>108.15</td>\n",
       "      <td>DSL</td>\n",
       "      <td>Yes</td>\n",
       "      <td>Yes</td>\n",
       "      <td>No</td>\n",
       "      <td>No</td>\n",
       "      <td>No</td>\n",
       "      <td>No</td>\n",
       "      <td>Male</td>\n",
       "      <td>0</td>\n",
       "      <td>No</td>\n",
       "      <td>No</td>\n",
       "      <td>No</td>\n",
       "    </tr>\n",
       "    <tr>\n",
       "      <th>3</th>\n",
       "      <td>7795-CFOCW</td>\n",
       "      <td>2016-05-01</td>\n",
       "      <td>No</td>\n",
       "      <td>One year</td>\n",
       "      <td>No</td>\n",
       "      <td>Bank transfer (automatic)</td>\n",
       "      <td>42.30</td>\n",
       "      <td>1840.75</td>\n",
       "      <td>DSL</td>\n",
       "      <td>Yes</td>\n",
       "      <td>No</td>\n",
       "      <td>Yes</td>\n",
       "      <td>Yes</td>\n",
       "      <td>No</td>\n",
       "      <td>No</td>\n",
       "      <td>Male</td>\n",
       "      <td>0</td>\n",
       "      <td>No</td>\n",
       "      <td>No</td>\n",
       "      <td>NaN</td>\n",
       "    </tr>\n",
       "    <tr>\n",
       "      <th>4</th>\n",
       "      <td>9237-HQITU</td>\n",
       "      <td>2019-09-01</td>\n",
       "      <td>2019-11-01 00:00:00</td>\n",
       "      <td>Month-to-month</td>\n",
       "      <td>Yes</td>\n",
       "      <td>Electronic check</td>\n",
       "      <td>70.70</td>\n",
       "      <td>151.65</td>\n",
       "      <td>Fiber optic</td>\n",
       "      <td>No</td>\n",
       "      <td>No</td>\n",
       "      <td>No</td>\n",
       "      <td>No</td>\n",
       "      <td>No</td>\n",
       "      <td>No</td>\n",
       "      <td>Female</td>\n",
       "      <td>0</td>\n",
       "      <td>No</td>\n",
       "      <td>No</td>\n",
       "      <td>No</td>\n",
       "    </tr>\n",
       "    <tr>\n",
       "      <th>...</th>\n",
       "      <td>...</td>\n",
       "      <td>...</td>\n",
       "      <td>...</td>\n",
       "      <td>...</td>\n",
       "      <td>...</td>\n",
       "      <td>...</td>\n",
       "      <td>...</td>\n",
       "      <td>...</td>\n",
       "      <td>...</td>\n",
       "      <td>...</td>\n",
       "      <td>...</td>\n",
       "      <td>...</td>\n",
       "      <td>...</td>\n",
       "      <td>...</td>\n",
       "      <td>...</td>\n",
       "      <td>...</td>\n",
       "      <td>...</td>\n",
       "      <td>...</td>\n",
       "      <td>...</td>\n",
       "      <td>...</td>\n",
       "    </tr>\n",
       "    <tr>\n",
       "      <th>7038</th>\n",
       "      <td>6840-RESVB</td>\n",
       "      <td>2018-02-01</td>\n",
       "      <td>No</td>\n",
       "      <td>One year</td>\n",
       "      <td>Yes</td>\n",
       "      <td>Mailed check</td>\n",
       "      <td>84.80</td>\n",
       "      <td>1990.5</td>\n",
       "      <td>DSL</td>\n",
       "      <td>Yes</td>\n",
       "      <td>No</td>\n",
       "      <td>Yes</td>\n",
       "      <td>Yes</td>\n",
       "      <td>Yes</td>\n",
       "      <td>Yes</td>\n",
       "      <td>Male</td>\n",
       "      <td>0</td>\n",
       "      <td>Yes</td>\n",
       "      <td>Yes</td>\n",
       "      <td>Yes</td>\n",
       "    </tr>\n",
       "    <tr>\n",
       "      <th>7039</th>\n",
       "      <td>2234-XADUH</td>\n",
       "      <td>2014-02-01</td>\n",
       "      <td>No</td>\n",
       "      <td>One year</td>\n",
       "      <td>Yes</td>\n",
       "      <td>Credit card (automatic)</td>\n",
       "      <td>103.20</td>\n",
       "      <td>7362.9</td>\n",
       "      <td>Fiber optic</td>\n",
       "      <td>No</td>\n",
       "      <td>Yes</td>\n",
       "      <td>Yes</td>\n",
       "      <td>No</td>\n",
       "      <td>Yes</td>\n",
       "      <td>Yes</td>\n",
       "      <td>Female</td>\n",
       "      <td>0</td>\n",
       "      <td>Yes</td>\n",
       "      <td>Yes</td>\n",
       "      <td>Yes</td>\n",
       "    </tr>\n",
       "    <tr>\n",
       "      <th>7040</th>\n",
       "      <td>4801-JZAZL</td>\n",
       "      <td>2019-03-01</td>\n",
       "      <td>No</td>\n",
       "      <td>Month-to-month</td>\n",
       "      <td>Yes</td>\n",
       "      <td>Electronic check</td>\n",
       "      <td>29.60</td>\n",
       "      <td>346.45</td>\n",
       "      <td>DSL</td>\n",
       "      <td>Yes</td>\n",
       "      <td>No</td>\n",
       "      <td>No</td>\n",
       "      <td>No</td>\n",
       "      <td>No</td>\n",
       "      <td>No</td>\n",
       "      <td>Female</td>\n",
       "      <td>0</td>\n",
       "      <td>Yes</td>\n",
       "      <td>Yes</td>\n",
       "      <td>NaN</td>\n",
       "    </tr>\n",
       "    <tr>\n",
       "      <th>7041</th>\n",
       "      <td>8361-LTMKD</td>\n",
       "      <td>2019-07-01</td>\n",
       "      <td>2019-11-01 00:00:00</td>\n",
       "      <td>Month-to-month</td>\n",
       "      <td>Yes</td>\n",
       "      <td>Mailed check</td>\n",
       "      <td>74.40</td>\n",
       "      <td>306.6</td>\n",
       "      <td>Fiber optic</td>\n",
       "      <td>No</td>\n",
       "      <td>No</td>\n",
       "      <td>No</td>\n",
       "      <td>No</td>\n",
       "      <td>No</td>\n",
       "      <td>No</td>\n",
       "      <td>Male</td>\n",
       "      <td>1</td>\n",
       "      <td>Yes</td>\n",
       "      <td>No</td>\n",
       "      <td>Yes</td>\n",
       "    </tr>\n",
       "    <tr>\n",
       "      <th>7042</th>\n",
       "      <td>3186-AJIEK</td>\n",
       "      <td>2014-08-01</td>\n",
       "      <td>No</td>\n",
       "      <td>Two year</td>\n",
       "      <td>Yes</td>\n",
       "      <td>Bank transfer (automatic)</td>\n",
       "      <td>105.65</td>\n",
       "      <td>6844.5</td>\n",
       "      <td>Fiber optic</td>\n",
       "      <td>Yes</td>\n",
       "      <td>No</td>\n",
       "      <td>Yes</td>\n",
       "      <td>Yes</td>\n",
       "      <td>Yes</td>\n",
       "      <td>Yes</td>\n",
       "      <td>Male</td>\n",
       "      <td>0</td>\n",
       "      <td>No</td>\n",
       "      <td>No</td>\n",
       "      <td>No</td>\n",
       "    </tr>\n",
       "  </tbody>\n",
       "</table>\n",
       "<p>7043 rows × 20 columns</p>\n",
       "</div>"
      ],
      "text/plain": [
       "      customerID   BeginDate              EndDate            Type  \\\n",
       "0     7590-VHVEG  2020-01-01                   No  Month-to-month   \n",
       "1     5575-GNVDE  2017-04-01                   No        One year   \n",
       "2     3668-QPYBK  2019-10-01  2019-12-01 00:00:00  Month-to-month   \n",
       "3     7795-CFOCW  2016-05-01                   No        One year   \n",
       "4     9237-HQITU  2019-09-01  2019-11-01 00:00:00  Month-to-month   \n",
       "...          ...         ...                  ...             ...   \n",
       "7038  6840-RESVB  2018-02-01                   No        One year   \n",
       "7039  2234-XADUH  2014-02-01                   No        One year   \n",
       "7040  4801-JZAZL  2019-03-01                   No  Month-to-month   \n",
       "7041  8361-LTMKD  2019-07-01  2019-11-01 00:00:00  Month-to-month   \n",
       "7042  3186-AJIEK  2014-08-01                   No        Two year   \n",
       "\n",
       "     PaperlessBilling              PaymentMethod  MonthlyCharges TotalCharges  \\\n",
       "0                 Yes           Electronic check           29.85        29.85   \n",
       "1                  No               Mailed check           56.95       1889.5   \n",
       "2                 Yes               Mailed check           53.85       108.15   \n",
       "3                  No  Bank transfer (automatic)           42.30      1840.75   \n",
       "4                 Yes           Electronic check           70.70       151.65   \n",
       "...               ...                        ...             ...          ...   \n",
       "7038              Yes               Mailed check           84.80       1990.5   \n",
       "7039              Yes    Credit card (automatic)          103.20       7362.9   \n",
       "7040              Yes           Electronic check           29.60       346.45   \n",
       "7041              Yes               Mailed check           74.40        306.6   \n",
       "7042              Yes  Bank transfer (automatic)          105.65       6844.5   \n",
       "\n",
       "     InternetService OnlineSecurity OnlineBackup DeviceProtection TechSupport  \\\n",
       "0                DSL             No          Yes               No          No   \n",
       "1                DSL            Yes           No              Yes          No   \n",
       "2                DSL            Yes          Yes               No          No   \n",
       "3                DSL            Yes           No              Yes         Yes   \n",
       "4        Fiber optic             No           No               No          No   \n",
       "...              ...            ...          ...              ...         ...   \n",
       "7038             DSL            Yes           No              Yes         Yes   \n",
       "7039     Fiber optic             No          Yes              Yes          No   \n",
       "7040             DSL            Yes           No               No          No   \n",
       "7041     Fiber optic             No           No               No          No   \n",
       "7042     Fiber optic            Yes           No              Yes         Yes   \n",
       "\n",
       "     StreamingTV StreamingMovies  gender  SeniorCitizen Partner Dependents  \\\n",
       "0             No              No  Female              0     Yes         No   \n",
       "1             No              No    Male              0      No         No   \n",
       "2             No              No    Male              0      No         No   \n",
       "3             No              No    Male              0      No         No   \n",
       "4             No              No  Female              0      No         No   \n",
       "...          ...             ...     ...            ...     ...        ...   \n",
       "7038         Yes             Yes    Male              0     Yes        Yes   \n",
       "7039         Yes             Yes  Female              0     Yes        Yes   \n",
       "7040          No              No  Female              0     Yes        Yes   \n",
       "7041          No              No    Male              1     Yes         No   \n",
       "7042         Yes             Yes    Male              0      No         No   \n",
       "\n",
       "     MultipleLines  \n",
       "0              NaN  \n",
       "1               No  \n",
       "2               No  \n",
       "3              NaN  \n",
       "4               No  \n",
       "...            ...  \n",
       "7038           Yes  \n",
       "7039           Yes  \n",
       "7040           NaN  \n",
       "7041           Yes  \n",
       "7042            No  \n",
       "\n",
       "[7043 rows x 20 columns]"
      ]
     },
     "execution_count": 23,
     "metadata": {},
     "output_type": "execute_result"
    }
   ],
   "source": [
    "total_table = df_contract.merge(df_internet, on='customerID', how='outer')\n",
    "total_table = total_table.merge(df_personal, on='customerID', how='outer')\n",
    "total_table = total_table.merge(df_phone, on='customerID', how='outer')\n",
    "# Посмотрим, что получилось\n",
    "total_table"
   ]
  },
  {
   "cell_type": "markdown",
   "id": "3b16960a",
   "metadata": {},
   "source": [
    "### Заполнение пропусков"
   ]
  },
  {
   "cell_type": "code",
   "execution_count": 24,
   "id": "12b9b216",
   "metadata": {},
   "outputs": [
    {
     "data": {
      "text/plain": [
       "customerID             0\n",
       "BeginDate              0\n",
       "EndDate                0\n",
       "Type                   0\n",
       "PaperlessBilling       0\n",
       "PaymentMethod          0\n",
       "MonthlyCharges         0\n",
       "TotalCharges           0\n",
       "InternetService     1526\n",
       "OnlineSecurity      1526\n",
       "OnlineBackup        1526\n",
       "DeviceProtection    1526\n",
       "TechSupport         1526\n",
       "StreamingTV         1526\n",
       "StreamingMovies     1526\n",
       "gender                 0\n",
       "SeniorCitizen          0\n",
       "Partner                0\n",
       "Dependents             0\n",
       "MultipleLines        682\n",
       "dtype: int64"
      ]
     },
     "execution_count": 24,
     "metadata": {},
     "output_type": "execute_result"
    }
   ],
   "source": [
    "total_table.isna().sum()"
   ]
  },
  {
   "cell_type": "markdown",
   "id": "ba9dbe55",
   "metadata": {},
   "source": [
    "Все пропуски находятся в столбцах, которые могут принимать только значения «Да» или «Нет», поэтому можем заполнить их заглушкой __unknown__."
   ]
  },
  {
   "cell_type": "code",
   "execution_count": 25,
   "id": "e5dd7f58",
   "metadata": {},
   "outputs": [
    {
     "data": {
      "text/plain": [
       "customerID          0\n",
       "BeginDate           0\n",
       "EndDate             0\n",
       "Type                0\n",
       "PaperlessBilling    0\n",
       "PaymentMethod       0\n",
       "MonthlyCharges      0\n",
       "TotalCharges        0\n",
       "InternetService     0\n",
       "OnlineSecurity      0\n",
       "OnlineBackup        0\n",
       "DeviceProtection    0\n",
       "TechSupport         0\n",
       "StreamingTV         0\n",
       "StreamingMovies     0\n",
       "gender              0\n",
       "SeniorCitizen       0\n",
       "Partner             0\n",
       "Dependents          0\n",
       "MultipleLines       0\n",
       "dtype: int64"
      ]
     },
     "execution_count": 25,
     "metadata": {},
     "output_type": "execute_result"
    }
   ],
   "source": [
    "columns_with_missing = list(df_internet.columns[1:]) + list(df_phone.columns[1:2])\n",
    "for column in columns_with_missing:\n",
    "    total_table[column] = total_table[column].fillna('unknown')\n",
    "    \n",
    "# Проверим результат\n",
    "total_table.isna().sum()"
   ]
  },
  {
   "cell_type": "markdown",
   "id": "c14634c9",
   "metadata": {},
   "source": [
    "### Изменение типов данных\n",
    "Изменять тип данных будем для следующих столбцов:\n",
    "+ Столбец __TotalCharges__ из типа __object__ к типу __float__.\n",
    "+ Столбец __BeginDate__ из типа __object__ к типу __datetime__.\n",
    "+ Столбец __EndDate__ из типа __object__ к типу __datetime__.\n",
    "\n",
    "Посмотрим уникальные значения столбца __TotalCharges__."
   ]
  },
  {
   "cell_type": "code",
   "execution_count": 26,
   "id": "61093f11",
   "metadata": {},
   "outputs": [
    {
     "data": {
      "text/plain": [
       "array([' ', '100.2', '100.25', ..., '999.45', '999.8', '999.9'],\n",
       "      dtype=object)"
      ]
     },
     "execution_count": 26,
     "metadata": {},
     "output_type": "execute_result"
    }
   ],
   "source": [
    "np.sort(total_table['TotalCharges'].unique())"
   ]
  },
  {
   "cell_type": "markdown",
   "id": "c2a293d4",
   "metadata": {},
   "source": [
    "Есть значения в виде пробела, посмотрим сколько их."
   ]
  },
  {
   "cell_type": "code",
   "execution_count": 27,
   "id": "1303d2a2",
   "metadata": {},
   "outputs": [
    {
     "data": {
      "text/plain": [
       "11"
      ]
     },
     "execution_count": 27,
     "metadata": {},
     "output_type": "execute_result"
    }
   ],
   "source": [
    "len(total_table[total_table['TotalCharges'] == ' '])"
   ]
  },
  {
   "cell_type": "markdown",
   "id": "02d9a1cc",
   "metadata": {},
   "source": [
    "Всего 11 строк. Удалим их и приведём столбец __TotalCharges__ из типа __object__ к типу __int__."
   ]
  },
  {
   "cell_type": "code",
   "execution_count": 28,
   "id": "0d461b32",
   "metadata": {},
   "outputs": [],
   "source": [
    "total_table = total_table[total_table['TotalCharges'] != ' ']\n",
    "total_table = total_table.astype({'TotalCharges': 'float'})"
   ]
  },
  {
   "cell_type": "markdown",
   "id": "59e9873c",
   "metadata": {},
   "source": [
    "Приведём столбец __BeginDate__ из типа __object__ к типу __datetime__."
   ]
  },
  {
   "cell_type": "code",
   "execution_count": 29,
   "id": "1d579e15",
   "metadata": {},
   "outputs": [],
   "source": [
    "total_table['BeginDate'] = pd.to_datetime(total_table['BeginDate'], format='%Y-%m-%d')"
   ]
  },
  {
   "cell_type": "markdown",
   "id": "678d39b0",
   "metadata": {},
   "source": [
    "Посмотрим уникальные значения столбца __EndDate__."
   ]
  },
  {
   "cell_type": "code",
   "execution_count": 30,
   "id": "21e13eb7",
   "metadata": {},
   "outputs": [
    {
     "data": {
      "text/plain": [
       "array(['No', '2019-12-01 00:00:00', '2019-11-01 00:00:00',\n",
       "       '2019-10-01 00:00:00', '2020-01-01 00:00:00'], dtype=object)"
      ]
     },
     "execution_count": 30,
     "metadata": {},
     "output_type": "execute_result"
    }
   ],
   "source": [
    "total_table['EndDate'].unique()"
   ]
  },
  {
   "cell_type": "markdown",
   "id": "6f33b8c4",
   "metadata": {},
   "source": [
    "Нам известно, что информация о договорах актуальна на 1 февраля 2020, поэтому заменим все ячейки со значением __No__ на значение __2020-02-01__, после чего приведём тип данных столбца __EndDate__. Для этого напишем функцию и используем метод __apply()__."
   ]
  },
  {
   "cell_type": "code",
   "execution_count": 31,
   "id": "90db97b0",
   "metadata": {},
   "outputs": [
    {
     "data": {
      "text/html": [
       "<div>\n",
       "<style scoped>\n",
       "    .dataframe tbody tr th:only-of-type {\n",
       "        vertical-align: middle;\n",
       "    }\n",
       "\n",
       "    .dataframe tbody tr th {\n",
       "        vertical-align: top;\n",
       "    }\n",
       "\n",
       "    .dataframe thead th {\n",
       "        text-align: right;\n",
       "    }\n",
       "</style>\n",
       "<table border=\"1\" class=\"dataframe\">\n",
       "  <thead>\n",
       "    <tr style=\"text-align: right;\">\n",
       "      <th></th>\n",
       "      <th>EndDate</th>\n",
       "      <th>NewEndDate</th>\n",
       "    </tr>\n",
       "  </thead>\n",
       "  <tbody>\n",
       "    <tr>\n",
       "      <th>0</th>\n",
       "      <td>No</td>\n",
       "      <td>2020-02-01</td>\n",
       "    </tr>\n",
       "    <tr>\n",
       "      <th>1</th>\n",
       "      <td>No</td>\n",
       "      <td>2020-02-01</td>\n",
       "    </tr>\n",
       "    <tr>\n",
       "      <th>2</th>\n",
       "      <td>2019-12-01 00:00:00</td>\n",
       "      <td>2019-12-01 00:00:00</td>\n",
       "    </tr>\n",
       "    <tr>\n",
       "      <th>3</th>\n",
       "      <td>No</td>\n",
       "      <td>2020-02-01</td>\n",
       "    </tr>\n",
       "  </tbody>\n",
       "</table>\n",
       "</div>"
      ],
      "text/plain": [
       "               EndDate           NewEndDate\n",
       "0                   No           2020-02-01\n",
       "1                   No           2020-02-01\n",
       "2  2019-12-01 00:00:00  2019-12-01 00:00:00\n",
       "3                   No           2020-02-01"
      ]
     },
     "execution_count": 31,
     "metadata": {},
     "output_type": "execute_result"
    }
   ],
   "source": [
    "def date_func(total_table):\n",
    "    line = total_table['EndDate']\n",
    "    if line == 'No':\n",
    "        return '2020-02-01'\n",
    "    return line\n",
    "\n",
    "\n",
    "total_table['NewEndDate'] = total_table.apply(date_func, axis=1)\n",
    "# Посмотрим, что получилось\n",
    "total_table[['EndDate', 'NewEndDate']].head(4)"
   ]
  },
  {
   "cell_type": "markdown",
   "id": "b1449430",
   "metadata": {},
   "source": [
    "Приведём столбец __NewEndDate__ из типа __object__ к типу __datetime__."
   ]
  },
  {
   "cell_type": "code",
   "execution_count": 32,
   "id": "1afc741c",
   "metadata": {},
   "outputs": [],
   "source": [
    "total_table['NewEndDate'] = pd.to_datetime(total_table['NewEndDate'], format='%Y-%m-%d')"
   ]
  },
  {
   "cell_type": "markdown",
   "id": "0dcc1561",
   "metadata": {},
   "source": [
    "Проверим типы данных столбцов, после всех изменений."
   ]
  },
  {
   "cell_type": "code",
   "execution_count": 33,
   "id": "3eb07e76",
   "metadata": {},
   "outputs": [
    {
     "data": {
      "text/plain": [
       "customerID                  object\n",
       "BeginDate           datetime64[ns]\n",
       "EndDate                     object\n",
       "Type                        object\n",
       "PaperlessBilling            object\n",
       "PaymentMethod               object\n",
       "MonthlyCharges             float64\n",
       "TotalCharges               float64\n",
       "InternetService             object\n",
       "OnlineSecurity              object\n",
       "OnlineBackup                object\n",
       "DeviceProtection            object\n",
       "TechSupport                 object\n",
       "StreamingTV                 object\n",
       "StreamingMovies             object\n",
       "gender                      object\n",
       "SeniorCitizen                int64\n",
       "Partner                     object\n",
       "Dependents                  object\n",
       "MultipleLines               object\n",
       "NewEndDate          datetime64[ns]\n",
       "dtype: object"
      ]
     },
     "execution_count": 33,
     "metadata": {},
     "output_type": "execute_result"
    }
   ],
   "source": [
    "total_table.dtypes"
   ]
  },
  {
   "cell_type": "markdown",
   "id": "2439ab06",
   "metadata": {},
   "source": [
    "### Проверка явных дубликатов\n",
    "Проверим нашу таблицу на наличие явных дубликатов."
   ]
  },
  {
   "cell_type": "code",
   "execution_count": 34,
   "id": "f12635e6",
   "metadata": {},
   "outputs": [
    {
     "data": {
      "text/plain": [
       "0"
      ]
     },
     "execution_count": 34,
     "metadata": {},
     "output_type": "execute_result"
    }
   ],
   "source": [
    "total_table.duplicated().sum()"
   ]
  },
  {
   "cell_type": "markdown",
   "id": "a6d0b1af",
   "metadata": {},
   "source": [
    "### Создание целевого признака\n",
    "Целевым признаком является факт ухода клиента. Для всех значений __No__ столбца __EndDate__ будем считать, что клиент ещё не ушёл. Если же в __EndDate__ стоит дата окончания действия договора, то считаем что этот клиент уже ушёл."
   ]
  },
  {
   "cell_type": "code",
   "execution_count": 35,
   "id": "ceb1d24d",
   "metadata": {},
   "outputs": [
    {
     "data": {
      "text/html": [
       "<div>\n",
       "<style scoped>\n",
       "    .dataframe tbody tr th:only-of-type {\n",
       "        vertical-align: middle;\n",
       "    }\n",
       "\n",
       "    .dataframe tbody tr th {\n",
       "        vertical-align: top;\n",
       "    }\n",
       "\n",
       "    .dataframe thead th {\n",
       "        text-align: right;\n",
       "    }\n",
       "</style>\n",
       "<table border=\"1\" class=\"dataframe\">\n",
       "  <thead>\n",
       "    <tr style=\"text-align: right;\">\n",
       "      <th></th>\n",
       "      <th>EndDate</th>\n",
       "      <th>target_column</th>\n",
       "    </tr>\n",
       "  </thead>\n",
       "  <tbody>\n",
       "    <tr>\n",
       "      <th>0</th>\n",
       "      <td>No</td>\n",
       "      <td>0</td>\n",
       "    </tr>\n",
       "    <tr>\n",
       "      <th>1</th>\n",
       "      <td>No</td>\n",
       "      <td>0</td>\n",
       "    </tr>\n",
       "    <tr>\n",
       "      <th>2</th>\n",
       "      <td>2019-12-01 00:00:00</td>\n",
       "      <td>1</td>\n",
       "    </tr>\n",
       "    <tr>\n",
       "      <th>3</th>\n",
       "      <td>No</td>\n",
       "      <td>0</td>\n",
       "    </tr>\n",
       "  </tbody>\n",
       "</table>\n",
       "</div>"
      ],
      "text/plain": [
       "               EndDate  target_column\n",
       "0                   No              0\n",
       "1                   No              0\n",
       "2  2019-12-01 00:00:00              1\n",
       "3                   No              0"
      ]
     },
     "execution_count": 35,
     "metadata": {},
     "output_type": "execute_result"
    }
   ],
   "source": [
    "def create_target(total_table):\n",
    "    line = total_table['EndDate']\n",
    "    if line == 'No':\n",
    "        return 0  # Клиент ещё пользуется услугами\n",
    "    return 1  # Клиент уже ушёл\n",
    "\n",
    "\n",
    "total_table['target_column'] = total_table.apply(create_target, axis=1)\n",
    "# Посмотрим, что получилось\n",
    "total_table[['EndDate', 'target_column']].head(4)"
   ]
  },
  {
   "cell_type": "markdown",
   "id": "d0689ac0",
   "metadata": {},
   "source": [
    "### Создание дополнительных признаков\n",
    "Добавим два дополнительных признака:\n",
    "+ __number_days__ — сколько дней клиент пользовался услугами\n",
    "+ __number_services__ — количество услуг, которыми пользуется клиент"
   ]
  },
  {
   "cell_type": "code",
   "execution_count": 36,
   "id": "4c27b092",
   "metadata": {},
   "outputs": [],
   "source": [
    "total_table['number_days'] = (total_table['NewEndDate'] - total_table['BeginDate']).dt.days\n",
    "total_table = total_table.astype({'number_days': 'int'})"
   ]
  },
  {
   "cell_type": "code",
   "execution_count": 37,
   "id": "fd0fd6c0",
   "metadata": {},
   "outputs": [],
   "source": [
    "services_columns = ['OnlineSecurity', 'OnlineBackup', 'DeviceProtection', 'TechSupport', 'StreamingTV', 'StreamingMovies']\n",
    "\n",
    "def count_services(total_table):\n",
    "    count = 0\n",
    "    for i in services_columns:\n",
    "        if total_table[i] == 'Yes':\n",
    "            count += 1\n",
    "    return count\n",
    "\n",
    "total_table['number_services'] = total_table.apply(count_services, axis=1)"
   ]
  },
  {
   "cell_type": "code",
   "execution_count": 38,
   "id": "193c284c",
   "metadata": {
    "scrolled": true
   },
   "outputs": [
    {
     "data": {
      "text/html": [
       "<div>\n",
       "<style scoped>\n",
       "    .dataframe tbody tr th:only-of-type {\n",
       "        vertical-align: middle;\n",
       "    }\n",
       "\n",
       "    .dataframe tbody tr th {\n",
       "        vertical-align: top;\n",
       "    }\n",
       "\n",
       "    .dataframe thead th {\n",
       "        text-align: right;\n",
       "    }\n",
       "</style>\n",
       "<table border=\"1\" class=\"dataframe\">\n",
       "  <thead>\n",
       "    <tr style=\"text-align: right;\">\n",
       "      <th></th>\n",
       "      <th>customerID</th>\n",
       "      <th>BeginDate</th>\n",
       "      <th>EndDate</th>\n",
       "      <th>Type</th>\n",
       "      <th>PaperlessBilling</th>\n",
       "      <th>PaymentMethod</th>\n",
       "      <th>MonthlyCharges</th>\n",
       "      <th>TotalCharges</th>\n",
       "      <th>InternetService</th>\n",
       "      <th>OnlineSecurity</th>\n",
       "      <th>...</th>\n",
       "      <th>StreamingMovies</th>\n",
       "      <th>gender</th>\n",
       "      <th>SeniorCitizen</th>\n",
       "      <th>Partner</th>\n",
       "      <th>Dependents</th>\n",
       "      <th>MultipleLines</th>\n",
       "      <th>NewEndDate</th>\n",
       "      <th>target_column</th>\n",
       "      <th>number_days</th>\n",
       "      <th>number_services</th>\n",
       "    </tr>\n",
       "  </thead>\n",
       "  <tbody>\n",
       "    <tr>\n",
       "      <th>0</th>\n",
       "      <td>7590-VHVEG</td>\n",
       "      <td>2020-01-01</td>\n",
       "      <td>No</td>\n",
       "      <td>Month-to-month</td>\n",
       "      <td>Yes</td>\n",
       "      <td>Electronic check</td>\n",
       "      <td>29.85</td>\n",
       "      <td>29.85</td>\n",
       "      <td>DSL</td>\n",
       "      <td>No</td>\n",
       "      <td>...</td>\n",
       "      <td>No</td>\n",
       "      <td>Female</td>\n",
       "      <td>0</td>\n",
       "      <td>Yes</td>\n",
       "      <td>No</td>\n",
       "      <td>unknown</td>\n",
       "      <td>2020-02-01</td>\n",
       "      <td>0</td>\n",
       "      <td>31</td>\n",
       "      <td>1</td>\n",
       "    </tr>\n",
       "    <tr>\n",
       "      <th>1</th>\n",
       "      <td>5575-GNVDE</td>\n",
       "      <td>2017-04-01</td>\n",
       "      <td>No</td>\n",
       "      <td>One year</td>\n",
       "      <td>No</td>\n",
       "      <td>Mailed check</td>\n",
       "      <td>56.95</td>\n",
       "      <td>1889.50</td>\n",
       "      <td>DSL</td>\n",
       "      <td>Yes</td>\n",
       "      <td>...</td>\n",
       "      <td>No</td>\n",
       "      <td>Male</td>\n",
       "      <td>0</td>\n",
       "      <td>No</td>\n",
       "      <td>No</td>\n",
       "      <td>No</td>\n",
       "      <td>2020-02-01</td>\n",
       "      <td>0</td>\n",
       "      <td>1036</td>\n",
       "      <td>2</td>\n",
       "    </tr>\n",
       "    <tr>\n",
       "      <th>2</th>\n",
       "      <td>3668-QPYBK</td>\n",
       "      <td>2019-10-01</td>\n",
       "      <td>2019-12-01 00:00:00</td>\n",
       "      <td>Month-to-month</td>\n",
       "      <td>Yes</td>\n",
       "      <td>Mailed check</td>\n",
       "      <td>53.85</td>\n",
       "      <td>108.15</td>\n",
       "      <td>DSL</td>\n",
       "      <td>Yes</td>\n",
       "      <td>...</td>\n",
       "      <td>No</td>\n",
       "      <td>Male</td>\n",
       "      <td>0</td>\n",
       "      <td>No</td>\n",
       "      <td>No</td>\n",
       "      <td>No</td>\n",
       "      <td>2019-12-01</td>\n",
       "      <td>1</td>\n",
       "      <td>61</td>\n",
       "      <td>2</td>\n",
       "    </tr>\n",
       "    <tr>\n",
       "      <th>3</th>\n",
       "      <td>7795-CFOCW</td>\n",
       "      <td>2016-05-01</td>\n",
       "      <td>No</td>\n",
       "      <td>One year</td>\n",
       "      <td>No</td>\n",
       "      <td>Bank transfer (automatic)</td>\n",
       "      <td>42.30</td>\n",
       "      <td>1840.75</td>\n",
       "      <td>DSL</td>\n",
       "      <td>Yes</td>\n",
       "      <td>...</td>\n",
       "      <td>No</td>\n",
       "      <td>Male</td>\n",
       "      <td>0</td>\n",
       "      <td>No</td>\n",
       "      <td>No</td>\n",
       "      <td>unknown</td>\n",
       "      <td>2020-02-01</td>\n",
       "      <td>0</td>\n",
       "      <td>1371</td>\n",
       "      <td>3</td>\n",
       "    </tr>\n",
       "    <tr>\n",
       "      <th>4</th>\n",
       "      <td>9237-HQITU</td>\n",
       "      <td>2019-09-01</td>\n",
       "      <td>2019-11-01 00:00:00</td>\n",
       "      <td>Month-to-month</td>\n",
       "      <td>Yes</td>\n",
       "      <td>Electronic check</td>\n",
       "      <td>70.70</td>\n",
       "      <td>151.65</td>\n",
       "      <td>Fiber optic</td>\n",
       "      <td>No</td>\n",
       "      <td>...</td>\n",
       "      <td>No</td>\n",
       "      <td>Female</td>\n",
       "      <td>0</td>\n",
       "      <td>No</td>\n",
       "      <td>No</td>\n",
       "      <td>No</td>\n",
       "      <td>2019-11-01</td>\n",
       "      <td>1</td>\n",
       "      <td>61</td>\n",
       "      <td>0</td>\n",
       "    </tr>\n",
       "  </tbody>\n",
       "</table>\n",
       "<p>5 rows × 24 columns</p>\n",
       "</div>"
      ],
      "text/plain": [
       "   customerID  BeginDate              EndDate            Type  \\\n",
       "0  7590-VHVEG 2020-01-01                   No  Month-to-month   \n",
       "1  5575-GNVDE 2017-04-01                   No        One year   \n",
       "2  3668-QPYBK 2019-10-01  2019-12-01 00:00:00  Month-to-month   \n",
       "3  7795-CFOCW 2016-05-01                   No        One year   \n",
       "4  9237-HQITU 2019-09-01  2019-11-01 00:00:00  Month-to-month   \n",
       "\n",
       "  PaperlessBilling              PaymentMethod  MonthlyCharges  TotalCharges  \\\n",
       "0              Yes           Electronic check           29.85         29.85   \n",
       "1               No               Mailed check           56.95       1889.50   \n",
       "2              Yes               Mailed check           53.85        108.15   \n",
       "3               No  Bank transfer (automatic)           42.30       1840.75   \n",
       "4              Yes           Electronic check           70.70        151.65   \n",
       "\n",
       "  InternetService OnlineSecurity  ... StreamingMovies  gender SeniorCitizen  \\\n",
       "0             DSL             No  ...              No  Female             0   \n",
       "1             DSL            Yes  ...              No    Male             0   \n",
       "2             DSL            Yes  ...              No    Male             0   \n",
       "3             DSL            Yes  ...              No    Male             0   \n",
       "4     Fiber optic             No  ...              No  Female             0   \n",
       "\n",
       "  Partner Dependents MultipleLines  NewEndDate target_column number_days  \\\n",
       "0     Yes         No       unknown  2020-02-01             0          31   \n",
       "1      No         No            No  2020-02-01             0        1036   \n",
       "2      No         No            No  2019-12-01             1          61   \n",
       "3      No         No       unknown  2020-02-01             0        1371   \n",
       "4      No         No            No  2019-11-01             1          61   \n",
       "\n",
       "  number_services  \n",
       "0               1  \n",
       "1               2  \n",
       "2               2  \n",
       "3               3  \n",
       "4               0  \n",
       "\n",
       "[5 rows x 24 columns]"
      ]
     },
     "execution_count": 38,
     "metadata": {},
     "output_type": "execute_result"
    }
   ],
   "source": [
    "# Посмотрим на результат\n",
    "total_table.head()"
   ]
  },
  {
   "cell_type": "markdown",
   "id": "7c04a7ff",
   "metadata": {},
   "source": [
    "### Удаление неинформативных признаков\n",
    "Удалим лишние признаки, которые не будут учавствовать в предсказании моделей."
   ]
  },
  {
   "cell_type": "code",
   "execution_count": 39,
   "id": "e5c107e7",
   "metadata": {},
   "outputs": [],
   "source": [
    "total_table = total_table.drop(['customerID', 'BeginDate', 'EndDate', 'NewEndDate'], axis = 1)"
   ]
  },
  {
   "cell_type": "markdown",
   "id": "5bf1d720",
   "metadata": {},
   "source": [
    "# Исследовательский анализ данных"
   ]
  },
  {
   "cell_type": "markdown",
   "id": "681befb7",
   "metadata": {},
   "source": [
    "Проверим уникальные значения столбцов, которые могут принимать значения из ограниченного диапазона. Для удобства чтения, выведем первые 2 строки таблицы __total_table__."
   ]
  },
  {
   "cell_type": "code",
   "execution_count": 40,
   "id": "f9fd78f0",
   "metadata": {},
   "outputs": [
    {
     "data": {
      "text/html": [
       "<div>\n",
       "<style scoped>\n",
       "    .dataframe tbody tr th:only-of-type {\n",
       "        vertical-align: middle;\n",
       "    }\n",
       "\n",
       "    .dataframe tbody tr th {\n",
       "        vertical-align: top;\n",
       "    }\n",
       "\n",
       "    .dataframe thead th {\n",
       "        text-align: right;\n",
       "    }\n",
       "</style>\n",
       "<table border=\"1\" class=\"dataframe\">\n",
       "  <thead>\n",
       "    <tr style=\"text-align: right;\">\n",
       "      <th></th>\n",
       "      <th>Type</th>\n",
       "      <th>PaperlessBilling</th>\n",
       "      <th>PaymentMethod</th>\n",
       "      <th>MonthlyCharges</th>\n",
       "      <th>TotalCharges</th>\n",
       "      <th>InternetService</th>\n",
       "      <th>OnlineSecurity</th>\n",
       "      <th>OnlineBackup</th>\n",
       "      <th>DeviceProtection</th>\n",
       "      <th>TechSupport</th>\n",
       "      <th>StreamingTV</th>\n",
       "      <th>StreamingMovies</th>\n",
       "      <th>gender</th>\n",
       "      <th>SeniorCitizen</th>\n",
       "      <th>Partner</th>\n",
       "      <th>Dependents</th>\n",
       "      <th>MultipleLines</th>\n",
       "      <th>target_column</th>\n",
       "      <th>number_days</th>\n",
       "      <th>number_services</th>\n",
       "    </tr>\n",
       "  </thead>\n",
       "  <tbody>\n",
       "    <tr>\n",
       "      <th>0</th>\n",
       "      <td>Month-to-month</td>\n",
       "      <td>Yes</td>\n",
       "      <td>Electronic check</td>\n",
       "      <td>29.85</td>\n",
       "      <td>29.85</td>\n",
       "      <td>DSL</td>\n",
       "      <td>No</td>\n",
       "      <td>Yes</td>\n",
       "      <td>No</td>\n",
       "      <td>No</td>\n",
       "      <td>No</td>\n",
       "      <td>No</td>\n",
       "      <td>Female</td>\n",
       "      <td>0</td>\n",
       "      <td>Yes</td>\n",
       "      <td>No</td>\n",
       "      <td>unknown</td>\n",
       "      <td>0</td>\n",
       "      <td>31</td>\n",
       "      <td>1</td>\n",
       "    </tr>\n",
       "    <tr>\n",
       "      <th>1</th>\n",
       "      <td>One year</td>\n",
       "      <td>No</td>\n",
       "      <td>Mailed check</td>\n",
       "      <td>56.95</td>\n",
       "      <td>1889.50</td>\n",
       "      <td>DSL</td>\n",
       "      <td>Yes</td>\n",
       "      <td>No</td>\n",
       "      <td>Yes</td>\n",
       "      <td>No</td>\n",
       "      <td>No</td>\n",
       "      <td>No</td>\n",
       "      <td>Male</td>\n",
       "      <td>0</td>\n",
       "      <td>No</td>\n",
       "      <td>No</td>\n",
       "      <td>No</td>\n",
       "      <td>0</td>\n",
       "      <td>1036</td>\n",
       "      <td>2</td>\n",
       "    </tr>\n",
       "  </tbody>\n",
       "</table>\n",
       "</div>"
      ],
      "text/plain": [
       "             Type PaperlessBilling     PaymentMethod  MonthlyCharges  \\\n",
       "0  Month-to-month              Yes  Electronic check           29.85   \n",
       "1        One year               No      Mailed check           56.95   \n",
       "\n",
       "   TotalCharges InternetService OnlineSecurity OnlineBackup DeviceProtection  \\\n",
       "0         29.85             DSL             No          Yes               No   \n",
       "1       1889.50             DSL            Yes           No              Yes   \n",
       "\n",
       "  TechSupport StreamingTV StreamingMovies  gender  SeniorCitizen Partner  \\\n",
       "0          No          No              No  Female              0     Yes   \n",
       "1          No          No              No    Male              0      No   \n",
       "\n",
       "  Dependents MultipleLines  target_column  number_days  number_services  \n",
       "0         No       unknown              0           31                1  \n",
       "1         No            No              0         1036                2  "
      ]
     },
     "execution_count": 40,
     "metadata": {},
     "output_type": "execute_result"
    }
   ],
   "source": [
    "total_table.head(2)"
   ]
  },
  {
   "cell_type": "code",
   "execution_count": 41,
   "id": "e1605e1a",
   "metadata": {},
   "outputs": [
    {
     "name": "stdout",
     "output_type": "stream",
     "text": [
      "Уникальные значения столбца Type:\n",
      "['Month-to-month' 'One year' 'Two year']\n",
      "\n",
      "Уникальные значения столбца PaperlessBilling:\n",
      "['No' 'Yes']\n",
      "\n",
      "Уникальные значения столбца PaymentMethod:\n",
      "['Bank transfer (automatic)' 'Credit card (automatic)' 'Electronic check'\n",
      " 'Mailed check']\n",
      "\n",
      "Уникальные значения столбца InternetService:\n",
      "['DSL' 'Fiber optic' 'unknown']\n",
      "\n",
      "Уникальные значения столбца OnlineSecurity:\n",
      "['No' 'Yes' 'unknown']\n",
      "\n",
      "Уникальные значения столбца OnlineBackup:\n",
      "['No' 'Yes' 'unknown']\n",
      "\n",
      "Уникальные значения столбца DeviceProtection:\n",
      "['No' 'Yes' 'unknown']\n",
      "\n",
      "Уникальные значения столбца TechSupport:\n",
      "['No' 'Yes' 'unknown']\n",
      "\n",
      "Уникальные значения столбца StreamingTV:\n",
      "['No' 'Yes' 'unknown']\n",
      "\n",
      "Уникальные значения столбца StreamingMovies:\n",
      "['No' 'Yes' 'unknown']\n",
      "\n",
      "Уникальные значения столбца gender:\n",
      "['Female' 'Male']\n",
      "\n",
      "Уникальные значения столбца SeniorCitizen:\n",
      "[0 1]\n",
      "\n",
      "Уникальные значения столбца Partner:\n",
      "['No' 'Yes']\n",
      "\n",
      "Уникальные значения столбца Dependents:\n",
      "['No' 'Yes']\n",
      "\n",
      "Уникальные значения столбца MultipleLines:\n",
      "['No' 'Yes' 'unknown']\n",
      "\n",
      "Уникальные значения столбца number_services:\n",
      "[0 1 2 3 4 5 6]\n",
      "\n"
     ]
    }
   ],
   "source": [
    "uniq_columns = ['Type', 'PaperlessBilling', 'PaymentMethod', 'InternetService', 'OnlineSecurity', 'OnlineBackup',\n",
    "                'DeviceProtection', 'TechSupport', 'StreamingTV', 'StreamingMovies', 'gender', 'SeniorCitizen',\n",
    "                'Partner', 'Dependents', 'MultipleLines', 'number_services']\n",
    "\n",
    "for i in uniq_columns:\n",
    "    print(f'Уникальные значения столбца {i}:')\n",
    "    print(np.sort(total_table[i].unique()))\n",
    "    print()"
   ]
  },
  {
   "cell_type": "markdown",
   "id": "ab096586",
   "metadata": {},
   "source": [
    "Разобьём клиентов на две группы по целевому признаку и будем строить по 2 гистограммы для каждого признака."
   ]
  },
  {
   "cell_type": "code",
   "execution_count": 42,
   "id": "42b10a5d",
   "metadata": {},
   "outputs": [],
   "source": [
    "# Первая группа клиентов\n",
    "total_table_0 = total_table[total_table['target_column'] == 0]\n",
    "# Вторая группа клиентов\n",
    "total_table_1 = total_table[total_table['target_column'] == 1]"
   ]
  },
  {
   "cell_type": "code",
   "execution_count": 43,
   "id": "5eb50874",
   "metadata": {
    "scrolled": false
   },
   "outputs": [
    {
     "data": {
      "image/png": "[encoded data removed]",
      "text/plain": [
       "<Figure size 1152x4320 with 19 Axes>"
      ]
     },
     "metadata": {},
     "output_type": "display_data"
    }
   ],
   "source": [
    "# Определим полотно и установим его размеры\n",
    "fig = plt.figure()\n",
    "fig.set_size_inches(16, 60)\n",
    "\n",
    "for i in range(len(uniq_columns)):\n",
    "    ax = fig.add_subplot(10, 2, i+1)\n",
    "    total_table_0.groupby(f'{uniq_columns[i]}')[uniq_columns[i]].count().plot.bar(label = 'Клиент остался')\n",
    "    total_table_1.groupby(f'{uniq_columns[i]}')[uniq_columns[i]].count().plot.bar(alpha=0.4,\n",
    "                                                                                  label = 'Клиент ушёл',\n",
    "                                                                                  color='green')\n",
    "    plt.title(f'Распределение целевых групп клиентов по признаку {uniq_columns[i]}')\n",
    "    plt.xlabel(f'Уникальные значения признака {uniq_columns[i]}')\n",
    "    plt.ylabel('Количество клиентов')\n",
    "    plt.legend()\n",
    "    \n",
    "ax17 = fig.add_subplot(10, 2, 17)\n",
    "total_table_0['MonthlyCharges'].hist(bins=20, label = 'Клиент остался')\n",
    "total_table_1['MonthlyCharges'].hist(bins=20, label = 'Клиент ушёл', alpha=0.3, color='green')\n",
    "plt.title('Гистограмма распределения целевых групп клиентов по признаку MonthlyCharges')\n",
    "plt.xlabel('Ежемесячные траты на услуги')\n",
    "plt.ylabel('Количество клиентов')\n",
    "plt.legend()\n",
    "\n",
    "ax18 = fig.add_subplot(10, 2, 18)\n",
    "total_table_0['TotalCharges'].hist(bins=20, label = 'Клиент остался')\n",
    "total_table_1['TotalCharges'].hist(bins=20, label = 'Клиент ушёл', alpha=0.3, color='green')\n",
    "plt.title('Гистограмма распределения целевых групп клиентов по признаку TotalCharges')\n",
    "plt.xlabel('Всего потрачено денег на услуги')\n",
    "plt.ylabel('Количество клиентов')\n",
    "plt.legend()\n",
    "\n",
    "ax19 = fig.add_subplot(10, 1, 10)\n",
    "total_table_0['number_days'].hist(bins=20, label = 'Клиент остался')\n",
    "total_table_1['number_days'].hist(bins=20, label = 'Клиент ушёл', alpha=0.3, color='green')\n",
    "plt.title('Гистограмма распределения целевых групп клиентов по признаку number_days')\n",
    "plt.xlabel('Сколько дней клиент пользовался услугами')\n",
    "plt.ylabel('Количество клиентов')\n",
    "plt.legend()\n",
    "\n",
    "fig.tight_layout()\n",
    "plt.show()"
   ]
  },
  {
   "cell_type": "markdown",
   "id": "14cd5680",
   "metadata": {},
   "source": [
    "## Вывод по исследовательскому анализу данных\n",
    "+ Аномалий в данных нет.\n",
    "+ Неявных дубликатов в данных нет.\n",
    "+ Доля клиентов которые остаются значительно больше, чем тех которые уходят.\n",
    "+ Ситуация с договорами (__Type__) следующая:\n",
    "    + Клиенты которые ушли в основном заключают помесячный договор, крайне редко годовой и ещё реже двухгодовой.\n",
    "    + У клиентов которые остались, суммарное количество годовых и двухгодовых договоров, превышает количество помесячных.\n",
    "    + Таким образом, если клиент сразу заключил договор на год и более, то он скорее всего останется.\n",
    "+ Ситуация с безналичным расчётом (__PaperlessBilling__) следующая:\n",
    "    + Если клиент не использует безналичный расчёт, то он скорее всего останется.\n",
    "    + Если использует, то тут нельзя однозначно сказать. Как ушедшие так и оставшиеся клиенты используют одинаково активно.\n",
    "+ Ситуация со способом оплаты (__PaymentMethod__) следующая:\n",
    "    + Если используется любой способ оплаты кроме электронного чека, то клиент скорее всего останется.\n",
    "    + Если используется  электронный чек, то тут нельзя однозначно сказать.\n",
    "+ Ситуация с типом кабеля (__InternetService__) следующая:\n",
    "    + Если используется телефонная линия (DSL), то клиент скорее всего останется.\n",
    "    + Если используется оптоволоконный кабель (Fiber optic), то тут нельзя однозначно сказать.\n",
    "+ Ситуация с дополнительными услугами (__OnlineSecurity, OnlineBackup, DeviceProtection, TechSupport__) следующая:\n",
    "    + Если клиент пользуется услугами, то он скорее всего останется.\n",
    "    + Если клиент не пользуется услугами, то тут нельзя однозначно сказать.\n",
    "+ Ситуация с дополнительными услугами __StreamingTV__ и __StreamingMovies__ примерно одинаковая и не зависит от факта ухода клиента.\n",
    "+ Пол клиента (__gender__) никак не влияет на факт ухода клиента.\n",
    "+ Ситуация с возрастом клиента (__SeniorCitizen__):\n",
    "    + Если клиент не является пенсионером, то он скорее всего останется.\n",
    "    + Если клиент является пенсионером, то тут нельзя однозначно сказать.\n",
    "+ Наличие супруга(и) (__Partner__) слабо влияет на факт ухода клиента.\n",
    "+ Наличие иждивенцев (__Dependents__) слабо влияет на факт ухода клиента.\n",
    "+ Наличие возможности ведения параллельных линий во время звонка (__MultipleLines__) никак не влияет на факт ухода клиента.\n",
    "+ Количество подключённых услуг (__number_services__) мало влияет на клиентов, которые решили уйти.\n",
    "+ Около 30% клиентов которые остаются, вообще не пользуются услугами.\n",
    "+ Распределение по ежемесячным тратам и по общим расходам для обеих групп клиентов одинаковое. Сильно выделяются только ежемесячные расходы в диапазоне от 0 до 25 для клиентов, которые остаются.\n",
    "+ В первые 100 дней клиентов остаётся и уходит примерно поровну.\n",
    "+ После 2 лет пользования услугами оператора связи, клиенты почти не уходят."
   ]
  },
  {
   "cell_type": "markdown",
   "id": "e36d242c",
   "metadata": {},
   "source": [
    "# Разбивка данных на выборки\n",
    "Поскольку мы будем использовать кросс-валидацию для обучения и предсказания моделей, то разбивку данных будем проводить только на обучающую и тестовую выборки (без валидационной) в следующем соотношении:\n",
    "+ Обучающая выборка — 75%\n",
    "+ Тестовая выборка — 25%"
   ]
  },
  {
   "cell_type": "code",
   "execution_count": 44,
   "id": "9b3dff64",
   "metadata": {},
   "outputs": [],
   "source": [
    "features = total_table.drop(['target_column'] , axis=1)\n",
    "target = total_table['target_column']\n",
    "\n",
    "features_train, features_test, target_train, target_test = train_test_split(\n",
    "    features,\n",
    "    target,\n",
    "    shuffle=True,\n",
    "    test_size=0.25,\n",
    "    random_state=141122,\n",
    "    stratify=target)"
   ]
  },
  {
   "cell_type": "markdown",
   "id": "2eafebeb",
   "metadata": {},
   "source": [
    "# Кодирование категориальных признаков\n",
    "Будем использовать два типа кодировок:\n",
    "+ __OHE или OneHotEncoding__ для линейной модели (модель Логистической регрессии)\n",
    "+ __OE или OrdinalEncoding__ для моделей на основе деревьев (Случайный лес, CatBoost, LightGBM)"
   ]
  },
  {
   "cell_type": "code",
   "execution_count": 45,
   "id": "31414587",
   "metadata": {},
   "outputs": [
    {
     "data": {
      "text/plain": [
       "True"
      ]
     },
     "execution_count": 45,
     "metadata": {},
     "output_type": "execute_result"
    }
   ],
   "source": [
    "# Проведём кодирование методом OHE или OneHotEncoding\n",
    "features_train_logreg = pd.get_dummies(features_train, drop_first=True)\n",
    "features_test_logreg = pd.get_dummies(features_test, drop_first=True)\n",
    "\n",
    "# Сравним списки названий признаков для обучающей и тестовой выборок\n",
    "list(features_train_logreg.columns) == list(features_test_logreg.columns)"
   ]
  },
  {
   "cell_type": "code",
   "execution_count": 46,
   "id": "2184c6f8",
   "metadata": {},
   "outputs": [],
   "source": [
    "# Кодирование методом OE или OrdinalEncoding\n",
    "\n",
    "# Подготовим список категориальных признаков\n",
    "non_categorical_features = ['MonthlyCharges', 'TotalCharges', 'SeniorCitizen',\n",
    "                            'target_column', 'number_days', 'number_services']\n",
    "categorical_features = list(total_table.drop(non_categorical_features, axis = 1).columns)\n",
    "\n",
    "# Проведём кодирование\n",
    "encoder = OrdinalEncoder()\n",
    "features_train[categorical_features] = encoder.fit_transform(features_train[categorical_features])\n",
    "features_test[categorical_features] = encoder.fit_transform(features_test[categorical_features])"
   ]
  },
  {
   "cell_type": "markdown",
   "id": "5291e36d",
   "metadata": {},
   "source": [
    "# Проверка признаков на мультиколлинеарность\n",
    "Рассмотрим мультиколлинеарность для численных признаков `MonthlyCharges`, `TotalCharges` и `number_days`."
   ]
  },
  {
   "cell_type": "code",
   "execution_count": 47,
   "id": "4a2be0c5",
   "metadata": {},
   "outputs": [
    {
     "data": {
      "text/html": [
       "<div>\n",
       "<style scoped>\n",
       "    .dataframe tbody tr th:only-of-type {\n",
       "        vertical-align: middle;\n",
       "    }\n",
       "\n",
       "    .dataframe tbody tr th {\n",
       "        vertical-align: top;\n",
       "    }\n",
       "\n",
       "    .dataframe thead th {\n",
       "        text-align: right;\n",
       "    }\n",
       "</style>\n",
       "<table border=\"1\" class=\"dataframe\">\n",
       "  <thead>\n",
       "    <tr style=\"text-align: right;\">\n",
       "      <th></th>\n",
       "      <th>MonthlyCharges</th>\n",
       "      <th>TotalCharges</th>\n",
       "      <th>number_days</th>\n",
       "    </tr>\n",
       "  </thead>\n",
       "  <tbody>\n",
       "    <tr>\n",
       "      <th>MonthlyCharges</th>\n",
       "      <td>1.000000</td>\n",
       "      <td>0.650119</td>\n",
       "      <td>0.244847</td>\n",
       "    </tr>\n",
       "    <tr>\n",
       "      <th>TotalCharges</th>\n",
       "      <td>0.650119</td>\n",
       "      <td>1.000000</td>\n",
       "      <td>0.825082</td>\n",
       "    </tr>\n",
       "    <tr>\n",
       "      <th>number_days</th>\n",
       "      <td>0.244847</td>\n",
       "      <td>0.825082</td>\n",
       "      <td>1.000000</td>\n",
       "    </tr>\n",
       "  </tbody>\n",
       "</table>\n",
       "</div>"
      ],
      "text/plain": [
       "                MonthlyCharges  TotalCharges  number_days\n",
       "MonthlyCharges        1.000000      0.650119     0.244847\n",
       "TotalCharges          0.650119      1.000000     0.825082\n",
       "number_days           0.244847      0.825082     1.000000"
      ]
     },
     "execution_count": 47,
     "metadata": {},
     "output_type": "execute_result"
    }
   ],
   "source": [
    "features_train_logreg[['MonthlyCharges', 'TotalCharges', 'number_days']].corr()"
   ]
  },
  {
   "cell_type": "code",
   "execution_count": 48,
   "id": "938619fd",
   "metadata": {},
   "outputs": [
    {
     "data": {
      "text/html": [
       "<div>\n",
       "<style scoped>\n",
       "    .dataframe tbody tr th:only-of-type {\n",
       "        vertical-align: middle;\n",
       "    }\n",
       "\n",
       "    .dataframe tbody tr th {\n",
       "        vertical-align: top;\n",
       "    }\n",
       "\n",
       "    .dataframe thead th {\n",
       "        text-align: right;\n",
       "    }\n",
       "</style>\n",
       "<table border=\"1\" class=\"dataframe\">\n",
       "  <thead>\n",
       "    <tr style=\"text-align: right;\">\n",
       "      <th></th>\n",
       "      <th>MonthlyCharges</th>\n",
       "      <th>TotalCharges</th>\n",
       "      <th>number_days</th>\n",
       "    </tr>\n",
       "  </thead>\n",
       "  <tbody>\n",
       "    <tr>\n",
       "      <th>MonthlyCharges</th>\n",
       "      <td>1.000000</td>\n",
       "      <td>0.653942</td>\n",
       "      <td>0.252465</td>\n",
       "    </tr>\n",
       "    <tr>\n",
       "      <th>TotalCharges</th>\n",
       "      <td>0.653942</td>\n",
       "      <td>1.000000</td>\n",
       "      <td>0.828098</td>\n",
       "    </tr>\n",
       "    <tr>\n",
       "      <th>number_days</th>\n",
       "      <td>0.252465</td>\n",
       "      <td>0.828098</td>\n",
       "      <td>1.000000</td>\n",
       "    </tr>\n",
       "  </tbody>\n",
       "</table>\n",
       "</div>"
      ],
      "text/plain": [
       "                MonthlyCharges  TotalCharges  number_days\n",
       "MonthlyCharges        1.000000      0.653942     0.252465\n",
       "TotalCharges          0.653942      1.000000     0.828098\n",
       "number_days           0.252465      0.828098     1.000000"
      ]
     },
     "execution_count": 48,
     "metadata": {},
     "output_type": "execute_result"
    }
   ],
   "source": [
    "features_test_logreg[['MonthlyCharges', 'TotalCharges', 'number_days']].corr()"
   ]
  },
  {
   "cell_type": "markdown",
   "id": "cf3214a4",
   "metadata": {},
   "source": [
    "Есть высокая корреляция (>0.8) между признаками `TotalCharges` и `number_days`. Удалим признак `TotalCharges`, так как уровень его корреляции с признаком `MonthlyCharges` тоже близок к высокому."
   ]
  },
  {
   "cell_type": "code",
   "execution_count": 49,
   "id": "38550304",
   "metadata": {},
   "outputs": [],
   "source": [
    "features_train_logreg = features_train_logreg.drop('TotalCharges', axis = 1)\n",
    "features_test_logreg = features_test_logreg.drop('TotalCharges', axis = 1)"
   ]
  },
  {
   "cell_type": "markdown",
   "id": "3e2ece5a",
   "metadata": {},
   "source": [
    "# Масштабирование признаков\n",
    "Выполним масштабирование признаков только для линейной модели."
   ]
  },
  {
   "cell_type": "code",
   "execution_count": 50,
   "id": "1c95a0ee",
   "metadata": {},
   "outputs": [],
   "source": [
    "pd.options.mode.chained_assignment = None\n",
    "scaler = StandardScaler()\n",
    "scaler.fit(features_train_logreg)\n",
    "features_train_logreg = scaler.transform(features_train_logreg)\n",
    "features_test_logreg = scaler.transform(features_test_logreg)"
   ]
  },
  {
   "cell_type": "markdown",
   "id": "ba77c99c",
   "metadata": {},
   "source": [
    "# Обучение и выбор лучшей модели\n",
    "## Модель — Логистическая регрессия"
   ]
  },
  {
   "cell_type": "code",
   "execution_count": 51,
   "id": "7851cb42",
   "metadata": {
    "scrolled": false
   },
   "outputs": [
    {
     "name": "stdout",
     "output_type": "stream",
     "text": [
      "Модель Логистическая регрессия:\n",
      "Лучшее значение AUC-ROC: 0.842\n",
      "\n",
      "Гиперпараметры:\n",
      "solver  : liblinear\n",
      "max_iter: 100\n",
      "C       : 1.0\n"
     ]
    }
   ],
   "source": [
    "# Зададим гиперпараметры для модели Логистической регрессии:\n",
    "# solver — алгоритм построения модели\n",
    "# max_iter — количество итераций обучения (по умолчанию 100)\n",
    "# C — константа регуляризации (по умолчанию 1.0)\n",
    "parameters = {'solver': ('lbfgs', 'liblinear'),\n",
    "              'max_iter': range(100, 1001, 100),\n",
    "              'C': (1.0, 1.5, 2.0, 2.5, 3.0)}\n",
    "\n",
    "# Обучим модель и подберём лучшие гиперпараметры через GridSearchCV\n",
    "model = LogisticRegression(random_state=141122, class_weight='balanced')\n",
    "grid = GridSearchCV(estimator = model, param_grid = parameters, scoring='roc_auc', cv=3)\n",
    "grid.fit(features_train_logreg, target_train)\n",
    "logreg_score = grid.best_score_\n",
    "logreg_param = grid.best_params_\n",
    "\n",
    "print('Модель Логистическая регрессия:')\n",
    "print(f'Лучшее значение AUC-ROC: {round(logreg_score, 3)}')\n",
    "print()\n",
    "print('Гиперпараметры:')\n",
    "print(f'solver  : {logreg_param[\"solver\"]}')\n",
    "print(f'max_iter: {logreg_param[\"max_iter\"]}')\n",
    "print(f'C       : {logreg_param[\"C\"]}')"
   ]
  },
  {
   "cell_type": "markdown",
   "id": "2a34f25b",
   "metadata": {},
   "source": [
    "## Модель — Случайный лес"
   ]
  },
  {
   "cell_type": "code",
   "execution_count": 52,
   "id": "89034811",
   "metadata": {},
   "outputs": [
    {
     "name": "stdout",
     "output_type": "stream",
     "text": [
      "Модель Случайный лес:\n",
      "Лучшее значение AUC-ROC: 0.851\n",
      "\n",
      "Гиперпараметры:\n",
      "max_depth   : 7\n",
      "n_estimators: 25\n"
     ]
    }
   ],
   "source": [
    "# Зададим гиперпараметры для модели Случайного леса:\n",
    "# n_estimators — количество деревьев\n",
    "# max_depth — глубина дерева\n",
    "parameters = {'n_estimators': range(1, 31, 3),\n",
    "              'max_depth': range(1, 11, 1)}\n",
    "\n",
    "# Обучим модель и подберём лучшие гиперпараметры через GridSearchCV\n",
    "model = RandomForestClassifier(random_state=141122, class_weight='balanced')\n",
    "grid = GridSearchCV(model, parameters, scoring='roc_auc', cv=3)\n",
    "grid.fit(features_train, target_train)\n",
    "forest_score = grid.best_score_\n",
    "forest_param = grid.best_params_\n",
    "\n",
    "print('Модель Случайный лес:')\n",
    "print(f'Лучшее значение AUC-ROC: {round(forest_score, 3)}')\n",
    "print()\n",
    "print('Гиперпараметры:')\n",
    "print(f'max_depth   : {forest_param[\"max_depth\"]}')\n",
    "print(f'n_estimators: {forest_param[\"n_estimators\"]}')"
   ]
  },
  {
   "cell_type": "markdown",
   "id": "61aec755",
   "metadata": {},
   "source": [
    "## Модель — CatBoost"
   ]
  },
  {
   "cell_type": "code",
   "execution_count": 53,
   "id": "690dc2e6",
   "metadata": {},
   "outputs": [
    {
     "name": "stdout",
     "output_type": "stream",
     "text": [
      "Модель градиентного бустинга CatBoost:\n",
      "Лучшее значение AUC-ROC: 0.896\n",
      "\n",
      "Гиперпараметры:\n",
      "iterations   : 300\n",
      "learning_rate: 0.1\n"
     ]
    }
   ],
   "source": [
    "# Зададим гиперпараметры для модели градиентного бустинга CatBoost:\n",
    "parameters = {'iterations': range(100, 301, 100),\n",
    "              'learning_rate': (0.1, 0.3, 0.5)}\n",
    "\n",
    "# Обучим модель и подберём лучшие гиперпараметры через GridSearchCV\n",
    "model = CatBoostClassifier(random_state=141122, verbose=False)\n",
    "grid = GridSearchCV(model, parameters, scoring='roc_auc', cv=3)\n",
    "grid.fit(features_train, target_train)\n",
    "cat_score = grid.best_score_\n",
    "cat_param = grid.best_params_\n",
    "\n",
    "print('Модель градиентного бустинга CatBoost:')\n",
    "print(f'Лучшее значение AUC-ROC: {round(cat_score, 3)}')\n",
    "print()\n",
    "print('Гиперпараметры:')\n",
    "print(f'iterations   : {cat_param[\"iterations\"]}')\n",
    "print(f'learning_rate: {cat_param[\"learning_rate\"]}')"
   ]
  },
  {
   "cell_type": "markdown",
   "id": "e0224a72",
   "metadata": {},
   "source": [
    "# Модель — LightGBM"
   ]
  },
  {
   "cell_type": "code",
   "execution_count": 54,
   "id": "7b00d2f5",
   "metadata": {},
   "outputs": [
    {
     "name": "stdout",
     "output_type": "stream",
     "text": [
      "Модель градиентного бустинга LightGBM:\n",
      "Лучшее значение AUC-ROC: 0.872\n",
      "\n",
      "Гиперпараметры:\n",
      "objective     : regression\n",
      "num_iterations: 100\n",
      "learning_rate : 0.1\n"
     ]
    }
   ],
   "source": [
    "# Зададим гиперпараметры для модели градиентного бустинга LightGBM:\n",
    "parameters = {'objective': ('regression', 'regression_l1', 'huber'),\n",
    "              'num_iterations': range(100, 301, 100),\n",
    "              'learning_rate': (0.1, 0.3, 0.5)}\n",
    "\n",
    "# Обучим модель и подберём лучшие гиперпараметры через GridSearchCV\n",
    "model = LGBMClassifier(random_state=141122, verbose=-1)\n",
    "grid = GridSearchCV(model, parameters, scoring='roc_auc', cv=3)\n",
    "grid.fit(features_train, target_train)\n",
    "gbm_score = grid.best_score_\n",
    "gbm_param = grid.best_params_\n",
    "\n",
    "print('Модель градиентного бустинга LightGBM:')\n",
    "print(f'Лучшее значение AUC-ROC: {round(gbm_score, 3)}')\n",
    "print()\n",
    "print('Гиперпараметры:')\n",
    "print(f'objective     : {gbm_param[\"objective\"]}')\n",
    "print(f'num_iterations: {gbm_param[\"num_iterations\"]}')\n",
    "print(f'learning_rate : {gbm_param[\"learning_rate\"]}')"
   ]
  },
  {
   "cell_type": "markdown",
   "id": "20b6b858",
   "metadata": {},
   "source": [
    "__Вывод:__ На тренировочной выборке лучший AUC-ROC = 0.896 показала модель CatBoost с гиперпараметрами iterations = 300 и learning_rate = 0.1"
   ]
  },
  {
   "cell_type": "markdown",
   "id": "f18e7beb",
   "metadata": {},
   "source": [
    "## Проверка лучшей модели на тестовой выборке\n",
    "Модель градиентного бустинга __CatBoost__ получила лучшие показатели метрики качества. Проверим её на тестовой выборке."
   ]
  },
  {
   "cell_type": "code",
   "execution_count": 55,
   "id": "a8f063f8",
   "metadata": {},
   "outputs": [
    {
     "name": "stdout",
     "output_type": "stream",
     "text": [
      "Модель градиентного бустинга CatBoost на тестовой выборке:\n",
      "AUC-ROC : 0.912\n",
      "accuracy: 0.877\n"
     ]
    }
   ],
   "source": [
    "model = CatBoostClassifier(random_state=141122, iterations=300, learning_rate = 0.1, verbose=False)\n",
    "model.fit(features_train, target_train)\n",
    "predicted_test = model.predict(features_test)\n",
    "accuracy = accuracy_score(target_test, predicted_test)\n",
    "\n",
    "probabilities_test = model.predict_proba(features_test)\n",
    "probabilities_one_test = probabilities_test[:, 1]\n",
    "auc_roc = roc_auc_score(target_test, probabilities_one_test)\n",
    "\n",
    "print('Модель градиентного бустинга CatBoost на тестовой выборке:')\n",
    "print(f'AUC-ROC : {round(auc_roc, 3)}')\n",
    "print(f'accuracy: {round(accuracy, 3)}')"
   ]
  },
  {
   "cell_type": "markdown",
   "id": "73db3ee4",
   "metadata": {},
   "source": [
    "## Сравнение работы лучшей и базисной модели\n",
    "В качестве базисной модели для сравнения, будет выступать __DummyClassifier__, которая делает прогнозы на основе простых правил."
   ]
  },
  {
   "cell_type": "code",
   "execution_count": 56,
   "id": "f8fa97a5",
   "metadata": {},
   "outputs": [
    {
     "name": "stdout",
     "output_type": "stream",
     "text": [
      "Базисная модель DummyClassifier на тестовой выборке:\n",
      "AUC-ROC: 0.5\n",
      "accuracy: 0.734\n"
     ]
    }
   ],
   "source": [
    "model_dummy = DummyClassifier()\n",
    "model_dummy.fit(features_train, target_train)\n",
    "predicted_dummy = model_dummy.predict(features_test)\n",
    "accuracy_dummy = accuracy_score(target_test, predicted_dummy)\n",
    "\n",
    "probabilities_test_dummy = model_dummy.predict_proba(features_test)\n",
    "probabilities_one_test_dummy = probabilities_test_dummy[:, 1]\n",
    "auc_roc_dummy = roc_auc_score(target_test, probabilities_one_test_dummy)\n",
    "\n",
    "print('Базисная модель DummyClassifier на тестовой выборке:')\n",
    "print(f'AUC-ROC: {round(auc_roc_dummy, 3)}')\n",
    "print(f'accuracy: {round(accuracy_dummy, 3)}')"
   ]
  },
  {
   "cell_type": "markdown",
   "id": "631e8584",
   "metadata": {},
   "source": [
    "# Общий вывод\n",
    "Модель градиентного бустинга __CatBoost__ дала лучшее значение ключевой метрики AUC-ROC и показала её значение на тестовой выборке __0.912__ при значении гиперпараметров __iterations=300__ и __learning_rate = 0.1__"
   ]
  },
  {
   "cell_type": "markdown",
   "id": "1828d8a8",
   "metadata": {},
   "source": [
    "# Отчёт по проекту\n",
    "## Краткое описание проекта\n",
    "Оператор связи «Ниединогоразрыва.ком» хочет научиться прогнозировать отток клиентов. Нужно построить модель, которая по заданным признакам будет предсказывать уйдёт клиент или останется. Признаки представляют собой персональные данные части клиентов и собраны в четырёх различных таблицах. Основной метрикой качества будет AUC-ROC.\n",
    "\n",
    "## Предобработка данных и их подготовка для обучения моделей\n",
    "В ходе обработки данных было сделано следующее:\n",
    "+ Четыре исходные таблицы были объединены в одну по общему признаку `customerID`;\n",
    "+ Обработаны пропуски, образовавшиеся после объединения таблиц;\n",
    "+ Изменён тип данных у некоторых признаков;\n",
    "+ Из исходных признаков были сгенерированы два дополнительных признака и целевой признак;\n",
    "+ Удалены некоторые признаки;\n",
    "+ Проведён исследовательский анализ данных;\n",
    "+ Проведена разбивка данных на обучающую и тестовую выборки;\n",
    "+ Размер тестовой выборки составил 25%;\n",
    "+ Закодированы категориальные признаки методами OneHotEncoding для линейной модели и OrdinalEncoding для всех остальных моделей;\n",
    "+ Исключена мультикорреляция числовых признаков для линейной модели;\n",
    "+ Выполнено масштабирование признаков для линейной модели.\n",
    "\n",
    "## Перечень признаков, на которых обучались модели\n",
    "\n",
    "При обучении моделей использовались __бинарные признаки__:\n",
    "+ `Type` — тип оплаты (ежемесячный, годовой и т.д.)\n",
    "+ `PaperlessBilling` — безналичный расчёт\n",
    "+ `PaymentMethod` — способ оплаты\n",
    "+ `InternetService` — тип кабеля, которым подключён клиент\n",
    "+ `OnlineSecurity` — подключена ли услуга блокировки небезопасных сайтов\n",
    "+ `OnlineBackup` — подключена ли услуга облачного хранилища\n",
    "+ `DeviceProtection` — подключена ли услуга предоставления антивируса\n",
    "+ `TechSupport` — подключена ли услуга выделенной линии технической поддержки\n",
    "+ `StreamingTV` — подключена ли услуга стримингового телевидения\n",
    "+ `StreamingMovies` — подключена ли услуга каталога фильмов\n",
    "+ `gender` — пол клиента\n",
    "+ `SeniorCitizen` — является ли клиент пенсионером по возрасту\n",
    "+ `Partner` — наличие супруга(и)\n",
    "+ `Dependents` — наличие иждивенцев\n",
    "+ `MultipleLines` — наличие возможности ведения параллельных линий во время звонка\n",
    "+ `number_services` — количество услуг, которыми пользуется клиент\n",
    "\n",
    "__Численные признаки__:\n",
    "+ `MonthlyCharges` — ежемесячные траты на услуги\n",
    "+ `TotalCharges` — всего потрачено денег на услуги\n",
    "+ `number_days` — сколько дней клиент пользовался услугами\n",
    "\n",
    "__Целевой признак__:\n",
    "+ `target_column` — факт ухода клиента (0 - клиент остался; 1 - клиент ушёл)\n",
    "\n",
    "__Также стоит отметить__, что численный признак `TotalCharges` не использовался при обучении линейной модели, по причине высокой корреляции с другими численными признаками.\n",
    "\n",
    "## Итоговая модель\n",
    "В ходе выполнения проекта были рассмотрены 4 модели: Логистическая регрессия, Случайный лес, градиентные бустинги CatBoost и LightGBM. Обучение каждой модели проводилось с использованием кросс-валидации, а перебор гиперпараметров осуществлялся с помощью GridSearchCV. __Лучшее значение метрики AUC-ROC дала модель градиентного бустинга CatBoost__ со следующими показателями:\n",
    "+ AUC-ROC = 0.896 на обучающей выборке\n",
    "+ AUC-ROC = 0.912 на тестовой выборке\n",
    "+ Значение гиперпараметра iterations = 300\n",
    "+ Значение гиперпараметра learning_rate = 0.1\n",
    "\n",
    "__Также стоит отметить__, что AUC-ROC у модели CatBoost на тренировочной выборке был лучше чем у других моделей, не более чем на 6%.\n",
    "\n",
    "## Отличия от исходного плана работ\n",
    "Проект выполнен в строгом соответствии с исходным планом работ, за исключением исследования баланса классов целевого признака. Данное исследование не проводилось, но частично отражено в исследовательском анализе данных.\n",
    "\n",
    "## Ключевые этапы проекта\n",
    "Весь проект можно свести к нескольким ключевым этапам, каждый из которых важен в равной степени:\n",
    "+ Первичный обзор данных\n",
    "+ Предобработка данных\n",
    "+ Исследовательский анализ данных\n",
    "+ Подготовка данных к обучению моделей\n",
    "+ Обучение моделей"
   ]
  }
 ],
 "metadata": {
  "ExecuteTimeLog": [
   {
    "duration": 43,
    "start_time": "2022-11-17T12:29:19.308Z"
   },
   {
    "duration": 386,
    "start_time": "2022-11-17T12:29:20.789Z"
   },
   {
    "duration": 97,
    "start_time": "2022-11-17T12:29:21.177Z"
   },
   {
    "duration": 18,
    "start_time": "2022-11-17T12:29:21.413Z"
   },
   {
    "duration": 16,
    "start_time": "2022-11-17T12:29:21.566Z"
   },
   {
    "duration": 3,
    "start_time": "2022-11-17T12:29:21.701Z"
   },
   {
    "duration": 4,
    "start_time": "2022-11-17T12:29:21.845Z"
   },
   {
    "duration": 12,
    "start_time": "2022-11-17T12:29:21.997Z"
   },
   {
    "duration": 10,
    "start_time": "2022-11-17T12:29:22.286Z"
   },
   {
    "duration": 11,
    "start_time": "2022-11-17T12:29:22.429Z"
   },
   {
    "duration": 6,
    "start_time": "2022-11-17T12:29:22.580Z"
   },
   {
    "duration": 4,
    "start_time": "2022-11-17T12:29:22.734Z"
   },
   {
    "duration": 14,
    "start_time": "2022-11-17T12:29:22.870Z"
   },
   {
    "duration": 10,
    "start_time": "2022-11-17T12:29:23.173Z"
   },
   {
    "duration": 8,
    "start_time": "2022-11-17T12:29:23.333Z"
   },
   {
    "duration": 6,
    "start_time": "2022-11-17T12:29:23.501Z"
   },
   {
    "duration": 6,
    "start_time": "2022-11-17T12:29:23.662Z"
   },
   {
    "duration": 10,
    "start_time": "2022-11-17T12:29:23.821Z"
   },
   {
    "duration": 9,
    "start_time": "2022-11-17T12:29:24.149Z"
   },
   {
    "duration": 8,
    "start_time": "2022-11-17T12:29:24.308Z"
   },
   {
    "duration": 4,
    "start_time": "2022-11-17T12:29:24.477Z"
   },
   {
    "duration": 4,
    "start_time": "2022-11-17T12:29:24.637Z"
   },
   {
    "duration": 11,
    "start_time": "2022-11-17T12:29:24.789Z"
   }
  ],
  "kernelspec": {
   "display_name": "Python 3 (ipykernel)",
   "language": "python",
   "name": "python3"
  },
  "language_info": {
   "codemirror_mode": {
    "name": "ipython",
    "version": 3
   },
   "file_extension": ".py",
   "mimetype": "text/x-python",
   "name": "python",
   "nbconvert_exporter": "python",
   "pygments_lexer": "ipython3",
   "version": "3.9.7"
  },
  "toc": {
   "base_numbering": 1,
   "nav_menu": {},
   "number_sections": true,
   "sideBar": true,
   "skip_h1_title": true,
   "title_cell": "Table of Contents",
   "title_sidebar": "Contents",
   "toc_cell": false,
   "toc_position": {},
   "toc_section_display": true,
   "toc_window_display": false
  }
 },
 "nbformat": 4,
 "nbformat_minor": 5
}
